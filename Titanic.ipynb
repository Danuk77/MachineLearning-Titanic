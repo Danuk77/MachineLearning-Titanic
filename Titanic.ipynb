{
 "cells": [
  {
   "attachments": {},
   "cell_type": "markdown",
   "metadata": {},
   "source": [
    "## Notebook for kaggle competition -> Titanic - Machine Learning from Disaster\n",
    "### Solution author -> Danuk Sanujaya Udagama"
   ]
  },
  {
   "cell_type": "code",
   "execution_count": 1,
   "metadata": {},
   "outputs": [
    {
     "name": "stderr",
     "output_type": "stream",
     "text": [
      "/usr/local/lib/python3.9/site-packages/scipy/__init__.py:146: UserWarning: A NumPy version >=1.16.5 and <1.23.0 is required for this version of SciPy (detected version 1.25.2\n",
      "  warnings.warn(f\"A NumPy version >={np_minversion} and <{np_maxversion}\"\n"
     ]
    }
   ],
   "source": [
    "# Importing libraries\n",
    "import numpy as np\n",
    "import matplotlib.pyplot as plt\n",
    "import sklearn\n",
    "from sklearn import preprocessing\n",
    "import pandas as pd\n",
    "from tabulate import tabulate\n",
    "\n",
    "from sklearn.metrics import roc_curve\n",
    "from sklearn.metrics import roc_auc_score\n",
    "from sklearn.metrics import precision_recall_curve\n",
    "from sklearn.model_selection import StratifiedKFold\n",
    "from sklearn.neighbors import KNeighborsClassifier\n",
    "from sklearn.metrics import accuracy_score\n",
    "from sklearn.metrics import balanced_accuracy_score\n",
    "from sklearn.metrics import average_precision_score\n",
    "from sklearn.linear_model import Perceptron\n",
    "from sklearn.naive_bayes import GaussianNB\n",
    "from sklearn.svm import SVC, LinearSVC\n",
    "from sklearn.neural_network import MLPClassifier\n",
    "from sklearn.pipeline import Pipeline\n",
    "from sklearn.model_selection import GridSearchCV\n",
    "from sklearn.ensemble import RandomForestClassifier\n",
    "from IPython.display import display"
   ]
  },
  {
   "cell_type": "code",
   "execution_count": 2,
   "metadata": {},
   "outputs": [
    {
     "data": {
      "text/html": [
       "<div>\n",
       "<style scoped>\n",
       "    .dataframe tbody tr th:only-of-type {\n",
       "        vertical-align: middle;\n",
       "    }\n",
       "\n",
       "    .dataframe tbody tr th {\n",
       "        vertical-align: top;\n",
       "    }\n",
       "\n",
       "    .dataframe thead th {\n",
       "        text-align: right;\n",
       "    }\n",
       "</style>\n",
       "<table border=\"1\" class=\"dataframe\">\n",
       "  <thead>\n",
       "    <tr style=\"text-align: right;\">\n",
       "      <th></th>\n",
       "      <th>PassengerId</th>\n",
       "      <th>Survived</th>\n",
       "      <th>Pclass</th>\n",
       "      <th>Name</th>\n",
       "      <th>Sex</th>\n",
       "      <th>Age</th>\n",
       "      <th>SibSp</th>\n",
       "      <th>Parch</th>\n",
       "      <th>Ticket</th>\n",
       "      <th>Fare</th>\n",
       "      <th>Cabin</th>\n",
       "      <th>Embarked</th>\n",
       "    </tr>\n",
       "  </thead>\n",
       "  <tbody>\n",
       "    <tr>\n",
       "      <th>0</th>\n",
       "      <td>1</td>\n",
       "      <td>0</td>\n",
       "      <td>3</td>\n",
       "      <td>Braund, Mr. Owen Harris</td>\n",
       "      <td>male</td>\n",
       "      <td>22.0</td>\n",
       "      <td>1</td>\n",
       "      <td>0</td>\n",
       "      <td>A/5 21171</td>\n",
       "      <td>7.2500</td>\n",
       "      <td>NaN</td>\n",
       "      <td>S</td>\n",
       "    </tr>\n",
       "    <tr>\n",
       "      <th>1</th>\n",
       "      <td>2</td>\n",
       "      <td>1</td>\n",
       "      <td>1</td>\n",
       "      <td>Cumings, Mrs. John Bradley (Florence Briggs Th...</td>\n",
       "      <td>female</td>\n",
       "      <td>38.0</td>\n",
       "      <td>1</td>\n",
       "      <td>0</td>\n",
       "      <td>PC 17599</td>\n",
       "      <td>71.2833</td>\n",
       "      <td>C85</td>\n",
       "      <td>C</td>\n",
       "    </tr>\n",
       "    <tr>\n",
       "      <th>2</th>\n",
       "      <td>3</td>\n",
       "      <td>1</td>\n",
       "      <td>3</td>\n",
       "      <td>Heikkinen, Miss. Laina</td>\n",
       "      <td>female</td>\n",
       "      <td>26.0</td>\n",
       "      <td>0</td>\n",
       "      <td>0</td>\n",
       "      <td>STON/O2. 3101282</td>\n",
       "      <td>7.9250</td>\n",
       "      <td>NaN</td>\n",
       "      <td>S</td>\n",
       "    </tr>\n",
       "    <tr>\n",
       "      <th>3</th>\n",
       "      <td>4</td>\n",
       "      <td>1</td>\n",
       "      <td>1</td>\n",
       "      <td>Futrelle, Mrs. Jacques Heath (Lily May Peel)</td>\n",
       "      <td>female</td>\n",
       "      <td>35.0</td>\n",
       "      <td>1</td>\n",
       "      <td>0</td>\n",
       "      <td>113803</td>\n",
       "      <td>53.1000</td>\n",
       "      <td>C123</td>\n",
       "      <td>S</td>\n",
       "    </tr>\n",
       "    <tr>\n",
       "      <th>4</th>\n",
       "      <td>5</td>\n",
       "      <td>0</td>\n",
       "      <td>3</td>\n",
       "      <td>Allen, Mr. William Henry</td>\n",
       "      <td>male</td>\n",
       "      <td>35.0</td>\n",
       "      <td>0</td>\n",
       "      <td>0</td>\n",
       "      <td>373450</td>\n",
       "      <td>8.0500</td>\n",
       "      <td>NaN</td>\n",
       "      <td>S</td>\n",
       "    </tr>\n",
       "    <tr>\n",
       "      <th>...</th>\n",
       "      <td>...</td>\n",
       "      <td>...</td>\n",
       "      <td>...</td>\n",
       "      <td>...</td>\n",
       "      <td>...</td>\n",
       "      <td>...</td>\n",
       "      <td>...</td>\n",
       "      <td>...</td>\n",
       "      <td>...</td>\n",
       "      <td>...</td>\n",
       "      <td>...</td>\n",
       "      <td>...</td>\n",
       "    </tr>\n",
       "    <tr>\n",
       "      <th>886</th>\n",
       "      <td>887</td>\n",
       "      <td>0</td>\n",
       "      <td>2</td>\n",
       "      <td>Montvila, Rev. Juozas</td>\n",
       "      <td>male</td>\n",
       "      <td>27.0</td>\n",
       "      <td>0</td>\n",
       "      <td>0</td>\n",
       "      <td>211536</td>\n",
       "      <td>13.0000</td>\n",
       "      <td>NaN</td>\n",
       "      <td>S</td>\n",
       "    </tr>\n",
       "    <tr>\n",
       "      <th>887</th>\n",
       "      <td>888</td>\n",
       "      <td>1</td>\n",
       "      <td>1</td>\n",
       "      <td>Graham, Miss. Margaret Edith</td>\n",
       "      <td>female</td>\n",
       "      <td>19.0</td>\n",
       "      <td>0</td>\n",
       "      <td>0</td>\n",
       "      <td>112053</td>\n",
       "      <td>30.0000</td>\n",
       "      <td>B42</td>\n",
       "      <td>S</td>\n",
       "    </tr>\n",
       "    <tr>\n",
       "      <th>888</th>\n",
       "      <td>889</td>\n",
       "      <td>0</td>\n",
       "      <td>3</td>\n",
       "      <td>Johnston, Miss. Catherine Helen \"Carrie\"</td>\n",
       "      <td>female</td>\n",
       "      <td>NaN</td>\n",
       "      <td>1</td>\n",
       "      <td>2</td>\n",
       "      <td>W./C. 6607</td>\n",
       "      <td>23.4500</td>\n",
       "      <td>NaN</td>\n",
       "      <td>S</td>\n",
       "    </tr>\n",
       "    <tr>\n",
       "      <th>889</th>\n",
       "      <td>890</td>\n",
       "      <td>1</td>\n",
       "      <td>1</td>\n",
       "      <td>Behr, Mr. Karl Howell</td>\n",
       "      <td>male</td>\n",
       "      <td>26.0</td>\n",
       "      <td>0</td>\n",
       "      <td>0</td>\n",
       "      <td>111369</td>\n",
       "      <td>30.0000</td>\n",
       "      <td>C148</td>\n",
       "      <td>C</td>\n",
       "    </tr>\n",
       "    <tr>\n",
       "      <th>890</th>\n",
       "      <td>891</td>\n",
       "      <td>0</td>\n",
       "      <td>3</td>\n",
       "      <td>Dooley, Mr. Patrick</td>\n",
       "      <td>male</td>\n",
       "      <td>32.0</td>\n",
       "      <td>0</td>\n",
       "      <td>0</td>\n",
       "      <td>370376</td>\n",
       "      <td>7.7500</td>\n",
       "      <td>NaN</td>\n",
       "      <td>Q</td>\n",
       "    </tr>\n",
       "  </tbody>\n",
       "</table>\n",
       "<p>891 rows × 12 columns</p>\n",
       "</div>"
      ],
      "text/plain": [
       "     PassengerId  Survived  Pclass  \\\n",
       "0              1         0       3   \n",
       "1              2         1       1   \n",
       "2              3         1       3   \n",
       "3              4         1       1   \n",
       "4              5         0       3   \n",
       "..           ...       ...     ...   \n",
       "886          887         0       2   \n",
       "887          888         1       1   \n",
       "888          889         0       3   \n",
       "889          890         1       1   \n",
       "890          891         0       3   \n",
       "\n",
       "                                                  Name     Sex   Age  SibSp  \\\n",
       "0                              Braund, Mr. Owen Harris    male  22.0      1   \n",
       "1    Cumings, Mrs. John Bradley (Florence Briggs Th...  female  38.0      1   \n",
       "2                               Heikkinen, Miss. Laina  female  26.0      0   \n",
       "3         Futrelle, Mrs. Jacques Heath (Lily May Peel)  female  35.0      1   \n",
       "4                             Allen, Mr. William Henry    male  35.0      0   \n",
       "..                                                 ...     ...   ...    ...   \n",
       "886                              Montvila, Rev. Juozas    male  27.0      0   \n",
       "887                       Graham, Miss. Margaret Edith  female  19.0      0   \n",
       "888           Johnston, Miss. Catherine Helen \"Carrie\"  female   NaN      1   \n",
       "889                              Behr, Mr. Karl Howell    male  26.0      0   \n",
       "890                                Dooley, Mr. Patrick    male  32.0      0   \n",
       "\n",
       "     Parch            Ticket     Fare Cabin Embarked  \n",
       "0        0         A/5 21171   7.2500   NaN        S  \n",
       "1        0          PC 17599  71.2833   C85        C  \n",
       "2        0  STON/O2. 3101282   7.9250   NaN        S  \n",
       "3        0            113803  53.1000  C123        S  \n",
       "4        0            373450   8.0500   NaN        S  \n",
       "..     ...               ...      ...   ...      ...  \n",
       "886      0            211536  13.0000   NaN        S  \n",
       "887      0            112053  30.0000   B42        S  \n",
       "888      2        W./C. 6607  23.4500   NaN        S  \n",
       "889      0            111369  30.0000  C148        C  \n",
       "890      0            370376   7.7500   NaN        Q  \n",
       "\n",
       "[891 rows x 12 columns]"
      ]
     },
     "execution_count": 2,
     "metadata": {},
     "output_type": "execute_result"
    }
   ],
   "source": [
    "# Import the data\n",
    "dataset = pd.read_csv('train.csv')\n",
    "dataset"
   ]
  },
  {
   "cell_type": "markdown",
   "metadata": {},
   "source": [
    "#### Converting data into numerical format from text based "
   ]
  },
  {
   "cell_type": "code",
   "execution_count": 17,
   "metadata": {},
   "outputs": [],
   "source": [
    "# Convert the sex to numeric one hot encoding\n",
    "toNumeric = preprocessing.OneHotEncoder()\n",
    "sexTransformed = toNumeric.fit_transform(dataset[[\"Sex\"]])\n",
    "sex = pd.DataFrame(sexTransformed.toarray(), columns = toNumeric.get_feature_names_out(['Sex']))\n",
    "\n",
    "# Convert the embarked to numeric one hot encoding\n",
    "toNumeric = preprocessing.OneHotEncoder()\n",
    "embarkedTransformed = toNumeric.fit_transform(dataset[[\"Embarked\"]])\n",
    "embarked = pd.DataFrame(embarkedTransformed.toarray(), columns = toNumeric.get_feature_names_out(['Embarked']))\n",
    "\n",
    "# Get the Passenger class\n",
    "data = dataset[[\"Pclass\", \"Age\", \"SibSp\", \"Parch\", \"Fare\", \"Survived\"]]\n",
    "\n",
    "\n",
    "keys = data.columns.tolist() + sex.columns.tolist() + embarked.columns.tolist()[:-1]\n",
    "newDataSet = pd.concat([data, sex, embarked[[\"Embarked_C\", \"Embarked_Q\", \"Embarked_S\"]]], ignore_index=True, axis=1)\n",
    "newDataSet.columns = keys\n",
    "\n",
    "newData = newDataSet\n",
    "\n",
    "# Extract the training data\n",
    "xTrain = newData.drop(columns = \"Survived\")\n",
    "yTrain = newData[\"Survived\"]"
   ]
  },
  {
   "attachments": {},
   "cell_type": "markdown",
   "metadata": {},
   "source": [
    "### Data analysis"
   ]
  },
  {
   "cell_type": "code",
   "execution_count": 18,
   "metadata": {},
   "outputs": [
    {
     "name": "stdout",
     "output_type": "stream",
     "text": [
      "There are  342  Positive examples\n",
      "There are  549  Negative examples\n",
      "The ratio of positives to negatives 0.6229508196721312\n"
     ]
    }
   ],
   "source": [
    "#  The number of positive and negative examples in the data\n",
    "positives = yTrain.value_counts()[1]\n",
    "negatives = yTrain.value_counts()[0]\n",
    "print(\"There are \", positives, \" Positive examples\")\n",
    "print(\"There are \", negatives, \" Negative examples\")\n",
    "print(\"The ratio of positives to negatives\", positives/negatives)\n"
   ]
  },
  {
   "attachments": {},
   "cell_type": "markdown",
   "metadata": {},
   "source": [
    "### General data"
   ]
  },
  {
   "cell_type": "code",
   "execution_count": 19,
   "metadata": {},
   "outputs": [
    {
     "ename": "ValueError",
     "evalue": "autodetected range of [nan, nan] is not finite",
     "output_type": "error",
     "traceback": [
      "\u001b[0;31m---------------------------------------------------------------------------\u001b[0m",
      "\u001b[0;31mValueError\u001b[0m                                Traceback (most recent call last)",
      "\u001b[0;32m/var/folders/dg/f_sxt9xj5f7fmjxx7w43sm6m0000gn/T/ipykernel_15815/33383534.py\u001b[0m in \u001b[0;36m<module>\u001b[0;34m\u001b[0m\n\u001b[1;32m      4\u001b[0m     \u001b[0mplt\u001b[0m\u001b[0;34m.\u001b[0m\u001b[0mtitle\u001b[0m\u001b[0;34m(\u001b[0m\u001b[0mj\u001b[0m\u001b[0;34m)\u001b[0m\u001b[0;34m\u001b[0m\u001b[0;34m\u001b[0m\u001b[0m\n\u001b[1;32m      5\u001b[0m     \u001b[0mplt\u001b[0m\u001b[0;34m.\u001b[0m\u001b[0msubplot\u001b[0m\u001b[0;34m(\u001b[0m\u001b[0;36m2\u001b[0m\u001b[0;34m,\u001b[0m \u001b[0mlen\u001b[0m\u001b[0;34m(\u001b[0m\u001b[0mxTrain\u001b[0m\u001b[0;34m.\u001b[0m\u001b[0mcolumns\u001b[0m\u001b[0;34m.\u001b[0m\u001b[0mtolist\u001b[0m\u001b[0;34m(\u001b[0m\u001b[0;34m)\u001b[0m\u001b[0;34m)\u001b[0m \u001b[0;34m//\u001b[0m \u001b[0;36m2\u001b[0m\u001b[0;34m,\u001b[0m \u001b[0mi\u001b[0m \u001b[0;34m+\u001b[0m \u001b[0;36m1\u001b[0m\u001b[0;34m)\u001b[0m\u001b[0;34m\u001b[0m\u001b[0;34m\u001b[0m\u001b[0m\n\u001b[0;32m----> 6\u001b[0;31m     \u001b[0mcounts\u001b[0m\u001b[0;34m,\u001b[0m \u001b[0mbins\u001b[0m \u001b[0;34m=\u001b[0m \u001b[0mnp\u001b[0m\u001b[0;34m.\u001b[0m\u001b[0mhistogram\u001b[0m\u001b[0;34m(\u001b[0m\u001b[0mxTrain\u001b[0m\u001b[0;34m[\u001b[0m\u001b[0mj\u001b[0m\u001b[0;34m]\u001b[0m\u001b[0;34m.\u001b[0m\u001b[0mvalues\u001b[0m\u001b[0;34m)\u001b[0m\u001b[0;34m\u001b[0m\u001b[0;34m\u001b[0m\u001b[0m\n\u001b[0m\u001b[1;32m      7\u001b[0m     \u001b[0mplt\u001b[0m\u001b[0;34m.\u001b[0m\u001b[0mhist\u001b[0m\u001b[0;34m(\u001b[0m\u001b[0mbins\u001b[0m\u001b[0;34m[\u001b[0m\u001b[0;34m:\u001b[0m\u001b[0;34m-\u001b[0m\u001b[0;36m1\u001b[0m\u001b[0;34m]\u001b[0m\u001b[0;34m,\u001b[0m \u001b[0mbins\u001b[0m\u001b[0;34m,\u001b[0m \u001b[0mweights\u001b[0m\u001b[0;34m=\u001b[0m\u001b[0mcounts\u001b[0m\u001b[0;34m)\u001b[0m\u001b[0;34m\u001b[0m\u001b[0;34m\u001b[0m\u001b[0m\n\u001b[1;32m      8\u001b[0m \u001b[0mplt\u001b[0m\u001b[0;34m.\u001b[0m\u001b[0mshow\u001b[0m\u001b[0;34m(\u001b[0m\u001b[0;34m)\u001b[0m\u001b[0;34m\u001b[0m\u001b[0;34m\u001b[0m\u001b[0m\n",
      "\u001b[0;32m/usr/local/lib/python3.9/site-packages/numpy/lib/histograms.py\u001b[0m in \u001b[0;36mhistogram\u001b[0;34m(a, bins, range, density, weights)\u001b[0m\n\u001b[1;32m    778\u001b[0m     \u001b[0ma\u001b[0m\u001b[0;34m,\u001b[0m \u001b[0mweights\u001b[0m \u001b[0;34m=\u001b[0m \u001b[0m_ravel_and_check_weights\u001b[0m\u001b[0;34m(\u001b[0m\u001b[0ma\u001b[0m\u001b[0;34m,\u001b[0m \u001b[0mweights\u001b[0m\u001b[0;34m)\u001b[0m\u001b[0;34m\u001b[0m\u001b[0;34m\u001b[0m\u001b[0m\n\u001b[1;32m    779\u001b[0m \u001b[0;34m\u001b[0m\u001b[0m\n\u001b[0;32m--> 780\u001b[0;31m     \u001b[0mbin_edges\u001b[0m\u001b[0;34m,\u001b[0m \u001b[0muniform_bins\u001b[0m \u001b[0;34m=\u001b[0m \u001b[0m_get_bin_edges\u001b[0m\u001b[0;34m(\u001b[0m\u001b[0ma\u001b[0m\u001b[0;34m,\u001b[0m \u001b[0mbins\u001b[0m\u001b[0;34m,\u001b[0m \u001b[0mrange\u001b[0m\u001b[0;34m,\u001b[0m \u001b[0mweights\u001b[0m\u001b[0;34m)\u001b[0m\u001b[0;34m\u001b[0m\u001b[0;34m\u001b[0m\u001b[0m\n\u001b[0m\u001b[1;32m    781\u001b[0m \u001b[0;34m\u001b[0m\u001b[0m\n\u001b[1;32m    782\u001b[0m     \u001b[0;31m# Histogram is an integer or a float array depending on the weights.\u001b[0m\u001b[0;34m\u001b[0m\u001b[0;34m\u001b[0m\u001b[0m\n",
      "\u001b[0;32m/usr/local/lib/python3.9/site-packages/numpy/lib/histograms.py\u001b[0m in \u001b[0;36m_get_bin_edges\u001b[0;34m(a, bins, range, weights)\u001b[0m\n\u001b[1;32m    424\u001b[0m             \u001b[0;32mraise\u001b[0m \u001b[0mValueError\u001b[0m\u001b[0;34m(\u001b[0m\u001b[0;34m'`bins` must be positive, when an integer'\u001b[0m\u001b[0;34m)\u001b[0m\u001b[0;34m\u001b[0m\u001b[0;34m\u001b[0m\u001b[0m\n\u001b[1;32m    425\u001b[0m \u001b[0;34m\u001b[0m\u001b[0m\n\u001b[0;32m--> 426\u001b[0;31m         \u001b[0mfirst_edge\u001b[0m\u001b[0;34m,\u001b[0m \u001b[0mlast_edge\u001b[0m \u001b[0;34m=\u001b[0m \u001b[0m_get_outer_edges\u001b[0m\u001b[0;34m(\u001b[0m\u001b[0ma\u001b[0m\u001b[0;34m,\u001b[0m \u001b[0mrange\u001b[0m\u001b[0;34m)\u001b[0m\u001b[0;34m\u001b[0m\u001b[0;34m\u001b[0m\u001b[0m\n\u001b[0m\u001b[1;32m    427\u001b[0m \u001b[0;34m\u001b[0m\u001b[0m\n\u001b[1;32m    428\u001b[0m     \u001b[0;32melif\u001b[0m \u001b[0mnp\u001b[0m\u001b[0;34m.\u001b[0m\u001b[0mndim\u001b[0m\u001b[0;34m(\u001b[0m\u001b[0mbins\u001b[0m\u001b[0;34m)\u001b[0m \u001b[0;34m==\u001b[0m \u001b[0;36m1\u001b[0m\u001b[0;34m:\u001b[0m\u001b[0;34m\u001b[0m\u001b[0;34m\u001b[0m\u001b[0m\n",
      "\u001b[0;32m/usr/local/lib/python3.9/site-packages/numpy/lib/histograms.py\u001b[0m in \u001b[0;36m_get_outer_edges\u001b[0;34m(a, range)\u001b[0m\n\u001b[1;32m    321\u001b[0m         \u001b[0mfirst_edge\u001b[0m\u001b[0;34m,\u001b[0m \u001b[0mlast_edge\u001b[0m \u001b[0;34m=\u001b[0m \u001b[0ma\u001b[0m\u001b[0;34m.\u001b[0m\u001b[0mmin\u001b[0m\u001b[0;34m(\u001b[0m\u001b[0;34m)\u001b[0m\u001b[0;34m,\u001b[0m \u001b[0ma\u001b[0m\u001b[0;34m.\u001b[0m\u001b[0mmax\u001b[0m\u001b[0;34m(\u001b[0m\u001b[0;34m)\u001b[0m\u001b[0;34m\u001b[0m\u001b[0;34m\u001b[0m\u001b[0m\n\u001b[1;32m    322\u001b[0m         \u001b[0;32mif\u001b[0m \u001b[0;32mnot\u001b[0m \u001b[0;34m(\u001b[0m\u001b[0mnp\u001b[0m\u001b[0;34m.\u001b[0m\u001b[0misfinite\u001b[0m\u001b[0;34m(\u001b[0m\u001b[0mfirst_edge\u001b[0m\u001b[0;34m)\u001b[0m \u001b[0;32mand\u001b[0m \u001b[0mnp\u001b[0m\u001b[0;34m.\u001b[0m\u001b[0misfinite\u001b[0m\u001b[0;34m(\u001b[0m\u001b[0mlast_edge\u001b[0m\u001b[0;34m)\u001b[0m\u001b[0;34m)\u001b[0m\u001b[0;34m:\u001b[0m\u001b[0;34m\u001b[0m\u001b[0;34m\u001b[0m\u001b[0m\n\u001b[0;32m--> 323\u001b[0;31m             raise ValueError(\n\u001b[0m\u001b[1;32m    324\u001b[0m                 \"autodetected range of [{}, {}] is not finite\".format(first_edge, last_edge))\n\u001b[1;32m    325\u001b[0m \u001b[0;34m\u001b[0m\u001b[0m\n",
      "\u001b[0;31mValueError\u001b[0m: autodetected range of [nan, nan] is not finite"
     ]
    },
    {
     "data": {
      "image/png": "[encoded data removed]",
      "text/plain": [
       "<Figure size 2160x720 with 2 Axes>"
      ]
     },
     "metadata": {
      "needs_background": "light"
     },
     "output_type": "display_data"
    }
   ],
   "source": [
    "figure = plt.figure(figsize= (30,10))\n",
    "# Plot the histograms of each feature\n",
    "for i, j in enumerate(xTrain.columns.tolist()):\n",
    "    plt.title(j)\n",
    "    plt.subplot(2, len(xTrain.columns.tolist()) // 2, i + 1)\n",
    "    counts, bins = np.histogram(xTrain[j].values)\n",
    "    plt.hist(bins[:-1], bins, weights=counts)\n",
    "plt.show()"
   ]
  },
  {
   "attachments": {},
   "cell_type": "markdown",
   "metadata": {},
   "source": [
    "### Comparing the distributions between the people who survived and the people who didn't"
   ]
  },
  {
   "cell_type": "code",
   "execution_count": 6,
   "metadata": {},
   "outputs": [
    {
     "data": {
      "image/png": "[encoded data removed]",
      "text/plain": [
       "<Figure size 1440x360 with 2 Axes>"
      ]
     },
     "metadata": {
      "needs_background": "light"
     },
     "output_type": "display_data"
    },
    {
     "data": {
      "image/png": "[encoded data removed]",
      "text/plain": [
       "<Figure size 1440x360 with 2 Axes>"
      ]
     },
     "metadata": {
      "needs_background": "light"
     },
     "output_type": "display_data"
    },
    {
     "data": {
      "image/png": "[encoded data removed]",
      "text/plain": [
       "<Figure size 1440x360 with 2 Axes>"
      ]
     },
     "metadata": {
      "needs_background": "light"
     },
     "output_type": "display_data"
    },
    {
     "data": {
      "image/png": "[encoded data removed]",
      "text/plain": [
       "<Figure size 1440x360 with 2 Axes>"
      ]
     },
     "metadata": {
      "needs_background": "light"
     },
     "output_type": "display_data"
    },
    {
     "data": {
      "image/png": "[encoded data removed]",
      "text/plain": [
       "<Figure size 1440x360 with 2 Axes>"
      ]
     },
     "metadata": {
      "needs_background": "light"
     },
     "output_type": "display_data"
    },
    {
     "data": {
      "image/png": "[encoded data removed]",
      "text/plain": [
       "<Figure size 1440x360 with 2 Axes>"
      ]
     },
     "metadata": {
      "needs_background": "light"
     },
     "output_type": "display_data"
    },
    {
     "data": {
      "image/png": "[encoded data removed]",
      "text/plain": [
       "<Figure size 1440x360 with 2 Axes>"
      ]
     },
     "metadata": {
      "needs_background": "light"
     },
     "output_type": "display_data"
    },
    {
     "data": {
      "image/png": "[encoded data removed]",
      "text/plain": [
       "<Figure size 1440x360 with 2 Axes>"
      ]
     },
     "metadata": {
      "needs_background": "light"
     },
     "output_type": "display_data"
    },
    {
     "data": {
      "image/png": "[encoded data removed]",
      "text/plain": [
       "<Figure size 1440x360 with 2 Axes>"
      ]
     },
     "metadata": {
      "needs_background": "light"
     },
     "output_type": "display_data"
    },
    {
     "data": {
      "image/png": "[encoded data removed]",
      "text/plain": [
       "<Figure size 1440x360 with 2 Axes>"
      ]
     },
     "metadata": {
      "needs_background": "light"
     },
     "output_type": "display_data"
    }
   ],
   "source": [
    "idx = yTrain == 1\n",
    "survived = xTrain[idx]\n",
    "didntSurvive = xTrain[~idx]\n",
    "\n",
    "for j in xTrain.columns.tolist():\n",
    "    figure = plt.figure(figsize=(20,5))\n",
    "    \n",
    "    plt.subplot(1, 2, 1)\n",
    "    plt.title(j + \" survived\")\n",
    "    counts, bins = np.histogram(survived[j].values)\n",
    "    plt.hist(bins[:-1], bins, weights=counts)\n",
    "    \n",
    "    plt.subplot(1, 2, 2)\n",
    "    plt.title(j + \" didn't survived\")\n",
    "    counts, bins = np.histogram(didntSurvive[j].values)\n",
    "    plt.hist(bins[:-1], bins, weights=counts)\n",
    "    \n",
    "    plt.show()"
   ]
  },
  {
   "attachments": {},
   "cell_type": "markdown",
   "metadata": {},
   "source": [
    "### Centering the data"
   ]
  },
  {
   "cell_type": "code",
   "execution_count": 7,
   "metadata": {},
   "outputs": [
    {
     "name": "stdout",
     "output_type": "stream",
     "text": [
      "       Pclass       Age     SibSp     Parch      Fare  Sex_female  Sex_male  \\\n",
      "0    0.911232 -0.530377  0.524570 -0.505895 -0.518978   -0.759051  0.759051   \n",
      "1   -1.476364  0.571831  0.524570 -0.505895  0.691897    1.317434 -1.317434   \n",
      "2    0.911232 -0.254825 -0.551703 -0.505895 -0.506214    1.317434 -1.317434   \n",
      "3   -1.476364  0.365167  0.524570 -0.505895  0.348049    1.317434 -1.317434   \n",
      "4    0.911232  0.365167 -0.551703 -0.505895 -0.503850   -0.759051  0.759051   \n",
      "..        ...       ...       ...       ...       ...         ...       ...   \n",
      "709  0.911232  0.640719 -0.551703  5.357890 -0.105320    1.317434 -1.317434   \n",
      "710 -0.282566 -0.185937 -0.551703 -0.505895 -0.410245   -0.759051  0.759051   \n",
      "711 -1.476364 -0.737041 -0.551703 -0.505895 -0.088774    1.317434 -1.317434   \n",
      "712 -1.476364 -0.254825 -0.551703 -0.505895 -0.088774   -0.759051  0.759051   \n",
      "713  0.911232  0.158503 -0.551703 -0.505895 -0.509523   -0.759051  0.759051   \n",
      "\n",
      "     Embarked_C  Embarked_Q  Embarked_S  \n",
      "0     -0.471808   -0.202031    0.537409  \n",
      "1      2.119506   -0.202031   -1.860779  \n",
      "2     -0.471808   -0.202031    0.537409  \n",
      "3     -0.471808   -0.202031    0.537409  \n",
      "4     -0.471808   -0.202031    0.537409  \n",
      "..          ...         ...         ...  \n",
      "709   -0.471808    4.949747   -1.860779  \n",
      "710   -0.471808   -0.202031    0.537409  \n",
      "711   -0.471808   -0.202031    0.537409  \n",
      "712    2.119506   -0.202031   -1.860779  \n",
      "713   -0.471808    4.949747   -1.860779  \n",
      "\n",
      "[714 rows x 10 columns]\n"
     ]
    }
   ],
   "source": [
    "# Centering the data\n",
    "scaler = preprocessing.StandardScaler()\n",
    "scaledXTrain =  pd.DataFrame(scaler.fit_transform(xTrain), columns=xTrain.columns)\n",
    "print(scaledXTrain)"
   ]
  },
  {
   "attachments": {},
   "cell_type": "markdown",
   "metadata": {},
   "source": [
    "## Training different models and evaluating their performance"
   ]
  },
  {
   "attachments": {},
   "cell_type": "markdown",
   "metadata": {},
   "source": [
    "### 1. Perceptron"
   ]
  },
  {
   "cell_type": "code",
   "execution_count": 20,
   "metadata": {},
   "outputs": [
    {
     "name": "stdout",
     "output_type": "stream",
     "text": [
      "Fitting 5 folds for each of 5 candidates, totalling 25 fits\n"
     ]
    },
    {
     "name": "stderr",
     "output_type": "stream",
     "text": [
      "/usr/local/lib/python3.9/site-packages/scipy/__init__.py:146: UserWarning: A NumPy version >=1.16.5 and <1.23.0 is required for this version of SciPy (detected version 1.25.2\n",
      "  warnings.warn(f\"A NumPy version >={np_minversion} and <{np_maxversion}\"\n",
      "/usr/local/lib/python3.9/site-packages/scipy/__init__.py:146: UserWarning: A NumPy version >=1.16.5 and <1.23.0 is required for this version of SciPy (detected version 1.25.2\n",
      "  warnings.warn(f\"A NumPy version >={np_minversion} and <{np_maxversion}\"\n",
      "/usr/local/lib/python3.9/site-packages/scipy/__init__.py:146: UserWarning: A NumPy version >=1.16.5 and <1.23.0 is required for this version of SciPy (detected version 1.25.2\n",
      "  warnings.warn(f\"A NumPy version >={np_minversion} and <{np_maxversion}\"\n",
      "/usr/local/lib/python3.9/site-packages/scipy/__init__.py:146: UserWarning: A NumPy version >=1.16.5 and <1.23.0 is required for this version of SciPy (detected version 1.25.2\n",
      "  warnings.warn(f\"A NumPy version >={np_minversion} and <{np_maxversion}\"\n",
      "/usr/local/lib/python3.9/site-packages/scipy/__init__.py:146: UserWarning: A NumPy version >=1.16.5 and <1.23.0 is required for this version of SciPy (detected version 1.25.2\n",
      "  warnings.warn(f\"A NumPy version >={np_minversion} and <{np_maxversion}\"\n",
      "/usr/local/lib/python3.9/site-packages/scipy/__init__.py:146: UserWarning: A NumPy version >=1.16.5 and <1.23.0 is required for this version of SciPy (detected version 1.25.2\n",
      "  warnings.warn(f\"A NumPy version >={np_minversion} and <{np_maxversion}\"\n",
      "/usr/local/lib/python3.9/site-packages/scipy/__init__.py:146: UserWarning: A NumPy version >=1.16.5 and <1.23.0 is required for this version of SciPy (detected version 1.25.2\n",
      "  warnings.warn(f\"A NumPy version >={np_minversion} and <{np_maxversion}\"\n",
      "/usr/local/lib/python3.9/site-packages/scipy/__init__.py:146: UserWarning: A NumPy version >=1.16.5 and <1.23.0 is required for this version of SciPy (detected version 1.25.2\n",
      "  warnings.warn(f\"A NumPy version >={np_minversion} and <{np_maxversion}\"\n",
      "/usr/local/lib/python3.9/site-packages/sklearn/model_selection/_validation.py:372: FitFailedWarning: \n",
      "25 fits failed out of a total of 25.\n",
      "The score on these train-test partitions for these parameters will be set to nan.\n",
      "If these failures are not expected, you can try to debug them by setting error_score='raise'.\n",
      "\n",
      "Below are more details about the failures:\n",
      "--------------------------------------------------------------------------------\n",
      "25 fits failed with the following error:\n",
      "Traceback (most recent call last):\n",
      "  File \"/usr/local/lib/python3.9/site-packages/sklearn/model_selection/_validation.py\", line 681, in _fit_and_score\n",
      "    estimator.fit(X_train, y_train, **fit_params)\n",
      "  File \"/usr/local/lib/python3.9/site-packages/sklearn/pipeline.py\", line 394, in fit\n",
      "    self._final_estimator.fit(Xt, y, **fit_params_last_step)\n",
      "  File \"/usr/local/lib/python3.9/site-packages/sklearn/linear_model/_stochastic_gradient.py\", line 883, in fit\n",
      "    return self._fit(\n",
      "  File \"/usr/local/lib/python3.9/site-packages/sklearn/linear_model/_stochastic_gradient.py\", line 677, in _fit\n",
      "    self._partial_fit(\n",
      "  File \"/usr/local/lib/python3.9/site-packages/sklearn/linear_model/_stochastic_gradient.py\", line 572, in _partial_fit\n",
      "    X, y = self._validate_data(\n",
      "  File \"/usr/local/lib/python3.9/site-packages/sklearn/base.py\", line 576, in _validate_data\n",
      "    X, y = check_X_y(X, y, **check_params)\n",
      "  File \"/usr/local/lib/python3.9/site-packages/sklearn/utils/validation.py\", line 956, in check_X_y\n",
      "    X = check_array(\n",
      "  File \"/usr/local/lib/python3.9/site-packages/sklearn/utils/validation.py\", line 792, in check_array\n",
      "    _assert_all_finite(array, allow_nan=force_all_finite == \"allow-nan\")\n",
      "  File \"/usr/local/lib/python3.9/site-packages/sklearn/utils/validation.py\", line 114, in _assert_all_finite\n",
      "    raise ValueError(\n",
      "ValueError: Input contains NaN, infinity or a value too large for dtype('float64').\n",
      "\n",
      "  warnings.warn(some_fits_failed_message, FitFailedWarning)\n",
      "/usr/local/lib/python3.9/site-packages/sklearn/model_selection/_search.py:969: UserWarning: One or more of the test scores are non-finite: [nan nan nan nan nan]\n",
      "  warnings.warn(\n"
     ]
    },
    {
     "ename": "ValueError",
     "evalue": "Input contains NaN, infinity or a value too large for dtype('float64').",
     "output_type": "error",
     "traceback": [
      "\u001b[0;31m---------------------------------------------------------------------------\u001b[0m",
      "\u001b[0;31mValueError\u001b[0m                                Traceback (most recent call last)",
      "\u001b[0;32m/var/folders/dg/f_sxt9xj5f7fmjxx7w43sm6m0000gn/T/ipykernel_15815/40172968.py\u001b[0m in \u001b[0;36m<module>\u001b[0;34m\u001b[0m\n\u001b[1;32m      4\u001b[0m \u001b[0mclfPerceptron\u001b[0m \u001b[0;34m=\u001b[0m \u001b[0mGridSearchCV\u001b[0m\u001b[0;34m(\u001b[0m\u001b[0mestimator\u001b[0m \u001b[0;34m=\u001b[0m \u001b[0mpipe\u001b[0m\u001b[0;34m,\u001b[0m \u001b[0mparam_grid\u001b[0m \u001b[0;34m=\u001b[0m \u001b[0mparams\u001b[0m\u001b[0;34m,\u001b[0m \u001b[0mn_jobs\u001b[0m\u001b[0;34m=\u001b[0m\u001b[0;34m-\u001b[0m\u001b[0;36m1\u001b[0m\u001b[0;34m,\u001b[0m \u001b[0mscoring\u001b[0m\u001b[0;34m=\u001b[0m\u001b[0;34m[\u001b[0m\u001b[0;34m'average_precision'\u001b[0m\u001b[0;34m,\u001b[0m \u001b[0;34m'balanced_accuracy'\u001b[0m\u001b[0;34m,\u001b[0m \u001b[0;34m'roc_auc'\u001b[0m\u001b[0;34m,\u001b[0m \u001b[0;34m'accuracy'\u001b[0m\u001b[0;34m,\u001b[0m \u001b[0;34m'f1'\u001b[0m\u001b[0;34m]\u001b[0m\u001b[0;34m,\u001b[0m \u001b[0mrefit\u001b[0m\u001b[0;34m=\u001b[0m\u001b[0;34m'average_precision'\u001b[0m\u001b[0;34m,\u001b[0m \u001b[0mverbose\u001b[0m\u001b[0;34m=\u001b[0m\u001b[0;36m1\u001b[0m\u001b[0;34m)\u001b[0m\u001b[0;34m\u001b[0m\u001b[0;34m\u001b[0m\u001b[0m\n\u001b[1;32m      5\u001b[0m \u001b[0;31m#Train and get the best hyper parameters for our model\u001b[0m\u001b[0;34m\u001b[0m\u001b[0;34m\u001b[0m\u001b[0m\n\u001b[0;32m----> 6\u001b[0;31m \u001b[0mclfPerceptron\u001b[0m\u001b[0;34m.\u001b[0m\u001b[0mfit\u001b[0m\u001b[0;34m(\u001b[0m\u001b[0mxTrain\u001b[0m\u001b[0;34m,\u001b[0m \u001b[0myTrain\u001b[0m\u001b[0;34m)\u001b[0m\u001b[0;34m\u001b[0m\u001b[0;34m\u001b[0m\u001b[0m\n\u001b[0m\u001b[1;32m      7\u001b[0m \u001b[0mbestPerceptronModel\u001b[0m \u001b[0;34m=\u001b[0m \u001b[0mclfPerceptron\u001b[0m\u001b[0;34m.\u001b[0m\u001b[0mbest_params_\u001b[0m\u001b[0;34m\u001b[0m\u001b[0;34m\u001b[0m\u001b[0m\n\u001b[1;32m      8\u001b[0m \u001b[0;34m\u001b[0m\u001b[0m\n",
      "\u001b[0;32m/usr/local/lib/python3.9/site-packages/sklearn/model_selection/_search.py\u001b[0m in \u001b[0;36mfit\u001b[0;34m(self, X, y, groups, **fit_params)\u001b[0m\n\u001b[1;32m    924\u001b[0m             \u001b[0mrefit_start_time\u001b[0m \u001b[0;34m=\u001b[0m \u001b[0mtime\u001b[0m\u001b[0;34m.\u001b[0m\u001b[0mtime\u001b[0m\u001b[0;34m(\u001b[0m\u001b[0;34m)\u001b[0m\u001b[0;34m\u001b[0m\u001b[0;34m\u001b[0m\u001b[0m\n\u001b[1;32m    925\u001b[0m             \u001b[0;32mif\u001b[0m \u001b[0my\u001b[0m \u001b[0;32mis\u001b[0m \u001b[0;32mnot\u001b[0m \u001b[0;32mNone\u001b[0m\u001b[0;34m:\u001b[0m\u001b[0;34m\u001b[0m\u001b[0;34m\u001b[0m\u001b[0m\n\u001b[0;32m--> 926\u001b[0;31m                 \u001b[0mself\u001b[0m\u001b[0;34m.\u001b[0m\u001b[0mbest_estimator_\u001b[0m\u001b[0;34m.\u001b[0m\u001b[0mfit\u001b[0m\u001b[0;34m(\u001b[0m\u001b[0mX\u001b[0m\u001b[0;34m,\u001b[0m \u001b[0my\u001b[0m\u001b[0;34m,\u001b[0m \u001b[0;34m**\u001b[0m\u001b[0mfit_params\u001b[0m\u001b[0;34m)\u001b[0m\u001b[0;34m\u001b[0m\u001b[0;34m\u001b[0m\u001b[0m\n\u001b[0m\u001b[1;32m    927\u001b[0m             \u001b[0;32melse\u001b[0m\u001b[0;34m:\u001b[0m\u001b[0;34m\u001b[0m\u001b[0;34m\u001b[0m\u001b[0m\n\u001b[1;32m    928\u001b[0m                 \u001b[0mself\u001b[0m\u001b[0;34m.\u001b[0m\u001b[0mbest_estimator_\u001b[0m\u001b[0;34m.\u001b[0m\u001b[0mfit\u001b[0m\u001b[0;34m(\u001b[0m\u001b[0mX\u001b[0m\u001b[0;34m,\u001b[0m \u001b[0;34m**\u001b[0m\u001b[0mfit_params\u001b[0m\u001b[0;34m)\u001b[0m\u001b[0;34m\u001b[0m\u001b[0;34m\u001b[0m\u001b[0m\n",
      "\u001b[0;32m/usr/local/lib/python3.9/site-packages/sklearn/pipeline.py\u001b[0m in \u001b[0;36mfit\u001b[0;34m(self, X, y, **fit_params)\u001b[0m\n\u001b[1;32m    392\u001b[0m             \u001b[0;32mif\u001b[0m \u001b[0mself\u001b[0m\u001b[0;34m.\u001b[0m\u001b[0m_final_estimator\u001b[0m \u001b[0;34m!=\u001b[0m \u001b[0;34m\"passthrough\"\u001b[0m\u001b[0;34m:\u001b[0m\u001b[0;34m\u001b[0m\u001b[0;34m\u001b[0m\u001b[0m\n\u001b[1;32m    393\u001b[0m                 \u001b[0mfit_params_last_step\u001b[0m \u001b[0;34m=\u001b[0m \u001b[0mfit_params_steps\u001b[0m\u001b[0;34m[\u001b[0m\u001b[0mself\u001b[0m\u001b[0;34m.\u001b[0m\u001b[0msteps\u001b[0m\u001b[0;34m[\u001b[0m\u001b[0;34m-\u001b[0m\u001b[0;36m1\u001b[0m\u001b[0;34m]\u001b[0m\u001b[0;34m[\u001b[0m\u001b[0;36m0\u001b[0m\u001b[0;34m]\u001b[0m\u001b[0;34m]\u001b[0m\u001b[0;34m\u001b[0m\u001b[0;34m\u001b[0m\u001b[0m\n\u001b[0;32m--> 394\u001b[0;31m                 \u001b[0mself\u001b[0m\u001b[0;34m.\u001b[0m\u001b[0m_final_estimator\u001b[0m\u001b[0;34m.\u001b[0m\u001b[0mfit\u001b[0m\u001b[0;34m(\u001b[0m\u001b[0mXt\u001b[0m\u001b[0;34m,\u001b[0m \u001b[0my\u001b[0m\u001b[0;34m,\u001b[0m \u001b[0;34m**\u001b[0m\u001b[0mfit_params_last_step\u001b[0m\u001b[0;34m)\u001b[0m\u001b[0;34m\u001b[0m\u001b[0;34m\u001b[0m\u001b[0m\n\u001b[0m\u001b[1;32m    395\u001b[0m \u001b[0;34m\u001b[0m\u001b[0m\n\u001b[1;32m    396\u001b[0m         \u001b[0;32mreturn\u001b[0m \u001b[0mself\u001b[0m\u001b[0;34m\u001b[0m\u001b[0;34m\u001b[0m\u001b[0m\n",
      "\u001b[0;32m/usr/local/lib/python3.9/site-packages/sklearn/linear_model/_stochastic_gradient.py\u001b[0m in \u001b[0;36mfit\u001b[0;34m(self, X, y, coef_init, intercept_init, sample_weight)\u001b[0m\n\u001b[1;32m    881\u001b[0m             \u001b[0mReturns\u001b[0m \u001b[0man\u001b[0m \u001b[0minstance\u001b[0m \u001b[0mof\u001b[0m \u001b[0mself\u001b[0m\u001b[0;34m.\u001b[0m\u001b[0;34m\u001b[0m\u001b[0;34m\u001b[0m\u001b[0m\n\u001b[1;32m    882\u001b[0m         \"\"\"\n\u001b[0;32m--> 883\u001b[0;31m         return self._fit(\n\u001b[0m\u001b[1;32m    884\u001b[0m             \u001b[0mX\u001b[0m\u001b[0;34m,\u001b[0m\u001b[0;34m\u001b[0m\u001b[0;34m\u001b[0m\u001b[0m\n\u001b[1;32m    885\u001b[0m             \u001b[0my\u001b[0m\u001b[0;34m,\u001b[0m\u001b[0;34m\u001b[0m\u001b[0;34m\u001b[0m\u001b[0m\n",
      "\u001b[0;32m/usr/local/lib/python3.9/site-packages/sklearn/linear_model/_stochastic_gradient.py\u001b[0m in \u001b[0;36m_fit\u001b[0;34m(self, X, y, alpha, C, loss, learning_rate, coef_init, intercept_init, sample_weight)\u001b[0m\n\u001b[1;32m    675\u001b[0m         \u001b[0mself\u001b[0m\u001b[0;34m.\u001b[0m\u001b[0mt_\u001b[0m \u001b[0;34m=\u001b[0m \u001b[0;36m1.0\u001b[0m\u001b[0;34m\u001b[0m\u001b[0;34m\u001b[0m\u001b[0m\n\u001b[1;32m    676\u001b[0m \u001b[0;34m\u001b[0m\u001b[0m\n\u001b[0;32m--> 677\u001b[0;31m         self._partial_fit(\n\u001b[0m\u001b[1;32m    678\u001b[0m             \u001b[0mX\u001b[0m\u001b[0;34m,\u001b[0m\u001b[0;34m\u001b[0m\u001b[0;34m\u001b[0m\u001b[0m\n\u001b[1;32m    679\u001b[0m             \u001b[0my\u001b[0m\u001b[0;34m,\u001b[0m\u001b[0;34m\u001b[0m\u001b[0;34m\u001b[0m\u001b[0m\n",
      "\u001b[0;32m/usr/local/lib/python3.9/site-packages/sklearn/linear_model/_stochastic_gradient.py\u001b[0m in \u001b[0;36m_partial_fit\u001b[0;34m(self, X, y, alpha, C, loss, learning_rate, max_iter, classes, sample_weight, coef_init, intercept_init)\u001b[0m\n\u001b[1;32m    570\u001b[0m     ):\n\u001b[1;32m    571\u001b[0m         \u001b[0mfirst_call\u001b[0m \u001b[0;34m=\u001b[0m \u001b[0;32mnot\u001b[0m \u001b[0mhasattr\u001b[0m\u001b[0;34m(\u001b[0m\u001b[0mself\u001b[0m\u001b[0;34m,\u001b[0m \u001b[0;34m\"classes_\"\u001b[0m\u001b[0;34m)\u001b[0m\u001b[0;34m\u001b[0m\u001b[0;34m\u001b[0m\u001b[0m\n\u001b[0;32m--> 572\u001b[0;31m         X, y = self._validate_data(\n\u001b[0m\u001b[1;32m    573\u001b[0m             \u001b[0mX\u001b[0m\u001b[0;34m,\u001b[0m\u001b[0;34m\u001b[0m\u001b[0;34m\u001b[0m\u001b[0m\n\u001b[1;32m    574\u001b[0m             \u001b[0my\u001b[0m\u001b[0;34m,\u001b[0m\u001b[0;34m\u001b[0m\u001b[0;34m\u001b[0m\u001b[0m\n",
      "\u001b[0;32m/usr/local/lib/python3.9/site-packages/sklearn/base.py\u001b[0m in \u001b[0;36m_validate_data\u001b[0;34m(self, X, y, reset, validate_separately, **check_params)\u001b[0m\n\u001b[1;32m    574\u001b[0m                 \u001b[0my\u001b[0m \u001b[0;34m=\u001b[0m \u001b[0mcheck_array\u001b[0m\u001b[0;34m(\u001b[0m\u001b[0my\u001b[0m\u001b[0;34m,\u001b[0m \u001b[0;34m**\u001b[0m\u001b[0mcheck_y_params\u001b[0m\u001b[0;34m)\u001b[0m\u001b[0;34m\u001b[0m\u001b[0;34m\u001b[0m\u001b[0m\n\u001b[1;32m    575\u001b[0m             \u001b[0;32melse\u001b[0m\u001b[0;34m:\u001b[0m\u001b[0;34m\u001b[0m\u001b[0;34m\u001b[0m\u001b[0m\n\u001b[0;32m--> 576\u001b[0;31m                 \u001b[0mX\u001b[0m\u001b[0;34m,\u001b[0m \u001b[0my\u001b[0m \u001b[0;34m=\u001b[0m \u001b[0mcheck_X_y\u001b[0m\u001b[0;34m(\u001b[0m\u001b[0mX\u001b[0m\u001b[0;34m,\u001b[0m \u001b[0my\u001b[0m\u001b[0;34m,\u001b[0m \u001b[0;34m**\u001b[0m\u001b[0mcheck_params\u001b[0m\u001b[0;34m)\u001b[0m\u001b[0;34m\u001b[0m\u001b[0;34m\u001b[0m\u001b[0m\n\u001b[0m\u001b[1;32m    577\u001b[0m             \u001b[0mout\u001b[0m \u001b[0;34m=\u001b[0m \u001b[0mX\u001b[0m\u001b[0;34m,\u001b[0m \u001b[0my\u001b[0m\u001b[0;34m\u001b[0m\u001b[0;34m\u001b[0m\u001b[0m\n\u001b[1;32m    578\u001b[0m \u001b[0;34m\u001b[0m\u001b[0m\n",
      "\u001b[0;32m/usr/local/lib/python3.9/site-packages/sklearn/utils/validation.py\u001b[0m in \u001b[0;36mcheck_X_y\u001b[0;34m(X, y, accept_sparse, accept_large_sparse, dtype, order, copy, force_all_finite, ensure_2d, allow_nd, multi_output, ensure_min_samples, ensure_min_features, y_numeric, estimator)\u001b[0m\n\u001b[1;32m    954\u001b[0m         \u001b[0;32mraise\u001b[0m \u001b[0mValueError\u001b[0m\u001b[0;34m(\u001b[0m\u001b[0;34m\"y cannot be None\"\u001b[0m\u001b[0;34m)\u001b[0m\u001b[0;34m\u001b[0m\u001b[0;34m\u001b[0m\u001b[0m\n\u001b[1;32m    955\u001b[0m \u001b[0;34m\u001b[0m\u001b[0m\n\u001b[0;32m--> 956\u001b[0;31m     X = check_array(\n\u001b[0m\u001b[1;32m    957\u001b[0m         \u001b[0mX\u001b[0m\u001b[0;34m,\u001b[0m\u001b[0;34m\u001b[0m\u001b[0;34m\u001b[0m\u001b[0m\n\u001b[1;32m    958\u001b[0m         \u001b[0maccept_sparse\u001b[0m\u001b[0;34m=\u001b[0m\u001b[0maccept_sparse\u001b[0m\u001b[0;34m,\u001b[0m\u001b[0;34m\u001b[0m\u001b[0;34m\u001b[0m\u001b[0m\n",
      "\u001b[0;32m/usr/local/lib/python3.9/site-packages/sklearn/utils/validation.py\u001b[0m in \u001b[0;36mcheck_array\u001b[0;34m(array, accept_sparse, accept_large_sparse, dtype, order, copy, force_all_finite, ensure_2d, allow_nd, ensure_min_samples, ensure_min_features, estimator)\u001b[0m\n\u001b[1;32m    790\u001b[0m \u001b[0;34m\u001b[0m\u001b[0m\n\u001b[1;32m    791\u001b[0m         \u001b[0;32mif\u001b[0m \u001b[0mforce_all_finite\u001b[0m\u001b[0;34m:\u001b[0m\u001b[0;34m\u001b[0m\u001b[0;34m\u001b[0m\u001b[0m\n\u001b[0;32m--> 792\u001b[0;31m             \u001b[0m_assert_all_finite\u001b[0m\u001b[0;34m(\u001b[0m\u001b[0marray\u001b[0m\u001b[0;34m,\u001b[0m \u001b[0mallow_nan\u001b[0m\u001b[0;34m=\u001b[0m\u001b[0mforce_all_finite\u001b[0m \u001b[0;34m==\u001b[0m \u001b[0;34m\"allow-nan\"\u001b[0m\u001b[0;34m)\u001b[0m\u001b[0;34m\u001b[0m\u001b[0;34m\u001b[0m\u001b[0m\n\u001b[0m\u001b[1;32m    793\u001b[0m \u001b[0;34m\u001b[0m\u001b[0m\n\u001b[1;32m    794\u001b[0m     \u001b[0;32mif\u001b[0m \u001b[0mensure_min_samples\u001b[0m \u001b[0;34m>\u001b[0m \u001b[0;36m0\u001b[0m\u001b[0;34m:\u001b[0m\u001b[0;34m\u001b[0m\u001b[0;34m\u001b[0m\u001b[0m\n",
      "\u001b[0;32m/usr/local/lib/python3.9/site-packages/sklearn/utils/validation.py\u001b[0m in \u001b[0;36m_assert_all_finite\u001b[0;34m(X, allow_nan, msg_dtype)\u001b[0m\n\u001b[1;32m    112\u001b[0m         ):\n\u001b[1;32m    113\u001b[0m             \u001b[0mtype_err\u001b[0m \u001b[0;34m=\u001b[0m \u001b[0;34m\"infinity\"\u001b[0m \u001b[0;32mif\u001b[0m \u001b[0mallow_nan\u001b[0m \u001b[0;32melse\u001b[0m \u001b[0;34m\"NaN, infinity\"\u001b[0m\u001b[0;34m\u001b[0m\u001b[0;34m\u001b[0m\u001b[0m\n\u001b[0;32m--> 114\u001b[0;31m             raise ValueError(\n\u001b[0m\u001b[1;32m    115\u001b[0m                 msg_err.format(\n\u001b[1;32m    116\u001b[0m                     \u001b[0mtype_err\u001b[0m\u001b[0;34m,\u001b[0m \u001b[0mmsg_dtype\u001b[0m \u001b[0;32mif\u001b[0m \u001b[0mmsg_dtype\u001b[0m \u001b[0;32mis\u001b[0m \u001b[0;32mnot\u001b[0m \u001b[0;32mNone\u001b[0m \u001b[0;32melse\u001b[0m \u001b[0mX\u001b[0m\u001b[0;34m.\u001b[0m\u001b[0mdtype\u001b[0m\u001b[0;34m\u001b[0m\u001b[0;34m\u001b[0m\u001b[0m\n",
      "\u001b[0;31mValueError\u001b[0m: Input contains NaN, infinity or a value too large for dtype('float64')."
     ]
    }
   ],
   "source": [
    "pipe = Pipeline([('scale', preprocessing.StandardScaler()), ('Model', Perceptron())])\n",
    "params = [{'Model__penalty' : ['l2'],\n",
    "           'Model__alpha' : [0.001, 0.01, 0.1, 0.2, 0.3]}]\n",
    "clfPerceptron = GridSearchCV(estimator = pipe, param_grid = params, n_jobs=-1, scoring=['average_precision', 'balanced_accuracy', 'roc_auc', 'accuracy', 'f1'], refit='average_precision', verbose=1)\n",
    "#Train and get the best hyper parameters for our model\n",
    "clfPerceptron.fit(xTrain, yTrain)\n",
    "bestPerceptronModel = clfPerceptron.best_params_\n",
    "\n",
    "# Display the results of the grid search as a pandas table\n",
    "display(pd.DataFrame(clfPerceptron.cv_results_))"
   ]
  },
  {
   "attachments": {},
   "cell_type": "markdown",
   "metadata": {},
   "source": [
    "### 2. Gaussian Naive Bayes"
   ]
  },
  {
   "cell_type": "code",
   "execution_count": 9,
   "metadata": {},
   "outputs": [
    {
     "name": "stdout",
     "output_type": "stream",
     "text": [
      "Naive Bayes classifier\n",
      "Fitting 5 folds for each of 1 candidates, totalling 5 fits\n",
      "[CV] END .............................scale=StandardScaler(); total time=   0.0s\n",
      "[CV] END .............................scale=StandardScaler(); total time=   0.0s\n",
      "[CV] END .............................scale=StandardScaler(); total time=   0.0s\n",
      "[CV] END .............................scale=StandardScaler(); total time=   0.0s\n",
      "[CV] END .............................scale=StandardScaler(); total time=   0.0s\n"
     ]
    },
    {
     "data": {
      "text/html": [
       "<div>\n",
       "<style scoped>\n",
       "    .dataframe tbody tr th:only-of-type {\n",
       "        vertical-align: middle;\n",
       "    }\n",
       "\n",
       "    .dataframe tbody tr th {\n",
       "        vertical-align: top;\n",
       "    }\n",
       "\n",
       "    .dataframe thead th {\n",
       "        text-align: right;\n",
       "    }\n",
       "</style>\n",
       "<table border=\"1\" class=\"dataframe\">\n",
       "  <thead>\n",
       "    <tr style=\"text-align: right;\">\n",
       "      <th></th>\n",
       "      <th>mean_fit_time</th>\n",
       "      <th>std_fit_time</th>\n",
       "      <th>mean_score_time</th>\n",
       "      <th>std_score_time</th>\n",
       "      <th>param_scale</th>\n",
       "      <th>params</th>\n",
       "      <th>split0_test_average_precision</th>\n",
       "      <th>split1_test_average_precision</th>\n",
       "      <th>split2_test_average_precision</th>\n",
       "      <th>split3_test_average_precision</th>\n",
       "      <th>...</th>\n",
       "      <th>std_test_accuracy</th>\n",
       "      <th>rank_test_accuracy</th>\n",
       "      <th>split0_test_f1</th>\n",
       "      <th>split1_test_f1</th>\n",
       "      <th>split2_test_f1</th>\n",
       "      <th>split3_test_f1</th>\n",
       "      <th>split4_test_f1</th>\n",
       "      <th>mean_test_f1</th>\n",
       "      <th>std_test_f1</th>\n",
       "      <th>rank_test_f1</th>\n",
       "    </tr>\n",
       "  </thead>\n",
       "  <tbody>\n",
       "    <tr>\n",
       "      <th>0</th>\n",
       "      <td>0.00935</td>\n",
       "      <td>0.001724</td>\n",
       "      <td>0.014031</td>\n",
       "      <td>0.002552</td>\n",
       "      <td>StandardScaler()</td>\n",
       "      <td>{'scale': StandardScaler()}</td>\n",
       "      <td>0.64165</td>\n",
       "      <td>0.811589</td>\n",
       "      <td>0.69498</td>\n",
       "      <td>0.781179</td>\n",
       "      <td>...</td>\n",
       "      <td>0.041706</td>\n",
       "      <td>1</td>\n",
       "      <td>0.644068</td>\n",
       "      <td>0.724138</td>\n",
       "      <td>0.7</td>\n",
       "      <td>0.732143</td>\n",
       "      <td>0.789474</td>\n",
       "      <td>0.717964</td>\n",
       "      <td>0.047194</td>\n",
       "      <td>1</td>\n",
       "    </tr>\n",
       "  </tbody>\n",
       "</table>\n",
       "<p>1 rows × 46 columns</p>\n",
       "</div>"
      ],
      "text/plain": [
       "   mean_fit_time  std_fit_time  mean_score_time  std_score_time  \\\n",
       "0        0.00935      0.001724         0.014031        0.002552   \n",
       "\n",
       "        param_scale                       params  \\\n",
       "0  StandardScaler()  {'scale': StandardScaler()}   \n",
       "\n",
       "   split0_test_average_precision  split1_test_average_precision  \\\n",
       "0                        0.64165                       0.811589   \n",
       "\n",
       "   split2_test_average_precision  split3_test_average_precision  ...  \\\n",
       "0                        0.69498                       0.781179  ...   \n",
       "\n",
       "   std_test_accuracy  rank_test_accuracy  split0_test_f1  split1_test_f1  \\\n",
       "0           0.041706                   1        0.644068        0.724138   \n",
       "\n",
       "   split2_test_f1  split3_test_f1  split4_test_f1  mean_test_f1  std_test_f1  \\\n",
       "0             0.7        0.732143        0.789474      0.717964     0.047194   \n",
       "\n",
       "   rank_test_f1  \n",
       "0             1  \n",
       "\n",
       "[1 rows x 46 columns]"
      ]
     },
     "metadata": {},
     "output_type": "display_data"
    }
   ],
   "source": [
    "print(\"Naive Bayes classifier\")\n",
    "\n",
    "pipe = Pipeline([('scale', preprocessing.StandardScaler()), ('Model', GaussianNB())])\n",
    "params = [{'scale': [preprocessing.StandardScaler()]}]\n",
    "clfNaiveBayes = GridSearchCV(estimator = pipe, param_grid = params, n_jobs=-1, scoring=['average_precision', 'balanced_accuracy', 'roc_auc', 'accuracy', 'f1'], refit='average_precision', verbose=2)\n",
    "#Train and get the best hyper parameters for our model\n",
    "clfNaiveBayes.fit(xTrain, yTrain)\n",
    "bestNiaveBayes = clfNaiveBayes.best_params_\n",
    "\n",
    "\n",
    "# Display the results of the grid search as a pandas table\n",
    "display(pd.DataFrame(clfNaiveBayes.cv_results_))"
   ]
  },
  {
   "attachments": {},
   "cell_type": "markdown",
   "metadata": {},
   "source": [
    "### 3. Linear SVM"
   ]
  },
  {
   "cell_type": "code",
   "execution_count": 10,
   "metadata": {},
   "outputs": [
    {
     "name": "stdout",
     "output_type": "stream",
     "text": [
      "Fitting 5 folds for each of 10 candidates, totalling 50 fits\n",
      "[CV] END Model__C=0.01, Model__loss=hinge, Model__penalty=l2; total time=   0.0s\n",
      "[CV] END Model__C=0.01, Model__loss=hinge, Model__penalty=l2; total time=   0.0s\n",
      "[CV] END Model__C=0.01, Model__loss=hinge, Model__penalty=l2; total time=   0.0s\n",
      "[CV] END Model__C=0.01, Model__loss=hinge, Model__penalty=l2; total time=   0.0s\n",
      "[CV] END Model__C=0.01, Model__loss=hinge, Model__penalty=l2; total time=   0.0s\n",
      "[CV] END .Model__C=0.1, Model__loss=hinge, Model__penalty=l2; total time=   0.0s\n",
      "[CV] END .Model__C=0.1, Model__loss=hinge, Model__penalty=l2; total time=   0.0s\n",
      "[CV] END .Model__C=0.1, Model__loss=hinge, Model__penalty=l2; total time=   0.0s\n",
      "[CV] END .Model__C=0.1, Model__loss=hinge, Model__penalty=l2; total time=   0.0s\n",
      "[CV] END .Model__C=0.1, Model__loss=hinge, Model__penalty=l2; total time=   0.0s\n",
      "[CV] END ...Model__C=1, Model__loss=hinge, Model__penalty=l2; total time=   0.0s\n",
      "[CV] END ...Model__C=1, Model__loss=hinge, Model__penalty=l2; total time=   0.0s\n",
      "[CV] END ...Model__C=1, Model__loss=hinge, Model__penalty=l2; total time=   0.0s\n",
      "[CV] END ...Model__C=1, Model__loss=hinge, Model__penalty=l2; total time=   0.0s\n",
      "[CV] END ...Model__C=1, Model__loss=hinge, Model__penalty=l2; total time=   0.0s\n",
      "[CV] END ..Model__C=10, Model__loss=hinge, Model__penalty=l2; total time=   0.0s\n",
      "[CV] END ..Model__C=10, Model__loss=hinge, Model__penalty=l2; total time=   0.0s\n"
     ]
    },
    {
     "name": "stderr",
     "output_type": "stream",
     "text": [
      "/usr/local/lib/python3.9/site-packages/sklearn/svm/_base.py:1206: ConvergenceWarning: Liblinear failed to converge, increase the number of iterations.\n",
      "  warnings.warn(\n",
      "/usr/local/lib/python3.9/site-packages/sklearn/svm/_base.py:1206: ConvergenceWarning: Liblinear failed to converge, increase the number of iterations.\n",
      "  warnings.warn(\n",
      "/usr/local/lib/python3.9/site-packages/sklearn/svm/_base.py:1206: ConvergenceWarning: Liblinear failed to converge, increase the number of iterations.\n",
      "  warnings.warn(\n",
      "/usr/local/lib/python3.9/site-packages/sklearn/svm/_base.py:1206: ConvergenceWarning: Liblinear failed to converge, increase the number of iterations.\n",
      "  warnings.warn(\n",
      "/usr/local/lib/python3.9/site-packages/sklearn/svm/_base.py:1206: ConvergenceWarning: Liblinear failed to converge, increase the number of iterations.\n",
      "  warnings.warn(\n",
      "/usr/local/lib/python3.9/site-packages/sklearn/svm/_base.py:1206: ConvergenceWarning: Liblinear failed to converge, increase the number of iterations.\n",
      "  warnings.warn(\n",
      "/usr/local/lib/python3.9/site-packages/sklearn/svm/_base.py:1206: ConvergenceWarning: Liblinear failed to converge, increase the number of iterations.\n",
      "  warnings.warn(\n",
      "/usr/local/lib/python3.9/site-packages/sklearn/svm/_base.py:1206: ConvergenceWarning: Liblinear failed to converge, increase the number of iterations.\n",
      "  warnings.warn(\n"
     ]
    },
    {
     "name": "stdout",
     "output_type": "stream",
     "text": [
      "[CV] END ..Model__C=10, Model__loss=hinge, Model__penalty=l2; total time=   0.0s\n",
      "[CV] END ..Model__C=10, Model__loss=hinge, Model__penalty=l2; total time=   0.0s\n",
      "[CV] END ..Model__C=10, Model__loss=hinge, Model__penalty=l2; total time=   0.0s\n",
      "[CV] END .Model__C=100, Model__loss=hinge, Model__penalty=l2; total time=   0.0s\n",
      "[CV] END .Model__C=100, Model__loss=hinge, Model__penalty=l2; total time=   0.0s\n",
      "[CV] END .Model__C=100, Model__loss=hinge, Model__penalty=l2; total time=   0.0s\n",
      "[CV] END .Model__C=100, Model__loss=hinge, Model__penalty=l2; total time=   0.0s\n"
     ]
    },
    {
     "name": "stderr",
     "output_type": "stream",
     "text": [
      "/usr/local/lib/python3.9/site-packages/sklearn/svm/_base.py:1206: ConvergenceWarning: Liblinear failed to converge, increase the number of iterations.\n",
      "  warnings.warn(\n",
      "/usr/local/lib/python3.9/site-packages/sklearn/svm/_base.py:1206: ConvergenceWarning: Liblinear failed to converge, increase the number of iterations.\n",
      "  warnings.warn(\n",
      "/usr/local/lib/python3.9/site-packages/sklearn/svm/_base.py:1206: ConvergenceWarning: Liblinear failed to converge, increase the number of iterations.\n",
      "  warnings.warn(\n",
      "/usr/local/lib/python3.9/site-packages/sklearn/svm/_base.py:1206: ConvergenceWarning: Liblinear failed to converge, increase the number of iterations.\n",
      "  warnings.warn(\n",
      "/usr/local/lib/python3.9/site-packages/sklearn/svm/_base.py:1206: ConvergenceWarning: Liblinear failed to converge, increase the number of iterations.\n",
      "  warnings.warn(\n"
     ]
    },
    {
     "name": "stdout",
     "output_type": "stream",
     "text": [
      "[CV] END .Model__C=100, Model__loss=hinge, Model__penalty=l2; total time=   0.0s\n",
      "[CV] END Model__C=0.01, Model__dual=False, Model__loss=squared_hinge, Model__penalty=l1, scale=StandardScaler(); total time=   0.0s\n",
      "[CV] END Model__C=0.01, Model__dual=False, Model__loss=squared_hinge, Model__penalty=l1, scale=StandardScaler(); total time=   0.0s\n",
      "[CV] END Model__C=0.01, Model__dual=False, Model__loss=squared_hinge, Model__penalty=l1, scale=StandardScaler(); total time=   0.0s\n",
      "[CV] END Model__C=0.01, Model__dual=False, Model__loss=squared_hinge, Model__penalty=l1, scale=StandardScaler(); total time=   0.0s\n",
      "[CV] END Model__C=0.01, Model__dual=False, Model__loss=squared_hinge, Model__penalty=l1, scale=StandardScaler(); total time=   0.0s\n",
      "[CV] END Model__C=0.1, Model__dual=False, Model__loss=squared_hinge, Model__penalty=l1, scale=StandardScaler(); total time=   0.0s\n",
      "[CV] END Model__C=0.1, Model__dual=False, Model__loss=squared_hinge, Model__penalty=l1, scale=StandardScaler(); total time=   0.0s\n",
      "[CV] END Model__C=0.1, Model__dual=False, Model__loss=squared_hinge, Model__penalty=l1, scale=StandardScaler(); total time=   0.0s\n",
      "[CV] END Model__C=0.1, Model__dual=False, Model__loss=squared_hinge, Model__penalty=l1, scale=StandardScaler(); total time=   0.0s\n",
      "[CV] END Model__C=0.1, Model__dual=False, Model__loss=squared_hinge, Model__penalty=l1, scale=StandardScaler(); total time=   0.0s\n",
      "[CV] END Model__C=1, Model__dual=False, Model__loss=squared_hinge, Model__penalty=l1, scale=StandardScaler(); total time=   0.0s\n",
      "[CV] END Model__C=1, Model__dual=False, Model__loss=squared_hinge, Model__penalty=l1, scale=StandardScaler(); total time=   0.0s\n",
      "[CV] END Model__C=1, Model__dual=False, Model__loss=squared_hinge, Model__penalty=l1, scale=StandardScaler(); total time=   0.0s\n",
      "[CV] END Model__C=1, Model__dual=False, Model__loss=squared_hinge, Model__penalty=l1, scale=StandardScaler(); total time=   0.0s\n",
      "[CV] END Model__C=1, Model__dual=False, Model__loss=squared_hinge, Model__penalty=l1, scale=StandardScaler(); total time=   0.0s\n",
      "[CV] END Model__C=10, Model__dual=False, Model__loss=squared_hinge, Model__penalty=l1, scale=StandardScaler(); total time=   0.0s\n",
      "[CV] END Model__C=10, Model__dual=False, Model__loss=squared_hinge, Model__penalty=l1, scale=StandardScaler(); total time=   0.0s\n",
      "[CV] END Model__C=10, Model__dual=False, Model__loss=squared_hinge, Model__penalty=l1, scale=StandardScaler(); total time=   0.0s\n",
      "[CV] END Model__C=10, Model__dual=False, Model__loss=squared_hinge, Model__penalty=l1, scale=StandardScaler(); total time=   0.0s\n",
      "[CV] END Model__C=10, Model__dual=False, Model__loss=squared_hinge, Model__penalty=l1, scale=StandardScaler(); total time=   0.0s\n",
      "[CV] END Model__C=100, Model__dual=False, Model__loss=squared_hinge, Model__penalty=l1, scale=StandardScaler(); total time=   0.0s\n",
      "[CV] END Model__C=100, Model__dual=False, Model__loss=squared_hinge, Model__penalty=l1, scale=StandardScaler(); total time=   0.0s\n",
      "[CV] END Model__C=100, Model__dual=False, Model__loss=squared_hinge, Model__penalty=l1, scale=StandardScaler(); total time=   0.0s\n",
      "[CV] END Model__C=100, Model__dual=False, Model__loss=squared_hinge, Model__penalty=l1, scale=StandardScaler(); total time=   0.0s\n",
      "[CV] END Model__C=100, Model__dual=False, Model__loss=squared_hinge, Model__penalty=l1, scale=StandardScaler(); total time=   0.0s\n"
     ]
    },
    {
     "data": {
      "text/html": [
       "<div>\n",
       "<style scoped>\n",
       "    .dataframe tbody tr th:only-of-type {\n",
       "        vertical-align: middle;\n",
       "    }\n",
       "\n",
       "    .dataframe tbody tr th {\n",
       "        vertical-align: top;\n",
       "    }\n",
       "\n",
       "    .dataframe thead th {\n",
       "        text-align: right;\n",
       "    }\n",
       "</style>\n",
       "<table border=\"1\" class=\"dataframe\">\n",
       "  <thead>\n",
       "    <tr style=\"text-align: right;\">\n",
       "      <th></th>\n",
       "      <th>mean_fit_time</th>\n",
       "      <th>std_fit_time</th>\n",
       "      <th>mean_score_time</th>\n",
       "      <th>std_score_time</th>\n",
       "      <th>param_Model__C</th>\n",
       "      <th>param_Model__loss</th>\n",
       "      <th>param_Model__penalty</th>\n",
       "      <th>param_Model__dual</th>\n",
       "      <th>param_scale</th>\n",
       "      <th>params</th>\n",
       "      <th>...</th>\n",
       "      <th>std_test_accuracy</th>\n",
       "      <th>rank_test_accuracy</th>\n",
       "      <th>split0_test_f1</th>\n",
       "      <th>split1_test_f1</th>\n",
       "      <th>split2_test_f1</th>\n",
       "      <th>split3_test_f1</th>\n",
       "      <th>split4_test_f1</th>\n",
       "      <th>mean_test_f1</th>\n",
       "      <th>std_test_f1</th>\n",
       "      <th>rank_test_f1</th>\n",
       "    </tr>\n",
       "  </thead>\n",
       "  <tbody>\n",
       "    <tr>\n",
       "      <th>0</th>\n",
       "      <td>0.007063</td>\n",
       "      <td>0.001963</td>\n",
       "      <td>0.007822</td>\n",
       "      <td>0.000713</td>\n",
       "      <td>0.01</td>\n",
       "      <td>hinge</td>\n",
       "      <td>l2</td>\n",
       "      <td>NaN</td>\n",
       "      <td>NaN</td>\n",
       "      <td>{'Model__C': 0.01, 'Model__loss': 'hinge', 'Mo...</td>\n",
       "      <td>...</td>\n",
       "      <td>0.030038</td>\n",
       "      <td>1</td>\n",
       "      <td>0.730435</td>\n",
       "      <td>0.767857</td>\n",
       "      <td>0.714286</td>\n",
       "      <td>0.613861</td>\n",
       "      <td>0.738739</td>\n",
       "      <td>0.713036</td>\n",
       "      <td>0.052547</td>\n",
       "      <td>5</td>\n",
       "    </tr>\n",
       "    <tr>\n",
       "      <th>1</th>\n",
       "      <td>0.006197</td>\n",
       "      <td>0.001329</td>\n",
       "      <td>0.007221</td>\n",
       "      <td>0.000784</td>\n",
       "      <td>0.1</td>\n",
       "      <td>hinge</td>\n",
       "      <td>l2</td>\n",
       "      <td>NaN</td>\n",
       "      <td>NaN</td>\n",
       "      <td>{'Model__C': 0.1, 'Model__loss': 'hinge', 'Mod...</td>\n",
       "      <td>...</td>\n",
       "      <td>0.031511</td>\n",
       "      <td>7</td>\n",
       "      <td>0.684685</td>\n",
       "      <td>0.767857</td>\n",
       "      <td>0.714286</td>\n",
       "      <td>0.613861</td>\n",
       "      <td>0.738739</td>\n",
       "      <td>0.703886</td>\n",
       "      <td>0.052704</td>\n",
       "      <td>8</td>\n",
       "    </tr>\n",
       "    <tr>\n",
       "      <th>2</th>\n",
       "      <td>0.008328</td>\n",
       "      <td>0.001636</td>\n",
       "      <td>0.006945</td>\n",
       "      <td>0.000507</td>\n",
       "      <td>1</td>\n",
       "      <td>hinge</td>\n",
       "      <td>l2</td>\n",
       "      <td>NaN</td>\n",
       "      <td>NaN</td>\n",
       "      <td>{'Model__C': 1, 'Model__loss': 'hinge', 'Model...</td>\n",
       "      <td>...</td>\n",
       "      <td>0.031511</td>\n",
       "      <td>7</td>\n",
       "      <td>0.684685</td>\n",
       "      <td>0.767857</td>\n",
       "      <td>0.714286</td>\n",
       "      <td>0.613861</td>\n",
       "      <td>0.738739</td>\n",
       "      <td>0.703886</td>\n",
       "      <td>0.052704</td>\n",
       "      <td>8</td>\n",
       "    </tr>\n",
       "    <tr>\n",
       "      <th>3</th>\n",
       "      <td>0.017674</td>\n",
       "      <td>0.001602</td>\n",
       "      <td>0.006920</td>\n",
       "      <td>0.000474</td>\n",
       "      <td>10</td>\n",
       "      <td>hinge</td>\n",
       "      <td>l2</td>\n",
       "      <td>NaN</td>\n",
       "      <td>NaN</td>\n",
       "      <td>{'Model__C': 10, 'Model__loss': 'hinge', 'Mode...</td>\n",
       "      <td>...</td>\n",
       "      <td>0.031511</td>\n",
       "      <td>7</td>\n",
       "      <td>0.684685</td>\n",
       "      <td>0.767857</td>\n",
       "      <td>0.714286</td>\n",
       "      <td>0.613861</td>\n",
       "      <td>0.738739</td>\n",
       "      <td>0.703886</td>\n",
       "      <td>0.052704</td>\n",
       "      <td>8</td>\n",
       "    </tr>\n",
       "    <tr>\n",
       "      <th>4</th>\n",
       "      <td>0.028031</td>\n",
       "      <td>0.001794</td>\n",
       "      <td>0.007015</td>\n",
       "      <td>0.000470</td>\n",
       "      <td>100</td>\n",
       "      <td>hinge</td>\n",
       "      <td>l2</td>\n",
       "      <td>NaN</td>\n",
       "      <td>NaN</td>\n",
       "      <td>{'Model__C': 100, 'Model__loss': 'hinge', 'Mod...</td>\n",
       "      <td>...</td>\n",
       "      <td>0.033534</td>\n",
       "      <td>10</td>\n",
       "      <td>0.708661</td>\n",
       "      <td>0.700855</td>\n",
       "      <td>0.714286</td>\n",
       "      <td>0.626263</td>\n",
       "      <td>0.777778</td>\n",
       "      <td>0.705568</td>\n",
       "      <td>0.048190</td>\n",
       "      <td>7</td>\n",
       "    </tr>\n",
       "    <tr>\n",
       "      <th>5</th>\n",
       "      <td>0.004260</td>\n",
       "      <td>0.000235</td>\n",
       "      <td>0.005749</td>\n",
       "      <td>0.000404</td>\n",
       "      <td>0.01</td>\n",
       "      <td>squared_hinge</td>\n",
       "      <td>l1</td>\n",
       "      <td>False</td>\n",
       "      <td>StandardScaler()</td>\n",
       "      <td>{'Model__C': 0.01, 'Model__dual': False, 'Mode...</td>\n",
       "      <td>...</td>\n",
       "      <td>0.030271</td>\n",
       "      <td>3</td>\n",
       "      <td>0.727273</td>\n",
       "      <td>0.767857</td>\n",
       "      <td>0.714286</td>\n",
       "      <td>0.613861</td>\n",
       "      <td>0.738739</td>\n",
       "      <td>0.712403</td>\n",
       "      <td>0.052352</td>\n",
       "      <td>6</td>\n",
       "    </tr>\n",
       "    <tr>\n",
       "      <th>6</th>\n",
       "      <td>0.004736</td>\n",
       "      <td>0.000380</td>\n",
       "      <td>0.006188</td>\n",
       "      <td>0.000193</td>\n",
       "      <td>0.1</td>\n",
       "      <td>squared_hinge</td>\n",
       "      <td>l1</td>\n",
       "      <td>False</td>\n",
       "      <td>StandardScaler()</td>\n",
       "      <td>{'Model__C': 0.1, 'Model__dual': False, 'Model...</td>\n",
       "      <td>...</td>\n",
       "      <td>0.036026</td>\n",
       "      <td>2</td>\n",
       "      <td>0.700000</td>\n",
       "      <td>0.774775</td>\n",
       "      <td>0.700855</td>\n",
       "      <td>0.640777</td>\n",
       "      <td>0.771930</td>\n",
       "      <td>0.717667</td>\n",
       "      <td>0.050423</td>\n",
       "      <td>1</td>\n",
       "    </tr>\n",
       "    <tr>\n",
       "      <th>7</th>\n",
       "      <td>0.005647</td>\n",
       "      <td>0.000960</td>\n",
       "      <td>0.006381</td>\n",
       "      <td>0.000445</td>\n",
       "      <td>1</td>\n",
       "      <td>squared_hinge</td>\n",
       "      <td>l1</td>\n",
       "      <td>False</td>\n",
       "      <td>StandardScaler()</td>\n",
       "      <td>{'Model__C': 1, 'Model__dual': False, 'Model__...</td>\n",
       "      <td>...</td>\n",
       "      <td>0.034561</td>\n",
       "      <td>4</td>\n",
       "      <td>0.694915</td>\n",
       "      <td>0.770642</td>\n",
       "      <td>0.700855</td>\n",
       "      <td>0.640777</td>\n",
       "      <td>0.761062</td>\n",
       "      <td>0.713650</td>\n",
       "      <td>0.047584</td>\n",
       "      <td>2</td>\n",
       "    </tr>\n",
       "    <tr>\n",
       "      <th>8</th>\n",
       "      <td>0.011201</td>\n",
       "      <td>0.001167</td>\n",
       "      <td>0.006926</td>\n",
       "      <td>0.000919</td>\n",
       "      <td>10</td>\n",
       "      <td>squared_hinge</td>\n",
       "      <td>l1</td>\n",
       "      <td>False</td>\n",
       "      <td>StandardScaler()</td>\n",
       "      <td>{'Model__C': 10, 'Model__dual': False, 'Model_...</td>\n",
       "      <td>...</td>\n",
       "      <td>0.034561</td>\n",
       "      <td>4</td>\n",
       "      <td>0.694915</td>\n",
       "      <td>0.770642</td>\n",
       "      <td>0.700855</td>\n",
       "      <td>0.640777</td>\n",
       "      <td>0.761062</td>\n",
       "      <td>0.713650</td>\n",
       "      <td>0.047584</td>\n",
       "      <td>2</td>\n",
       "    </tr>\n",
       "    <tr>\n",
       "      <th>9</th>\n",
       "      <td>0.018301</td>\n",
       "      <td>0.009918</td>\n",
       "      <td>0.007366</td>\n",
       "      <td>0.001368</td>\n",
       "      <td>100</td>\n",
       "      <td>squared_hinge</td>\n",
       "      <td>l1</td>\n",
       "      <td>False</td>\n",
       "      <td>StandardScaler()</td>\n",
       "      <td>{'Model__C': 100, 'Model__dual': False, 'Model...</td>\n",
       "      <td>...</td>\n",
       "      <td>0.034561</td>\n",
       "      <td>4</td>\n",
       "      <td>0.694915</td>\n",
       "      <td>0.770642</td>\n",
       "      <td>0.700855</td>\n",
       "      <td>0.640777</td>\n",
       "      <td>0.761062</td>\n",
       "      <td>0.713650</td>\n",
       "      <td>0.047584</td>\n",
       "      <td>2</td>\n",
       "    </tr>\n",
       "  </tbody>\n",
       "</table>\n",
       "<p>10 rows × 50 columns</p>\n",
       "</div>"
      ],
      "text/plain": [
       "   mean_fit_time  std_fit_time  mean_score_time  std_score_time  \\\n",
       "0       0.007063      0.001963         0.007822        0.000713   \n",
       "1       0.006197      0.001329         0.007221        0.000784   \n",
       "2       0.008328      0.001636         0.006945        0.000507   \n",
       "3       0.017674      0.001602         0.006920        0.000474   \n",
       "4       0.028031      0.001794         0.007015        0.000470   \n",
       "5       0.004260      0.000235         0.005749        0.000404   \n",
       "6       0.004736      0.000380         0.006188        0.000193   \n",
       "7       0.005647      0.000960         0.006381        0.000445   \n",
       "8       0.011201      0.001167         0.006926        0.000919   \n",
       "9       0.018301      0.009918         0.007366        0.001368   \n",
       "\n",
       "  param_Model__C param_Model__loss param_Model__penalty param_Model__dual  \\\n",
       "0           0.01             hinge                   l2               NaN   \n",
       "1            0.1             hinge                   l2               NaN   \n",
       "2              1             hinge                   l2               NaN   \n",
       "3             10             hinge                   l2               NaN   \n",
       "4            100             hinge                   l2               NaN   \n",
       "5           0.01     squared_hinge                   l1             False   \n",
       "6            0.1     squared_hinge                   l1             False   \n",
       "7              1     squared_hinge                   l1             False   \n",
       "8             10     squared_hinge                   l1             False   \n",
       "9            100     squared_hinge                   l1             False   \n",
       "\n",
       "        param_scale                                             params  ...  \\\n",
       "0               NaN  {'Model__C': 0.01, 'Model__loss': 'hinge', 'Mo...  ...   \n",
       "1               NaN  {'Model__C': 0.1, 'Model__loss': 'hinge', 'Mod...  ...   \n",
       "2               NaN  {'Model__C': 1, 'Model__loss': 'hinge', 'Model...  ...   \n",
       "3               NaN  {'Model__C': 10, 'Model__loss': 'hinge', 'Mode...  ...   \n",
       "4               NaN  {'Model__C': 100, 'Model__loss': 'hinge', 'Mod...  ...   \n",
       "5  StandardScaler()  {'Model__C': 0.01, 'Model__dual': False, 'Mode...  ...   \n",
       "6  StandardScaler()  {'Model__C': 0.1, 'Model__dual': False, 'Model...  ...   \n",
       "7  StandardScaler()  {'Model__C': 1, 'Model__dual': False, 'Model__...  ...   \n",
       "8  StandardScaler()  {'Model__C': 10, 'Model__dual': False, 'Model_...  ...   \n",
       "9  StandardScaler()  {'Model__C': 100, 'Model__dual': False, 'Model...  ...   \n",
       "\n",
       "   std_test_accuracy  rank_test_accuracy  split0_test_f1  split1_test_f1  \\\n",
       "0           0.030038                   1        0.730435        0.767857   \n",
       "1           0.031511                   7        0.684685        0.767857   \n",
       "2           0.031511                   7        0.684685        0.767857   \n",
       "3           0.031511                   7        0.684685        0.767857   \n",
       "4           0.033534                  10        0.708661        0.700855   \n",
       "5           0.030271                   3        0.727273        0.767857   \n",
       "6           0.036026                   2        0.700000        0.774775   \n",
       "7           0.034561                   4        0.694915        0.770642   \n",
       "8           0.034561                   4        0.694915        0.770642   \n",
       "9           0.034561                   4        0.694915        0.770642   \n",
       "\n",
       "   split2_test_f1  split3_test_f1  split4_test_f1  mean_test_f1  std_test_f1  \\\n",
       "0        0.714286        0.613861        0.738739      0.713036     0.052547   \n",
       "1        0.714286        0.613861        0.738739      0.703886     0.052704   \n",
       "2        0.714286        0.613861        0.738739      0.703886     0.052704   \n",
       "3        0.714286        0.613861        0.738739      0.703886     0.052704   \n",
       "4        0.714286        0.626263        0.777778      0.705568     0.048190   \n",
       "5        0.714286        0.613861        0.738739      0.712403     0.052352   \n",
       "6        0.700855        0.640777        0.771930      0.717667     0.050423   \n",
       "7        0.700855        0.640777        0.761062      0.713650     0.047584   \n",
       "8        0.700855        0.640777        0.761062      0.713650     0.047584   \n",
       "9        0.700855        0.640777        0.761062      0.713650     0.047584   \n",
       "\n",
       "   rank_test_f1  \n",
       "0             5  \n",
       "1             8  \n",
       "2             8  \n",
       "3             8  \n",
       "4             7  \n",
       "5             6  \n",
       "6             1  \n",
       "7             2  \n",
       "8             2  \n",
       "9             2  \n",
       "\n",
       "[10 rows x 50 columns]"
      ]
     },
     "metadata": {},
     "output_type": "display_data"
    }
   ],
   "source": [
    "pipe = Pipeline([('scale', preprocessing.StandardScaler()), ('Model', LinearSVC(max_iter=1000))])\n",
    "# Define our parameters for the grid search\n",
    "params = [ {'Model__penalty': ['l2'], 'Model__loss': ['hinge'], 'Model__C': [ 1*10**-2, 1*10**-1, 1, 10, 100]},\n",
    "          {'scale': [preprocessing.StandardScaler()],\n",
    "           'Model__penalty': ['l1'], 'Model__loss': ['squared_hinge'], 'Model__dual': [False], 'Model__C': [1*10**-2, 1*10**-1, 1, 10, 100]}]\n",
    "\n",
    "clfLinearSVM = GridSearchCV(estimator = pipe, param_grid = params, scoring=['average_precision', 'balanced_accuracy', 'roc_auc', 'accuracy', 'f1'], refit='average_precision', verbose=2)\n",
    "# Train and get the best hyper parameters for our model\n",
    "clfLinearSVM.fit(xTrain, yTrain)\n",
    "bestLinearSVM = clfLinearSVM.best_params_\n",
    "\n",
    "# Display the results of the grid search as a pandas table\n",
    "display(pd.DataFrame(clfLinearSVM.cv_results_))\n",
    "# print(pipe.get_params())"
   ]
  },
  {
   "attachments": {},
   "cell_type": "markdown",
   "metadata": {},
   "source": [
    "### 4. Kernalised SVM"
   ]
  },
  {
   "cell_type": "code",
   "execution_count": 11,
   "metadata": {},
   "outputs": [
    {
     "name": "stdout",
     "output_type": "stream",
     "text": [
      "Fitting 5 folds for each of 120 candidates, totalling 600 fits\n",
      "[CV] END Model__C=0.01, Model__coef0=-1, Model__degree=2, Model__gamma=scale, Model__kernel=linear, scale=StandardScaler(); total time=   0.0s\n",
      "[CV] END Model__C=0.01, Model__coef0=-1, Model__degree=2, Model__gamma=scale, Model__kernel=linear, scale=StandardScaler(); total time=   0.0s\n",
      "[CV] END Model__C=0.01, Model__coef0=-1, Model__degree=2, Model__gamma=scale, Model__kernel=linear, scale=StandardScaler(); total time=   0.0s\n",
      "[CV] END Model__C=0.01, Model__coef0=-1, Model__degree=2, Model__gamma=scale, Model__kernel=linear, scale=StandardScaler(); total time=   0.0s\n",
      "[CV] END Model__C=0.01, Model__coef0=-1, Model__degree=2, Model__gamma=scale, Model__kernel=linear, scale=StandardScaler(); total time=   0.0s\n",
      "[CV] END Model__C=0.01, Model__coef0=-1, Model__degree=2, Model__gamma=scale, Model__kernel=poly, scale=StandardScaler(); total time=   0.0s\n",
      "[CV] END Model__C=0.01, Model__coef0=-1, Model__degree=2, Model__gamma=scale, Model__kernel=poly, scale=StandardScaler(); total time=   0.0s\n",
      "[CV] END Model__C=0.01, Model__coef0=-1, Model__degree=2, Model__gamma=scale, Model__kernel=poly, scale=StandardScaler(); total time=   0.0s\n",
      "[CV] END Model__C=0.01, Model__coef0=-1, Model__degree=2, Model__gamma=scale, Model__kernel=poly, scale=StandardScaler(); total time=   0.0s\n",
      "[CV] END Model__C=0.01, Model__coef0=-1, Model__degree=2, Model__gamma=scale, Model__kernel=poly, scale=StandardScaler(); total time=   0.0s\n",
      "[CV] END Model__C=0.01, Model__coef0=-1, Model__degree=2, Model__gamma=scale, Model__kernel=rbf, scale=StandardScaler(); total time=   0.0s\n",
      "[CV] END Model__C=0.01, Model__coef0=-1, Model__degree=2, Model__gamma=scale, Model__kernel=rbf, scale=StandardScaler(); total time=   0.0s\n",
      "[CV] END Model__C=0.01, Model__coef0=-1, Model__degree=2, Model__gamma=scale, Model__kernel=rbf, scale=StandardScaler(); total time=   0.0s\n",
      "[CV] END Model__C=0.01, Model__coef0=-1, Model__degree=2, Model__gamma=scale, Model__kernel=rbf, scale=StandardScaler(); total time=   0.0s\n",
      "[CV] END Model__C=0.01, Model__coef0=-1, Model__degree=2, Model__gamma=scale, Model__kernel=rbf, scale=StandardScaler(); total time=   0.0s\n",
      "[CV] END Model__C=0.01, Model__coef0=-1, Model__degree=2, Model__gamma=auto, Model__kernel=linear, scale=StandardScaler(); total time=   0.0s\n",
      "[CV] END Model__C=0.01, Model__coef0=-1, Model__degree=2, Model__gamma=auto, Model__kernel=linear, scale=StandardScaler(); total time=   0.0s\n",
      "[CV] END Model__C=0.01, Model__coef0=-1, Model__degree=2, Model__gamma=auto, Model__kernel=linear, scale=StandardScaler(); total time=   0.0s\n",
      "[CV] END Model__C=0.01, Model__coef0=-1, Model__degree=2, Model__gamma=auto, Model__kernel=linear, scale=StandardScaler(); total time=   0.0s\n",
      "[CV] END Model__C=0.01, Model__coef0=-1, Model__degree=2, Model__gamma=auto, Model__kernel=linear, scale=StandardScaler(); total time=   0.0s\n",
      "[CV] END Model__C=0.01, Model__coef0=-1, Model__degree=2, Model__gamma=auto, Model__kernel=poly, scale=StandardScaler(); total time=   0.0s\n",
      "[CV] END Model__C=0.01, Model__coef0=-1, Model__degree=2, Model__gamma=auto, Model__kernel=poly, scale=StandardScaler(); total time=   0.0s\n",
      "[CV] END Model__C=0.01, Model__coef0=-1, Model__degree=2, Model__gamma=auto, Model__kernel=poly, scale=StandardScaler(); total time=   0.0s\n",
      "[CV] END Model__C=0.01, Model__coef0=-1, Model__degree=2, Model__gamma=auto, Model__kernel=poly, scale=StandardScaler(); total time=   0.0s\n",
      "[CV] END Model__C=0.01, Model__coef0=-1, Model__degree=2, Model__gamma=auto, Model__kernel=poly, scale=StandardScaler(); total time=   0.0s\n",
      "[CV] END Model__C=0.01, Model__coef0=-1, Model__degree=2, Model__gamma=auto, Model__kernel=rbf, scale=StandardScaler(); total time=   0.0s\n",
      "[CV] END Model__C=0.01, Model__coef0=-1, Model__degree=2, Model__gamma=auto, Model__kernel=rbf, scale=StandardScaler(); total time=   0.0s\n",
      "[CV] END Model__C=0.01, Model__coef0=-1, Model__degree=2, Model__gamma=auto, Model__kernel=rbf, scale=StandardScaler(); total time=   0.0s\n",
      "[CV] END Model__C=0.01, Model__coef0=-1, Model__degree=2, Model__gamma=auto, Model__kernel=rbf, scale=StandardScaler(); total time=   0.0s\n",
      "[CV] END Model__C=0.01, Model__coef0=-1, Model__degree=2, Model__gamma=auto, Model__kernel=rbf, scale=StandardScaler(); total time=   0.0s\n",
      "[CV] END Model__C=0.01, Model__coef0=-1, Model__degree=3, Model__gamma=scale, Model__kernel=linear, scale=StandardScaler(); total time=   0.0s\n",
      "[CV] END Model__C=0.01, Model__coef0=-1, Model__degree=3, Model__gamma=scale, Model__kernel=linear, scale=StandardScaler(); total time=   0.0s\n",
      "[CV] END Model__C=0.01, Model__coef0=-1, Model__degree=3, Model__gamma=scale, Model__kernel=linear, scale=StandardScaler(); total time=   0.0s\n",
      "[CV] END Model__C=0.01, Model__coef0=-1, Model__degree=3, Model__gamma=scale, Model__kernel=linear, scale=StandardScaler(); total time=   0.0s\n",
      "[CV] END Model__C=0.01, Model__coef0=-1, Model__degree=3, Model__gamma=scale, Model__kernel=linear, scale=StandardScaler(); total time=   0.0s\n",
      "[CV] END Model__C=0.01, Model__coef0=-1, Model__degree=3, Model__gamma=scale, Model__kernel=poly, scale=StandardScaler(); total time=   0.0s\n",
      "[CV] END Model__C=0.01, Model__coef0=-1, Model__degree=3, Model__gamma=scale, Model__kernel=poly, scale=StandardScaler(); total time=   0.0s\n",
      "[CV] END Model__C=0.01, Model__coef0=-1, Model__degree=3, Model__gamma=scale, Model__kernel=poly, scale=StandardScaler(); total time=   0.0s\n",
      "[CV] END Model__C=0.01, Model__coef0=-1, Model__degree=3, Model__gamma=scale, Model__kernel=poly, scale=StandardScaler(); total time=   0.0s\n",
      "[CV] END Model__C=0.01, Model__coef0=-1, Model__degree=3, Model__gamma=scale, Model__kernel=poly, scale=StandardScaler(); total time=   0.0s\n",
      "[CV] END Model__C=0.01, Model__coef0=-1, Model__degree=3, Model__gamma=scale, Model__kernel=rbf, scale=StandardScaler(); total time=   0.0s\n",
      "[CV] END Model__C=0.01, Model__coef0=-1, Model__degree=3, Model__gamma=scale, Model__kernel=rbf, scale=StandardScaler(); total time=   0.0s\n",
      "[CV] END Model__C=0.01, Model__coef0=-1, Model__degree=3, Model__gamma=scale, Model__kernel=rbf, scale=StandardScaler(); total time=   0.0s\n",
      "[CV] END Model__C=0.01, Model__coef0=-1, Model__degree=3, Model__gamma=scale, Model__kernel=rbf, scale=StandardScaler(); total time=   0.0s\n",
      "[CV] END Model__C=0.01, Model__coef0=-1, Model__degree=3, Model__gamma=scale, Model__kernel=rbf, scale=StandardScaler(); total time=   0.0s\n",
      "[CV] END Model__C=0.01, Model__coef0=-1, Model__degree=3, Model__gamma=auto, Model__kernel=linear, scale=StandardScaler(); total time=   0.0s\n",
      "[CV] END Model__C=0.01, Model__coef0=-1, Model__degree=3, Model__gamma=auto, Model__kernel=linear, scale=StandardScaler(); total time=   0.0s\n",
      "[CV] END Model__C=0.01, Model__coef0=-1, Model__degree=3, Model__gamma=auto, Model__kernel=linear, scale=StandardScaler(); total time=   0.0s\n",
      "[CV] END Model__C=0.01, Model__coef0=-1, Model__degree=3, Model__gamma=auto, Model__kernel=linear, scale=StandardScaler(); total time=   0.0s\n",
      "[CV] END Model__C=0.01, Model__coef0=-1, Model__degree=3, Model__gamma=auto, Model__kernel=linear, scale=StandardScaler(); total time=   0.0s\n",
      "[CV] END Model__C=0.01, Model__coef0=-1, Model__degree=3, Model__gamma=auto, Model__kernel=poly, scale=StandardScaler(); total time=   0.0s\n",
      "[CV] END Model__C=0.01, Model__coef0=-1, Model__degree=3, Model__gamma=auto, Model__kernel=poly, scale=StandardScaler(); total time=   0.0s\n",
      "[CV] END Model__C=0.01, Model__coef0=-1, Model__degree=3, Model__gamma=auto, Model__kernel=poly, scale=StandardScaler(); total time=   0.0s\n",
      "[CV] END Model__C=0.01, Model__coef0=-1, Model__degree=3, Model__gamma=auto, Model__kernel=poly, scale=StandardScaler(); total time=   0.0s\n",
      "[CV] END Model__C=0.01, Model__coef0=-1, Model__degree=3, Model__gamma=auto, Model__kernel=poly, scale=StandardScaler(); total time=   0.0s\n",
      "[CV] END Model__C=0.01, Model__coef0=-1, Model__degree=3, Model__gamma=auto, Model__kernel=rbf, scale=StandardScaler(); total time=   0.0s\n",
      "[CV] END Model__C=0.01, Model__coef0=-1, Model__degree=3, Model__gamma=auto, Model__kernel=rbf, scale=StandardScaler(); total time=   0.0s\n",
      "[CV] END Model__C=0.01, Model__coef0=-1, Model__degree=3, Model__gamma=auto, Model__kernel=rbf, scale=StandardScaler(); total time=   0.0s\n",
      "[CV] END Model__C=0.01, Model__coef0=-1, Model__degree=3, Model__gamma=auto, Model__kernel=rbf, scale=StandardScaler(); total time=   0.0s\n",
      "[CV] END Model__C=0.01, Model__coef0=-1, Model__degree=3, Model__gamma=auto, Model__kernel=rbf, scale=StandardScaler(); total time=   0.0s\n",
      "[CV] END Model__C=0.01, Model__coef0=1, Model__degree=2, Model__gamma=scale, Model__kernel=linear, scale=StandardScaler(); total time=   0.0s\n",
      "[CV] END Model__C=0.01, Model__coef0=1, Model__degree=2, Model__gamma=scale, Model__kernel=linear, scale=StandardScaler(); total time=   0.0s\n",
      "[CV] END Model__C=0.01, Model__coef0=1, Model__degree=2, Model__gamma=scale, Model__kernel=linear, scale=StandardScaler(); total time=   0.0s\n",
      "[CV] END Model__C=0.01, Model__coef0=1, Model__degree=2, Model__gamma=scale, Model__kernel=linear, scale=StandardScaler(); total time=   0.0s\n",
      "[CV] END Model__C=0.01, Model__coef0=1, Model__degree=2, Model__gamma=scale, Model__kernel=linear, scale=StandardScaler(); total time=   0.0s\n",
      "[CV] END Model__C=0.01, Model__coef0=1, Model__degree=2, Model__gamma=scale, Model__kernel=poly, scale=StandardScaler(); total time=   0.0s\n",
      "[CV] END Model__C=0.01, Model__coef0=1, Model__degree=2, Model__gamma=scale, Model__kernel=poly, scale=StandardScaler(); total time=   0.0s\n",
      "[CV] END Model__C=0.01, Model__coef0=1, Model__degree=2, Model__gamma=scale, Model__kernel=poly, scale=StandardScaler(); total time=   0.0s\n",
      "[CV] END Model__C=0.01, Model__coef0=1, Model__degree=2, Model__gamma=scale, Model__kernel=poly, scale=StandardScaler(); total time=   0.0s\n",
      "[CV] END Model__C=0.01, Model__coef0=1, Model__degree=2, Model__gamma=scale, Model__kernel=poly, scale=StandardScaler(); total time=   0.0s\n",
      "[CV] END Model__C=0.01, Model__coef0=1, Model__degree=2, Model__gamma=scale, Model__kernel=rbf, scale=StandardScaler(); total time=   0.0s\n",
      "[CV] END Model__C=0.01, Model__coef0=1, Model__degree=2, Model__gamma=scale, Model__kernel=rbf, scale=StandardScaler(); total time=   0.0s\n",
      "[CV] END Model__C=0.01, Model__coef0=1, Model__degree=2, Model__gamma=scale, Model__kernel=rbf, scale=StandardScaler(); total time=   0.0s\n",
      "[CV] END Model__C=0.01, Model__coef0=1, Model__degree=2, Model__gamma=scale, Model__kernel=rbf, scale=StandardScaler(); total time=   0.0s\n",
      "[CV] END Model__C=0.01, Model__coef0=1, Model__degree=2, Model__gamma=scale, Model__kernel=rbf, scale=StandardScaler(); total time=   0.0s\n",
      "[CV] END Model__C=0.01, Model__coef0=1, Model__degree=2, Model__gamma=auto, Model__kernel=linear, scale=StandardScaler(); total time=   0.0s\n",
      "[CV] END Model__C=0.01, Model__coef0=1, Model__degree=2, Model__gamma=auto, Model__kernel=linear, scale=StandardScaler(); total time=   0.0s\n",
      "[CV] END Model__C=0.01, Model__coef0=1, Model__degree=2, Model__gamma=auto, Model__kernel=linear, scale=StandardScaler(); total time=   0.0s\n",
      "[CV] END Model__C=0.01, Model__coef0=1, Model__degree=2, Model__gamma=auto, Model__kernel=linear, scale=StandardScaler(); total time=   0.0s\n",
      "[CV] END Model__C=0.01, Model__coef0=1, Model__degree=2, Model__gamma=auto, Model__kernel=linear, scale=StandardScaler(); total time=   0.0s\n",
      "[CV] END Model__C=0.01, Model__coef0=1, Model__degree=2, Model__gamma=auto, Model__kernel=poly, scale=StandardScaler(); total time=   0.0s\n",
      "[CV] END Model__C=0.01, Model__coef0=1, Model__degree=2, Model__gamma=auto, Model__kernel=poly, scale=StandardScaler(); total time=   0.0s\n",
      "[CV] END Model__C=0.01, Model__coef0=1, Model__degree=2, Model__gamma=auto, Model__kernel=poly, scale=StandardScaler(); total time=   0.0s\n",
      "[CV] END Model__C=0.01, Model__coef0=1, Model__degree=2, Model__gamma=auto, Model__kernel=poly, scale=StandardScaler(); total time=   0.0s\n",
      "[CV] END Model__C=0.01, Model__coef0=1, Model__degree=2, Model__gamma=auto, Model__kernel=poly, scale=StandardScaler(); total time=   0.0s\n",
      "[CV] END Model__C=0.01, Model__coef0=1, Model__degree=2, Model__gamma=auto, Model__kernel=rbf, scale=StandardScaler(); total time=   0.0s\n",
      "[CV] END Model__C=0.01, Model__coef0=1, Model__degree=2, Model__gamma=auto, Model__kernel=rbf, scale=StandardScaler(); total time=   0.0s\n",
      "[CV] END Model__C=0.01, Model__coef0=1, Model__degree=2, Model__gamma=auto, Model__kernel=rbf, scale=StandardScaler(); total time=   0.0s\n",
      "[CV] END Model__C=0.01, Model__coef0=1, Model__degree=2, Model__gamma=auto, Model__kernel=rbf, scale=StandardScaler(); total time=   0.0s\n",
      "[CV] END Model__C=0.01, Model__coef0=1, Model__degree=2, Model__gamma=auto, Model__kernel=rbf, scale=StandardScaler(); total time=   0.0s\n",
      "[CV] END Model__C=0.01, Model__coef0=1, Model__degree=3, Model__gamma=scale, Model__kernel=linear, scale=StandardScaler(); total time=   0.0s\n",
      "[CV] END Model__C=0.01, Model__coef0=1, Model__degree=3, Model__gamma=scale, Model__kernel=linear, scale=StandardScaler(); total time=   0.0s\n",
      "[CV] END Model__C=0.01, Model__coef0=1, Model__degree=3, Model__gamma=scale, Model__kernel=linear, scale=StandardScaler(); total time=   0.0s\n",
      "[CV] END Model__C=0.01, Model__coef0=1, Model__degree=3, Model__gamma=scale, Model__kernel=linear, scale=StandardScaler(); total time=   0.0s\n",
      "[CV] END Model__C=0.01, Model__coef0=1, Model__degree=3, Model__gamma=scale, Model__kernel=linear, scale=StandardScaler(); total time=   0.0s\n",
      "[CV] END Model__C=0.01, Model__coef0=1, Model__degree=3, Model__gamma=scale, Model__kernel=poly, scale=StandardScaler(); total time=   0.0s\n",
      "[CV] END Model__C=0.01, Model__coef0=1, Model__degree=3, Model__gamma=scale, Model__kernel=poly, scale=StandardScaler(); total time=   0.0s\n",
      "[CV] END Model__C=0.01, Model__coef0=1, Model__degree=3, Model__gamma=scale, Model__kernel=poly, scale=StandardScaler(); total time=   0.0s\n",
      "[CV] END Model__C=0.01, Model__coef0=1, Model__degree=3, Model__gamma=scale, Model__kernel=poly, scale=StandardScaler(); total time=   0.0s\n",
      "[CV] END Model__C=0.01, Model__coef0=1, Model__degree=3, Model__gamma=scale, Model__kernel=poly, scale=StandardScaler(); total time=   0.0s\n",
      "[CV] END Model__C=0.01, Model__coef0=1, Model__degree=3, Model__gamma=scale, Model__kernel=rbf, scale=StandardScaler(); total time=   0.0s\n",
      "[CV] END Model__C=0.01, Model__coef0=1, Model__degree=3, Model__gamma=scale, Model__kernel=rbf, scale=StandardScaler(); total time=   0.0s\n",
      "[CV] END Model__C=0.01, Model__coef0=1, Model__degree=3, Model__gamma=scale, Model__kernel=rbf, scale=StandardScaler(); total time=   0.0s\n",
      "[CV] END Model__C=0.01, Model__coef0=1, Model__degree=3, Model__gamma=scale, Model__kernel=rbf, scale=StandardScaler(); total time=   0.0s\n",
      "[CV] END Model__C=0.01, Model__coef0=1, Model__degree=3, Model__gamma=scale, Model__kernel=rbf, scale=StandardScaler(); total time=   0.0s\n",
      "[CV] END Model__C=0.01, Model__coef0=1, Model__degree=3, Model__gamma=auto, Model__kernel=linear, scale=StandardScaler(); total time=   0.0s\n",
      "[CV] END Model__C=0.01, Model__coef0=1, Model__degree=3, Model__gamma=auto, Model__kernel=linear, scale=StandardScaler(); total time=   0.0s\n",
      "[CV] END Model__C=0.01, Model__coef0=1, Model__degree=3, Model__gamma=auto, Model__kernel=linear, scale=StandardScaler(); total time=   0.0s\n",
      "[CV] END Model__C=0.01, Model__coef0=1, Model__degree=3, Model__gamma=auto, Model__kernel=linear, scale=StandardScaler(); total time=   0.0s\n",
      "[CV] END Model__C=0.01, Model__coef0=1, Model__degree=3, Model__gamma=auto, Model__kernel=linear, scale=StandardScaler(); total time=   0.0s\n",
      "[CV] END Model__C=0.01, Model__coef0=1, Model__degree=3, Model__gamma=auto, Model__kernel=poly, scale=StandardScaler(); total time=   0.0s\n",
      "[CV] END Model__C=0.01, Model__coef0=1, Model__degree=3, Model__gamma=auto, Model__kernel=poly, scale=StandardScaler(); total time=   0.0s\n",
      "[CV] END Model__C=0.01, Model__coef0=1, Model__degree=3, Model__gamma=auto, Model__kernel=poly, scale=StandardScaler(); total time=   0.0s\n",
      "[CV] END Model__C=0.01, Model__coef0=1, Model__degree=3, Model__gamma=auto, Model__kernel=poly, scale=StandardScaler(); total time=   0.0s\n",
      "[CV] END Model__C=0.01, Model__coef0=1, Model__degree=3, Model__gamma=auto, Model__kernel=poly, scale=StandardScaler(); total time=   0.0s\n",
      "[CV] END Model__C=0.01, Model__coef0=1, Model__degree=3, Model__gamma=auto, Model__kernel=rbf, scale=StandardScaler(); total time=   0.0s\n",
      "[CV] END Model__C=0.01, Model__coef0=1, Model__degree=3, Model__gamma=auto, Model__kernel=rbf, scale=StandardScaler(); total time=   0.0s\n",
      "[CV] END Model__C=0.01, Model__coef0=1, Model__degree=3, Model__gamma=auto, Model__kernel=rbf, scale=StandardScaler(); total time=   0.0s\n",
      "[CV] END Model__C=0.01, Model__coef0=1, Model__degree=3, Model__gamma=auto, Model__kernel=rbf, scale=StandardScaler(); total time=   0.0s\n",
      "[CV] END Model__C=0.01, Model__coef0=1, Model__degree=3, Model__gamma=auto, Model__kernel=rbf, scale=StandardScaler(); total time=   0.0s\n",
      "[CV] END Model__C=0.1, Model__coef0=-1, Model__degree=2, Model__gamma=scale, Model__kernel=linear, scale=StandardScaler(); total time=   0.0s\n",
      "[CV] END Model__C=0.1, Model__coef0=-1, Model__degree=2, Model__gamma=scale, Model__kernel=linear, scale=StandardScaler(); total time=   0.0s\n",
      "[CV] END Model__C=0.1, Model__coef0=-1, Model__degree=2, Model__gamma=scale, Model__kernel=linear, scale=StandardScaler(); total time=   0.0s\n",
      "[CV] END Model__C=0.1, Model__coef0=-1, Model__degree=2, Model__gamma=scale, Model__kernel=linear, scale=StandardScaler(); total time=   0.0s\n",
      "[CV] END Model__C=0.1, Model__coef0=-1, Model__degree=2, Model__gamma=scale, Model__kernel=linear, scale=StandardScaler(); total time=   0.0s\n",
      "[CV] END Model__C=0.1, Model__coef0=-1, Model__degree=2, Model__gamma=scale, Model__kernel=poly, scale=StandardScaler(); total time=   0.0s\n",
      "[CV] END Model__C=0.1, Model__coef0=-1, Model__degree=2, Model__gamma=scale, Model__kernel=poly, scale=StandardScaler(); total time=   0.0s\n",
      "[CV] END Model__C=0.1, Model__coef0=-1, Model__degree=2, Model__gamma=scale, Model__kernel=poly, scale=StandardScaler(); total time=   0.0s\n",
      "[CV] END Model__C=0.1, Model__coef0=-1, Model__degree=2, Model__gamma=scale, Model__kernel=poly, scale=StandardScaler(); total time=   0.0s\n",
      "[CV] END Model__C=0.1, Model__coef0=-1, Model__degree=2, Model__gamma=scale, Model__kernel=poly, scale=StandardScaler(); total time=   0.0s\n",
      "[CV] END Model__C=0.1, Model__coef0=-1, Model__degree=2, Model__gamma=scale, Model__kernel=rbf, scale=StandardScaler(); total time=   0.0s\n",
      "[CV] END Model__C=0.1, Model__coef0=-1, Model__degree=2, Model__gamma=scale, Model__kernel=rbf, scale=StandardScaler(); total time=   0.0s\n",
      "[CV] END Model__C=0.1, Model__coef0=-1, Model__degree=2, Model__gamma=scale, Model__kernel=rbf, scale=StandardScaler(); total time=   0.0s\n",
      "[CV] END Model__C=0.1, Model__coef0=-1, Model__degree=2, Model__gamma=scale, Model__kernel=rbf, scale=StandardScaler(); total time=   0.0s\n",
      "[CV] END Model__C=0.1, Model__coef0=-1, Model__degree=2, Model__gamma=scale, Model__kernel=rbf, scale=StandardScaler(); total time=   0.0s\n",
      "[CV] END Model__C=0.1, Model__coef0=-1, Model__degree=2, Model__gamma=auto, Model__kernel=linear, scale=StandardScaler(); total time=   0.0s\n",
      "[CV] END Model__C=0.1, Model__coef0=-1, Model__degree=2, Model__gamma=auto, Model__kernel=linear, scale=StandardScaler(); total time=   0.0s\n",
      "[CV] END Model__C=0.1, Model__coef0=-1, Model__degree=2, Model__gamma=auto, Model__kernel=linear, scale=StandardScaler(); total time=   0.0s\n",
      "[CV] END Model__C=0.1, Model__coef0=-1, Model__degree=2, Model__gamma=auto, Model__kernel=linear, scale=StandardScaler(); total time=   0.0s\n",
      "[CV] END Model__C=0.1, Model__coef0=-1, Model__degree=2, Model__gamma=auto, Model__kernel=linear, scale=StandardScaler(); total time=   0.0s\n",
      "[CV] END Model__C=0.1, Model__coef0=-1, Model__degree=2, Model__gamma=auto, Model__kernel=poly, scale=StandardScaler(); total time=   0.0s\n",
      "[CV] END Model__C=0.1, Model__coef0=-1, Model__degree=2, Model__gamma=auto, Model__kernel=poly, scale=StandardScaler(); total time=   0.0s\n",
      "[CV] END Model__C=0.1, Model__coef0=-1, Model__degree=2, Model__gamma=auto, Model__kernel=poly, scale=StandardScaler(); total time=   0.0s\n",
      "[CV] END Model__C=0.1, Model__coef0=-1, Model__degree=2, Model__gamma=auto, Model__kernel=poly, scale=StandardScaler(); total time=   0.0s\n",
      "[CV] END Model__C=0.1, Model__coef0=-1, Model__degree=2, Model__gamma=auto, Model__kernel=poly, scale=StandardScaler(); total time=   0.0s\n",
      "[CV] END Model__C=0.1, Model__coef0=-1, Model__degree=2, Model__gamma=auto, Model__kernel=rbf, scale=StandardScaler(); total time=   0.0s\n",
      "[CV] END Model__C=0.1, Model__coef0=-1, Model__degree=2, Model__gamma=auto, Model__kernel=rbf, scale=StandardScaler(); total time=   0.0s\n",
      "[CV] END Model__C=0.1, Model__coef0=-1, Model__degree=2, Model__gamma=auto, Model__kernel=rbf, scale=StandardScaler(); total time=   0.0s\n",
      "[CV] END Model__C=0.1, Model__coef0=-1, Model__degree=2, Model__gamma=auto, Model__kernel=rbf, scale=StandardScaler(); total time=   0.0s\n",
      "[CV] END Model__C=0.1, Model__coef0=-1, Model__degree=2, Model__gamma=auto, Model__kernel=rbf, scale=StandardScaler(); total time=   0.0s\n",
      "[CV] END Model__C=0.1, Model__coef0=-1, Model__degree=3, Model__gamma=scale, Model__kernel=linear, scale=StandardScaler(); total time=   0.0s\n",
      "[CV] END Model__C=0.1, Model__coef0=-1, Model__degree=3, Model__gamma=scale, Model__kernel=linear, scale=StandardScaler(); total time=   0.0s\n",
      "[CV] END Model__C=0.1, Model__coef0=-1, Model__degree=3, Model__gamma=scale, Model__kernel=linear, scale=StandardScaler(); total time=   0.0s\n",
      "[CV] END Model__C=0.1, Model__coef0=-1, Model__degree=3, Model__gamma=scale, Model__kernel=linear, scale=StandardScaler(); total time=   0.0s\n",
      "[CV] END Model__C=0.1, Model__coef0=-1, Model__degree=3, Model__gamma=scale, Model__kernel=linear, scale=StandardScaler(); total time=   0.0s\n",
      "[CV] END Model__C=0.1, Model__coef0=-1, Model__degree=3, Model__gamma=scale, Model__kernel=poly, scale=StandardScaler(); total time=   0.0s\n",
      "[CV] END Model__C=0.1, Model__coef0=-1, Model__degree=3, Model__gamma=scale, Model__kernel=poly, scale=StandardScaler(); total time=   0.0s\n",
      "[CV] END Model__C=0.1, Model__coef0=-1, Model__degree=3, Model__gamma=scale, Model__kernel=poly, scale=StandardScaler(); total time=   0.0s\n",
      "[CV] END Model__C=0.1, Model__coef0=-1, Model__degree=3, Model__gamma=scale, Model__kernel=poly, scale=StandardScaler(); total time=   0.0s\n",
      "[CV] END Model__C=0.1, Model__coef0=-1, Model__degree=3, Model__gamma=scale, Model__kernel=poly, scale=StandardScaler(); total time=   0.0s\n",
      "[CV] END Model__C=0.1, Model__coef0=-1, Model__degree=3, Model__gamma=scale, Model__kernel=rbf, scale=StandardScaler(); total time=   0.0s\n",
      "[CV] END Model__C=0.1, Model__coef0=-1, Model__degree=3, Model__gamma=scale, Model__kernel=rbf, scale=StandardScaler(); total time=   0.0s\n",
      "[CV] END Model__C=0.1, Model__coef0=-1, Model__degree=3, Model__gamma=scale, Model__kernel=rbf, scale=StandardScaler(); total time=   0.0s\n",
      "[CV] END Model__C=0.1, Model__coef0=-1, Model__degree=3, Model__gamma=scale, Model__kernel=rbf, scale=StandardScaler(); total time=   0.0s\n",
      "[CV] END Model__C=0.1, Model__coef0=-1, Model__degree=3, Model__gamma=scale, Model__kernel=rbf, scale=StandardScaler(); total time=   0.0s\n",
      "[CV] END Model__C=0.1, Model__coef0=-1, Model__degree=3, Model__gamma=auto, Model__kernel=linear, scale=StandardScaler(); total time=   0.0s\n",
      "[CV] END Model__C=0.1, Model__coef0=-1, Model__degree=3, Model__gamma=auto, Model__kernel=linear, scale=StandardScaler(); total time=   0.0s\n",
      "[CV] END Model__C=0.1, Model__coef0=-1, Model__degree=3, Model__gamma=auto, Model__kernel=linear, scale=StandardScaler(); total time=   0.0s\n",
      "[CV] END Model__C=0.1, Model__coef0=-1, Model__degree=3, Model__gamma=auto, Model__kernel=linear, scale=StandardScaler(); total time=   0.0s\n",
      "[CV] END Model__C=0.1, Model__coef0=-1, Model__degree=3, Model__gamma=auto, Model__kernel=linear, scale=StandardScaler(); total time=   0.0s\n",
      "[CV] END Model__C=0.1, Model__coef0=-1, Model__degree=3, Model__gamma=auto, Model__kernel=poly, scale=StandardScaler(); total time=   0.0s\n",
      "[CV] END Model__C=0.1, Model__coef0=-1, Model__degree=3, Model__gamma=auto, Model__kernel=poly, scale=StandardScaler(); total time=   0.0s\n",
      "[CV] END Model__C=0.1, Model__coef0=-1, Model__degree=3, Model__gamma=auto, Model__kernel=poly, scale=StandardScaler(); total time=   0.0s\n",
      "[CV] END Model__C=0.1, Model__coef0=-1, Model__degree=3, Model__gamma=auto, Model__kernel=poly, scale=StandardScaler(); total time=   0.0s\n",
      "[CV] END Model__C=0.1, Model__coef0=-1, Model__degree=3, Model__gamma=auto, Model__kernel=poly, scale=StandardScaler(); total time=   0.0s\n",
      "[CV] END Model__C=0.1, Model__coef0=-1, Model__degree=3, Model__gamma=auto, Model__kernel=rbf, scale=StandardScaler(); total time=   0.0s\n",
      "[CV] END Model__C=0.1, Model__coef0=-1, Model__degree=3, Model__gamma=auto, Model__kernel=rbf, scale=StandardScaler(); total time=   0.0s\n",
      "[CV] END Model__C=0.1, Model__coef0=-1, Model__degree=3, Model__gamma=auto, Model__kernel=rbf, scale=StandardScaler(); total time=   0.0s\n",
      "[CV] END Model__C=0.1, Model__coef0=-1, Model__degree=3, Model__gamma=auto, Model__kernel=rbf, scale=StandardScaler(); total time=   0.0s\n",
      "[CV] END Model__C=0.1, Model__coef0=-1, Model__degree=3, Model__gamma=auto, Model__kernel=rbf, scale=StandardScaler(); total time=   0.0s\n",
      "[CV] END Model__C=0.1, Model__coef0=1, Model__degree=2, Model__gamma=scale, Model__kernel=linear, scale=StandardScaler(); total time=   0.0s\n",
      "[CV] END Model__C=0.1, Model__coef0=1, Model__degree=2, Model__gamma=scale, Model__kernel=linear, scale=StandardScaler(); total time=   0.0s\n",
      "[CV] END Model__C=0.1, Model__coef0=1, Model__degree=2, Model__gamma=scale, Model__kernel=linear, scale=StandardScaler(); total time=   0.0s\n",
      "[CV] END Model__C=0.1, Model__coef0=1, Model__degree=2, Model__gamma=scale, Model__kernel=linear, scale=StandardScaler(); total time=   0.0s\n",
      "[CV] END Model__C=0.1, Model__coef0=1, Model__degree=2, Model__gamma=scale, Model__kernel=linear, scale=StandardScaler(); total time=   0.0s\n",
      "[CV] END Model__C=0.1, Model__coef0=1, Model__degree=2, Model__gamma=scale, Model__kernel=poly, scale=StandardScaler(); total time=   0.0s\n",
      "[CV] END Model__C=0.1, Model__coef0=1, Model__degree=2, Model__gamma=scale, Model__kernel=poly, scale=StandardScaler(); total time=   0.0s\n",
      "[CV] END Model__C=0.1, Model__coef0=1, Model__degree=2, Model__gamma=scale, Model__kernel=poly, scale=StandardScaler(); total time=   0.0s\n",
      "[CV] END Model__C=0.1, Model__coef0=1, Model__degree=2, Model__gamma=scale, Model__kernel=poly, scale=StandardScaler(); total time=   0.0s\n",
      "[CV] END Model__C=0.1, Model__coef0=1, Model__degree=2, Model__gamma=scale, Model__kernel=poly, scale=StandardScaler(); total time=   0.0s\n",
      "[CV] END Model__C=0.1, Model__coef0=1, Model__degree=2, Model__gamma=scale, Model__kernel=rbf, scale=StandardScaler(); total time=   0.0s\n",
      "[CV] END Model__C=0.1, Model__coef0=1, Model__degree=2, Model__gamma=scale, Model__kernel=rbf, scale=StandardScaler(); total time=   0.0s\n",
      "[CV] END Model__C=0.1, Model__coef0=1, Model__degree=2, Model__gamma=scale, Model__kernel=rbf, scale=StandardScaler(); total time=   0.0s\n",
      "[CV] END Model__C=0.1, Model__coef0=1, Model__degree=2, Model__gamma=scale, Model__kernel=rbf, scale=StandardScaler(); total time=   0.0s\n",
      "[CV] END Model__C=0.1, Model__coef0=1, Model__degree=2, Model__gamma=scale, Model__kernel=rbf, scale=StandardScaler(); total time=   0.0s\n",
      "[CV] END Model__C=0.1, Model__coef0=1, Model__degree=2, Model__gamma=auto, Model__kernel=linear, scale=StandardScaler(); total time=   0.0s\n",
      "[CV] END Model__C=0.1, Model__coef0=1, Model__degree=2, Model__gamma=auto, Model__kernel=linear, scale=StandardScaler(); total time=   0.0s\n",
      "[CV] END Model__C=0.1, Model__coef0=1, Model__degree=2, Model__gamma=auto, Model__kernel=linear, scale=StandardScaler(); total time=   0.0s\n",
      "[CV] END Model__C=0.1, Model__coef0=1, Model__degree=2, Model__gamma=auto, Model__kernel=linear, scale=StandardScaler(); total time=   0.0s\n",
      "[CV] END Model__C=0.1, Model__coef0=1, Model__degree=2, Model__gamma=auto, Model__kernel=linear, scale=StandardScaler(); total time=   0.0s\n",
      "[CV] END Model__C=0.1, Model__coef0=1, Model__degree=2, Model__gamma=auto, Model__kernel=poly, scale=StandardScaler(); total time=   0.0s\n",
      "[CV] END Model__C=0.1, Model__coef0=1, Model__degree=2, Model__gamma=auto, Model__kernel=poly, scale=StandardScaler(); total time=   0.0s\n",
      "[CV] END Model__C=0.1, Model__coef0=1, Model__degree=2, Model__gamma=auto, Model__kernel=poly, scale=StandardScaler(); total time=   0.0s\n",
      "[CV] END Model__C=0.1, Model__coef0=1, Model__degree=2, Model__gamma=auto, Model__kernel=poly, scale=StandardScaler(); total time=   0.0s\n",
      "[CV] END Model__C=0.1, Model__coef0=1, Model__degree=2, Model__gamma=auto, Model__kernel=poly, scale=StandardScaler(); total time=   0.0s\n",
      "[CV] END Model__C=0.1, Model__coef0=1, Model__degree=2, Model__gamma=auto, Model__kernel=rbf, scale=StandardScaler(); total time=   0.0s\n",
      "[CV] END Model__C=0.1, Model__coef0=1, Model__degree=2, Model__gamma=auto, Model__kernel=rbf, scale=StandardScaler(); total time=   0.0s\n",
      "[CV] END Model__C=0.1, Model__coef0=1, Model__degree=2, Model__gamma=auto, Model__kernel=rbf, scale=StandardScaler(); total time=   0.0s\n",
      "[CV] END Model__C=0.1, Model__coef0=1, Model__degree=2, Model__gamma=auto, Model__kernel=rbf, scale=StandardScaler(); total time=   0.0s\n",
      "[CV] END Model__C=0.1, Model__coef0=1, Model__degree=2, Model__gamma=auto, Model__kernel=rbf, scale=StandardScaler(); total time=   0.0s\n",
      "[CV] END Model__C=0.1, Model__coef0=1, Model__degree=3, Model__gamma=scale, Model__kernel=linear, scale=StandardScaler(); total time=   0.0s\n",
      "[CV] END Model__C=0.1, Model__coef0=1, Model__degree=3, Model__gamma=scale, Model__kernel=linear, scale=StandardScaler(); total time=   0.0s\n",
      "[CV] END Model__C=0.1, Model__coef0=1, Model__degree=3, Model__gamma=scale, Model__kernel=linear, scale=StandardScaler(); total time=   0.0s\n",
      "[CV] END Model__C=0.1, Model__coef0=1, Model__degree=3, Model__gamma=scale, Model__kernel=linear, scale=StandardScaler(); total time=   0.0s\n",
      "[CV] END Model__C=0.1, Model__coef0=1, Model__degree=3, Model__gamma=scale, Model__kernel=linear, scale=StandardScaler(); total time=   0.0s\n",
      "[CV] END Model__C=0.1, Model__coef0=1, Model__degree=3, Model__gamma=scale, Model__kernel=poly, scale=StandardScaler(); total time=   0.0s\n",
      "[CV] END Model__C=0.1, Model__coef0=1, Model__degree=3, Model__gamma=scale, Model__kernel=poly, scale=StandardScaler(); total time=   0.0s\n",
      "[CV] END Model__C=0.1, Model__coef0=1, Model__degree=3, Model__gamma=scale, Model__kernel=poly, scale=StandardScaler(); total time=   0.0s\n",
      "[CV] END Model__C=0.1, Model__coef0=1, Model__degree=3, Model__gamma=scale, Model__kernel=poly, scale=StandardScaler(); total time=   0.0s\n",
      "[CV] END Model__C=0.1, Model__coef0=1, Model__degree=3, Model__gamma=scale, Model__kernel=poly, scale=StandardScaler(); total time=   0.0s\n",
      "[CV] END Model__C=0.1, Model__coef0=1, Model__degree=3, Model__gamma=scale, Model__kernel=rbf, scale=StandardScaler(); total time=   0.0s\n",
      "[CV] END Model__C=0.1, Model__coef0=1, Model__degree=3, Model__gamma=scale, Model__kernel=rbf, scale=StandardScaler(); total time=   0.0s\n",
      "[CV] END Model__C=0.1, Model__coef0=1, Model__degree=3, Model__gamma=scale, Model__kernel=rbf, scale=StandardScaler(); total time=   0.0s\n",
      "[CV] END Model__C=0.1, Model__coef0=1, Model__degree=3, Model__gamma=scale, Model__kernel=rbf, scale=StandardScaler(); total time=   0.0s\n",
      "[CV] END Model__C=0.1, Model__coef0=1, Model__degree=3, Model__gamma=scale, Model__kernel=rbf, scale=StandardScaler(); total time=   0.0s\n",
      "[CV] END Model__C=0.1, Model__coef0=1, Model__degree=3, Model__gamma=auto, Model__kernel=linear, scale=StandardScaler(); total time=   0.0s\n",
      "[CV] END Model__C=0.1, Model__coef0=1, Model__degree=3, Model__gamma=auto, Model__kernel=linear, scale=StandardScaler(); total time=   0.0s\n",
      "[CV] END Model__C=0.1, Model__coef0=1, Model__degree=3, Model__gamma=auto, Model__kernel=linear, scale=StandardScaler(); total time=   0.0s\n",
      "[CV] END Model__C=0.1, Model__coef0=1, Model__degree=3, Model__gamma=auto, Model__kernel=linear, scale=StandardScaler(); total time=   0.0s\n",
      "[CV] END Model__C=0.1, Model__coef0=1, Model__degree=3, Model__gamma=auto, Model__kernel=linear, scale=StandardScaler(); total time=   0.0s\n",
      "[CV] END Model__C=0.1, Model__coef0=1, Model__degree=3, Model__gamma=auto, Model__kernel=poly, scale=StandardScaler(); total time=   0.0s\n",
      "[CV] END Model__C=0.1, Model__coef0=1, Model__degree=3, Model__gamma=auto, Model__kernel=poly, scale=StandardScaler(); total time=   0.0s\n",
      "[CV] END Model__C=0.1, Model__coef0=1, Model__degree=3, Model__gamma=auto, Model__kernel=poly, scale=StandardScaler(); total time=   0.0s\n",
      "[CV] END Model__C=0.1, Model__coef0=1, Model__degree=3, Model__gamma=auto, Model__kernel=poly, scale=StandardScaler(); total time=   0.0s\n",
      "[CV] END Model__C=0.1, Model__coef0=1, Model__degree=3, Model__gamma=auto, Model__kernel=poly, scale=StandardScaler(); total time=   0.0s\n",
      "[CV] END Model__C=0.1, Model__coef0=1, Model__degree=3, Model__gamma=auto, Model__kernel=rbf, scale=StandardScaler(); total time=   0.0s\n",
      "[CV] END Model__C=0.1, Model__coef0=1, Model__degree=3, Model__gamma=auto, Model__kernel=rbf, scale=StandardScaler(); total time=   0.0s\n",
      "[CV] END Model__C=0.1, Model__coef0=1, Model__degree=3, Model__gamma=auto, Model__kernel=rbf, scale=StandardScaler(); total time=   0.0s\n",
      "[CV] END Model__C=0.1, Model__coef0=1, Model__degree=3, Model__gamma=auto, Model__kernel=rbf, scale=StandardScaler(); total time=   0.0s\n",
      "[CV] END Model__C=0.1, Model__coef0=1, Model__degree=3, Model__gamma=auto, Model__kernel=rbf, scale=StandardScaler(); total time=   0.0s\n",
      "[CV] END Model__C=1, Model__coef0=-1, Model__degree=2, Model__gamma=scale, Model__kernel=linear, scale=StandardScaler(); total time=   0.0s\n",
      "[CV] END Model__C=1, Model__coef0=-1, Model__degree=2, Model__gamma=scale, Model__kernel=linear, scale=StandardScaler(); total time=   0.0s\n",
      "[CV] END Model__C=1, Model__coef0=-1, Model__degree=2, Model__gamma=scale, Model__kernel=linear, scale=StandardScaler(); total time=   0.0s\n",
      "[CV] END Model__C=1, Model__coef0=-1, Model__degree=2, Model__gamma=scale, Model__kernel=linear, scale=StandardScaler(); total time=   0.0s\n",
      "[CV] END Model__C=1, Model__coef0=-1, Model__degree=2, Model__gamma=scale, Model__kernel=linear, scale=StandardScaler(); total time=   0.0s\n",
      "[CV] END Model__C=1, Model__coef0=-1, Model__degree=2, Model__gamma=scale, Model__kernel=poly, scale=StandardScaler(); total time=   0.0s\n",
      "[CV] END Model__C=1, Model__coef0=-1, Model__degree=2, Model__gamma=scale, Model__kernel=poly, scale=StandardScaler(); total time=   0.0s\n",
      "[CV] END Model__C=1, Model__coef0=-1, Model__degree=2, Model__gamma=scale, Model__kernel=poly, scale=StandardScaler(); total time=   0.0s\n",
      "[CV] END Model__C=1, Model__coef0=-1, Model__degree=2, Model__gamma=scale, Model__kernel=poly, scale=StandardScaler(); total time=   0.0s\n",
      "[CV] END Model__C=1, Model__coef0=-1, Model__degree=2, Model__gamma=scale, Model__kernel=poly, scale=StandardScaler(); total time=   0.0s\n",
      "[CV] END Model__C=1, Model__coef0=-1, Model__degree=2, Model__gamma=scale, Model__kernel=rbf, scale=StandardScaler(); total time=   0.0s\n",
      "[CV] END Model__C=1, Model__coef0=-1, Model__degree=2, Model__gamma=scale, Model__kernel=rbf, scale=StandardScaler(); total time=   0.0s\n",
      "[CV] END Model__C=1, Model__coef0=-1, Model__degree=2, Model__gamma=scale, Model__kernel=rbf, scale=StandardScaler(); total time=   0.0s\n",
      "[CV] END Model__C=1, Model__coef0=-1, Model__degree=2, Model__gamma=scale, Model__kernel=rbf, scale=StandardScaler(); total time=   0.0s\n",
      "[CV] END Model__C=1, Model__coef0=-1, Model__degree=2, Model__gamma=scale, Model__kernel=rbf, scale=StandardScaler(); total time=   0.0s\n",
      "[CV] END Model__C=1, Model__coef0=-1, Model__degree=2, Model__gamma=auto, Model__kernel=linear, scale=StandardScaler(); total time=   0.0s\n",
      "[CV] END Model__C=1, Model__coef0=-1, Model__degree=2, Model__gamma=auto, Model__kernel=linear, scale=StandardScaler(); total time=   0.0s\n",
      "[CV] END Model__C=1, Model__coef0=-1, Model__degree=2, Model__gamma=auto, Model__kernel=linear, scale=StandardScaler(); total time=   0.0s\n",
      "[CV] END Model__C=1, Model__coef0=-1, Model__degree=2, Model__gamma=auto, Model__kernel=linear, scale=StandardScaler(); total time=   0.0s\n",
      "[CV] END Model__C=1, Model__coef0=-1, Model__degree=2, Model__gamma=auto, Model__kernel=linear, scale=StandardScaler(); total time=   0.0s\n",
      "[CV] END Model__C=1, Model__coef0=-1, Model__degree=2, Model__gamma=auto, Model__kernel=poly, scale=StandardScaler(); total time=   0.0s\n",
      "[CV] END Model__C=1, Model__coef0=-1, Model__degree=2, Model__gamma=auto, Model__kernel=poly, scale=StandardScaler(); total time=   0.0s\n",
      "[CV] END Model__C=1, Model__coef0=-1, Model__degree=2, Model__gamma=auto, Model__kernel=poly, scale=StandardScaler(); total time=   0.0s\n",
      "[CV] END Model__C=1, Model__coef0=-1, Model__degree=2, Model__gamma=auto, Model__kernel=poly, scale=StandardScaler(); total time=   0.0s\n",
      "[CV] END Model__C=1, Model__coef0=-1, Model__degree=2, Model__gamma=auto, Model__kernel=poly, scale=StandardScaler(); total time=   0.0s\n",
      "[CV] END Model__C=1, Model__coef0=-1, Model__degree=2, Model__gamma=auto, Model__kernel=rbf, scale=StandardScaler(); total time=   0.0s\n",
      "[CV] END Model__C=1, Model__coef0=-1, Model__degree=2, Model__gamma=auto, Model__kernel=rbf, scale=StandardScaler(); total time=   0.0s\n",
      "[CV] END Model__C=1, Model__coef0=-1, Model__degree=2, Model__gamma=auto, Model__kernel=rbf, scale=StandardScaler(); total time=   0.0s\n",
      "[CV] END Model__C=1, Model__coef0=-1, Model__degree=2, Model__gamma=auto, Model__kernel=rbf, scale=StandardScaler(); total time=   0.0s\n",
      "[CV] END Model__C=1, Model__coef0=-1, Model__degree=2, Model__gamma=auto, Model__kernel=rbf, scale=StandardScaler(); total time=   0.0s\n",
      "[CV] END Model__C=1, Model__coef0=-1, Model__degree=3, Model__gamma=scale, Model__kernel=linear, scale=StandardScaler(); total time=   0.0s\n",
      "[CV] END Model__C=1, Model__coef0=-1, Model__degree=3, Model__gamma=scale, Model__kernel=linear, scale=StandardScaler(); total time=   0.0s\n",
      "[CV] END Model__C=1, Model__coef0=-1, Model__degree=3, Model__gamma=scale, Model__kernel=linear, scale=StandardScaler(); total time=   0.0s\n",
      "[CV] END Model__C=1, Model__coef0=-1, Model__degree=3, Model__gamma=scale, Model__kernel=linear, scale=StandardScaler(); total time=   0.0s\n",
      "[CV] END Model__C=1, Model__coef0=-1, Model__degree=3, Model__gamma=scale, Model__kernel=linear, scale=StandardScaler(); total time=   0.0s\n",
      "[CV] END Model__C=1, Model__coef0=-1, Model__degree=3, Model__gamma=scale, Model__kernel=poly, scale=StandardScaler(); total time=   0.0s\n",
      "[CV] END Model__C=1, Model__coef0=-1, Model__degree=3, Model__gamma=scale, Model__kernel=poly, scale=StandardScaler(); total time=   0.0s\n",
      "[CV] END Model__C=1, Model__coef0=-1, Model__degree=3, Model__gamma=scale, Model__kernel=poly, scale=StandardScaler(); total time=   0.0s\n",
      "[CV] END Model__C=1, Model__coef0=-1, Model__degree=3, Model__gamma=scale, Model__kernel=poly, scale=StandardScaler(); total time=   0.0s\n",
      "[CV] END Model__C=1, Model__coef0=-1, Model__degree=3, Model__gamma=scale, Model__kernel=poly, scale=StandardScaler(); total time=   0.0s\n",
      "[CV] END Model__C=1, Model__coef0=-1, Model__degree=3, Model__gamma=scale, Model__kernel=rbf, scale=StandardScaler(); total time=   0.0s\n",
      "[CV] END Model__C=1, Model__coef0=-1, Model__degree=3, Model__gamma=scale, Model__kernel=rbf, scale=StandardScaler(); total time=   0.0s\n",
      "[CV] END Model__C=1, Model__coef0=-1, Model__degree=3, Model__gamma=scale, Model__kernel=rbf, scale=StandardScaler(); total time=   0.0s\n",
      "[CV] END Model__C=1, Model__coef0=-1, Model__degree=3, Model__gamma=scale, Model__kernel=rbf, scale=StandardScaler(); total time=   0.0s\n",
      "[CV] END Model__C=1, Model__coef0=-1, Model__degree=3, Model__gamma=scale, Model__kernel=rbf, scale=StandardScaler(); total time=   0.0s\n",
      "[CV] END Model__C=1, Model__coef0=-1, Model__degree=3, Model__gamma=auto, Model__kernel=linear, scale=StandardScaler(); total time=   0.0s\n",
      "[CV] END Model__C=1, Model__coef0=-1, Model__degree=3, Model__gamma=auto, Model__kernel=linear, scale=StandardScaler(); total time=   0.0s\n",
      "[CV] END Model__C=1, Model__coef0=-1, Model__degree=3, Model__gamma=auto, Model__kernel=linear, scale=StandardScaler(); total time=   0.0s\n",
      "[CV] END Model__C=1, Model__coef0=-1, Model__degree=3, Model__gamma=auto, Model__kernel=linear, scale=StandardScaler(); total time=   0.0s\n",
      "[CV] END Model__C=1, Model__coef0=-1, Model__degree=3, Model__gamma=auto, Model__kernel=linear, scale=StandardScaler(); total time=   0.0s\n",
      "[CV] END Model__C=1, Model__coef0=-1, Model__degree=3, Model__gamma=auto, Model__kernel=poly, scale=StandardScaler(); total time=   0.0s\n",
      "[CV] END Model__C=1, Model__coef0=-1, Model__degree=3, Model__gamma=auto, Model__kernel=poly, scale=StandardScaler(); total time=   0.0s\n",
      "[CV] END Model__C=1, Model__coef0=-1, Model__degree=3, Model__gamma=auto, Model__kernel=poly, scale=StandardScaler(); total time=   0.0s\n",
      "[CV] END Model__C=1, Model__coef0=-1, Model__degree=3, Model__gamma=auto, Model__kernel=poly, scale=StandardScaler(); total time=   0.0s\n",
      "[CV] END Model__C=1, Model__coef0=-1, Model__degree=3, Model__gamma=auto, Model__kernel=poly, scale=StandardScaler(); total time=   0.0s\n",
      "[CV] END Model__C=1, Model__coef0=-1, Model__degree=3, Model__gamma=auto, Model__kernel=rbf, scale=StandardScaler(); total time=   0.0s\n",
      "[CV] END Model__C=1, Model__coef0=-1, Model__degree=3, Model__gamma=auto, Model__kernel=rbf, scale=StandardScaler(); total time=   0.0s\n",
      "[CV] END Model__C=1, Model__coef0=-1, Model__degree=3, Model__gamma=auto, Model__kernel=rbf, scale=StandardScaler(); total time=   0.0s\n",
      "[CV] END Model__C=1, Model__coef0=-1, Model__degree=3, Model__gamma=auto, Model__kernel=rbf, scale=StandardScaler(); total time=   0.0s\n",
      "[CV] END Model__C=1, Model__coef0=-1, Model__degree=3, Model__gamma=auto, Model__kernel=rbf, scale=StandardScaler(); total time=   0.0s\n",
      "[CV] END Model__C=1, Model__coef0=1, Model__degree=2, Model__gamma=scale, Model__kernel=linear, scale=StandardScaler(); total time=   0.0s\n",
      "[CV] END Model__C=1, Model__coef0=1, Model__degree=2, Model__gamma=scale, Model__kernel=linear, scale=StandardScaler(); total time=   0.0s\n",
      "[CV] END Model__C=1, Model__coef0=1, Model__degree=2, Model__gamma=scale, Model__kernel=linear, scale=StandardScaler(); total time=   0.0s\n",
      "[CV] END Model__C=1, Model__coef0=1, Model__degree=2, Model__gamma=scale, Model__kernel=linear, scale=StandardScaler(); total time=   0.0s\n",
      "[CV] END Model__C=1, Model__coef0=1, Model__degree=2, Model__gamma=scale, Model__kernel=linear, scale=StandardScaler(); total time=   0.0s\n",
      "[CV] END Model__C=1, Model__coef0=1, Model__degree=2, Model__gamma=scale, Model__kernel=poly, scale=StandardScaler(); total time=   0.0s\n",
      "[CV] END Model__C=1, Model__coef0=1, Model__degree=2, Model__gamma=scale, Model__kernel=poly, scale=StandardScaler(); total time=   0.0s\n",
      "[CV] END Model__C=1, Model__coef0=1, Model__degree=2, Model__gamma=scale, Model__kernel=poly, scale=StandardScaler(); total time=   0.0s\n",
      "[CV] END Model__C=1, Model__coef0=1, Model__degree=2, Model__gamma=scale, Model__kernel=poly, scale=StandardScaler(); total time=   0.0s\n",
      "[CV] END Model__C=1, Model__coef0=1, Model__degree=2, Model__gamma=scale, Model__kernel=poly, scale=StandardScaler(); total time=   0.0s\n",
      "[CV] END Model__C=1, Model__coef0=1, Model__degree=2, Model__gamma=scale, Model__kernel=rbf, scale=StandardScaler(); total time=   0.0s\n",
      "[CV] END Model__C=1, Model__coef0=1, Model__degree=2, Model__gamma=scale, Model__kernel=rbf, scale=StandardScaler(); total time=   0.0s\n",
      "[CV] END Model__C=1, Model__coef0=1, Model__degree=2, Model__gamma=scale, Model__kernel=rbf, scale=StandardScaler(); total time=   0.0s\n",
      "[CV] END Model__C=1, Model__coef0=1, Model__degree=2, Model__gamma=scale, Model__kernel=rbf, scale=StandardScaler(); total time=   0.0s\n",
      "[CV] END Model__C=1, Model__coef0=1, Model__degree=2, Model__gamma=scale, Model__kernel=rbf, scale=StandardScaler(); total time=   0.0s\n",
      "[CV] END Model__C=1, Model__coef0=1, Model__degree=2, Model__gamma=auto, Model__kernel=linear, scale=StandardScaler(); total time=   0.0s\n",
      "[CV] END Model__C=1, Model__coef0=1, Model__degree=2, Model__gamma=auto, Model__kernel=linear, scale=StandardScaler(); total time=   0.0s\n",
      "[CV] END Model__C=1, Model__coef0=1, Model__degree=2, Model__gamma=auto, Model__kernel=linear, scale=StandardScaler(); total time=   0.0s\n",
      "[CV] END Model__C=1, Model__coef0=1, Model__degree=2, Model__gamma=auto, Model__kernel=linear, scale=StandardScaler(); total time=   0.0s\n",
      "[CV] END Model__C=1, Model__coef0=1, Model__degree=2, Model__gamma=auto, Model__kernel=linear, scale=StandardScaler(); total time=   0.0s\n",
      "[CV] END Model__C=1, Model__coef0=1, Model__degree=2, Model__gamma=auto, Model__kernel=poly, scale=StandardScaler(); total time=   0.0s\n",
      "[CV] END Model__C=1, Model__coef0=1, Model__degree=2, Model__gamma=auto, Model__kernel=poly, scale=StandardScaler(); total time=   0.0s\n",
      "[CV] END Model__C=1, Model__coef0=1, Model__degree=2, Model__gamma=auto, Model__kernel=poly, scale=StandardScaler(); total time=   0.0s\n",
      "[CV] END Model__C=1, Model__coef0=1, Model__degree=2, Model__gamma=auto, Model__kernel=poly, scale=StandardScaler(); total time=   0.0s\n",
      "[CV] END Model__C=1, Model__coef0=1, Model__degree=2, Model__gamma=auto, Model__kernel=poly, scale=StandardScaler(); total time=   0.0s\n",
      "[CV] END Model__C=1, Model__coef0=1, Model__degree=2, Model__gamma=auto, Model__kernel=rbf, scale=StandardScaler(); total time=   0.0s\n",
      "[CV] END Model__C=1, Model__coef0=1, Model__degree=2, Model__gamma=auto, Model__kernel=rbf, scale=StandardScaler(); total time=   0.0s\n",
      "[CV] END Model__C=1, Model__coef0=1, Model__degree=2, Model__gamma=auto, Model__kernel=rbf, scale=StandardScaler(); total time=   0.0s\n",
      "[CV] END Model__C=1, Model__coef0=1, Model__degree=2, Model__gamma=auto, Model__kernel=rbf, scale=StandardScaler(); total time=   0.0s\n",
      "[CV] END Model__C=1, Model__coef0=1, Model__degree=2, Model__gamma=auto, Model__kernel=rbf, scale=StandardScaler(); total time=   0.0s\n",
      "[CV] END Model__C=1, Model__coef0=1, Model__degree=3, Model__gamma=scale, Model__kernel=linear, scale=StandardScaler(); total time=   0.0s\n",
      "[CV] END Model__C=1, Model__coef0=1, Model__degree=3, Model__gamma=scale, Model__kernel=linear, scale=StandardScaler(); total time=   0.0s\n",
      "[CV] END Model__C=1, Model__coef0=1, Model__degree=3, Model__gamma=scale, Model__kernel=linear, scale=StandardScaler(); total time=   0.0s\n",
      "[CV] END Model__C=1, Model__coef0=1, Model__degree=3, Model__gamma=scale, Model__kernel=linear, scale=StandardScaler(); total time=   0.0s\n",
      "[CV] END Model__C=1, Model__coef0=1, Model__degree=3, Model__gamma=scale, Model__kernel=linear, scale=StandardScaler(); total time=   0.0s\n",
      "[CV] END Model__C=1, Model__coef0=1, Model__degree=3, Model__gamma=scale, Model__kernel=poly, scale=StandardScaler(); total time=   0.0s\n",
      "[CV] END Model__C=1, Model__coef0=1, Model__degree=3, Model__gamma=scale, Model__kernel=poly, scale=StandardScaler(); total time=   0.0s\n",
      "[CV] END Model__C=1, Model__coef0=1, Model__degree=3, Model__gamma=scale, Model__kernel=poly, scale=StandardScaler(); total time=   0.0s\n",
      "[CV] END Model__C=1, Model__coef0=1, Model__degree=3, Model__gamma=scale, Model__kernel=poly, scale=StandardScaler(); total time=   0.0s\n",
      "[CV] END Model__C=1, Model__coef0=1, Model__degree=3, Model__gamma=scale, Model__kernel=poly, scale=StandardScaler(); total time=   0.0s\n",
      "[CV] END Model__C=1, Model__coef0=1, Model__degree=3, Model__gamma=scale, Model__kernel=rbf, scale=StandardScaler(); total time=   0.0s\n",
      "[CV] END Model__C=1, Model__coef0=1, Model__degree=3, Model__gamma=scale, Model__kernel=rbf, scale=StandardScaler(); total time=   0.0s\n",
      "[CV] END Model__C=1, Model__coef0=1, Model__degree=3, Model__gamma=scale, Model__kernel=rbf, scale=StandardScaler(); total time=   0.0s\n",
      "[CV] END Model__C=1, Model__coef0=1, Model__degree=3, Model__gamma=scale, Model__kernel=rbf, scale=StandardScaler(); total time=   0.0s\n",
      "[CV] END Model__C=1, Model__coef0=1, Model__degree=3, Model__gamma=scale, Model__kernel=rbf, scale=StandardScaler(); total time=   0.0s\n",
      "[CV] END Model__C=1, Model__coef0=1, Model__degree=3, Model__gamma=auto, Model__kernel=linear, scale=StandardScaler(); total time=   0.0s\n",
      "[CV] END Model__C=1, Model__coef0=1, Model__degree=3, Model__gamma=auto, Model__kernel=linear, scale=StandardScaler(); total time=   0.0s\n",
      "[CV] END Model__C=1, Model__coef0=1, Model__degree=3, Model__gamma=auto, Model__kernel=linear, scale=StandardScaler(); total time=   0.0s\n",
      "[CV] END Model__C=1, Model__coef0=1, Model__degree=3, Model__gamma=auto, Model__kernel=linear, scale=StandardScaler(); total time=   0.0s\n",
      "[CV] END Model__C=1, Model__coef0=1, Model__degree=3, Model__gamma=auto, Model__kernel=linear, scale=StandardScaler(); total time=   0.0s\n",
      "[CV] END Model__C=1, Model__coef0=1, Model__degree=3, Model__gamma=auto, Model__kernel=poly, scale=StandardScaler(); total time=   0.0s\n",
      "[CV] END Model__C=1, Model__coef0=1, Model__degree=3, Model__gamma=auto, Model__kernel=poly, scale=StandardScaler(); total time=   0.0s\n",
      "[CV] END Model__C=1, Model__coef0=1, Model__degree=3, Model__gamma=auto, Model__kernel=poly, scale=StandardScaler(); total time=   0.0s\n",
      "[CV] END Model__C=1, Model__coef0=1, Model__degree=3, Model__gamma=auto, Model__kernel=poly, scale=StandardScaler(); total time=   0.0s\n",
      "[CV] END Model__C=1, Model__coef0=1, Model__degree=3, Model__gamma=auto, Model__kernel=poly, scale=StandardScaler(); total time=   0.0s\n",
      "[CV] END Model__C=1, Model__coef0=1, Model__degree=3, Model__gamma=auto, Model__kernel=rbf, scale=StandardScaler(); total time=   0.0s\n",
      "[CV] END Model__C=1, Model__coef0=1, Model__degree=3, Model__gamma=auto, Model__kernel=rbf, scale=StandardScaler(); total time=   0.0s\n",
      "[CV] END Model__C=1, Model__coef0=1, Model__degree=3, Model__gamma=auto, Model__kernel=rbf, scale=StandardScaler(); total time=   0.0s\n",
      "[CV] END Model__C=1, Model__coef0=1, Model__degree=3, Model__gamma=auto, Model__kernel=rbf, scale=StandardScaler(); total time=   0.0s\n",
      "[CV] END Model__C=1, Model__coef0=1, Model__degree=3, Model__gamma=auto, Model__kernel=rbf, scale=StandardScaler(); total time=   0.0s\n",
      "[CV] END Model__C=10, Model__coef0=-1, Model__degree=2, Model__gamma=scale, Model__kernel=linear, scale=StandardScaler(); total time=   0.1s\n",
      "[CV] END Model__C=10, Model__coef0=-1, Model__degree=2, Model__gamma=scale, Model__kernel=linear, scale=StandardScaler(); total time=   0.0s\n",
      "[CV] END Model__C=10, Model__coef0=-1, Model__degree=2, Model__gamma=scale, Model__kernel=linear, scale=StandardScaler(); total time=   0.0s\n",
      "[CV] END Model__C=10, Model__coef0=-1, Model__degree=2, Model__gamma=scale, Model__kernel=linear, scale=StandardScaler(); total time=   0.0s\n",
      "[CV] END Model__C=10, Model__coef0=-1, Model__degree=2, Model__gamma=scale, Model__kernel=linear, scale=StandardScaler(); total time=   0.0s\n",
      "[CV] END Model__C=10, Model__coef0=-1, Model__degree=2, Model__gamma=scale, Model__kernel=poly, scale=StandardScaler(); total time=   0.0s\n",
      "[CV] END Model__C=10, Model__coef0=-1, Model__degree=2, Model__gamma=scale, Model__kernel=poly, scale=StandardScaler(); total time=   0.0s\n",
      "[CV] END Model__C=10, Model__coef0=-1, Model__degree=2, Model__gamma=scale, Model__kernel=poly, scale=StandardScaler(); total time=   0.0s\n",
      "[CV] END Model__C=10, Model__coef0=-1, Model__degree=2, Model__gamma=scale, Model__kernel=poly, scale=StandardScaler(); total time=   0.0s\n",
      "[CV] END Model__C=10, Model__coef0=-1, Model__degree=2, Model__gamma=scale, Model__kernel=poly, scale=StandardScaler(); total time=   0.0s\n",
      "[CV] END Model__C=10, Model__coef0=-1, Model__degree=2, Model__gamma=scale, Model__kernel=rbf, scale=StandardScaler(); total time=   0.0s\n",
      "[CV] END Model__C=10, Model__coef0=-1, Model__degree=2, Model__gamma=scale, Model__kernel=rbf, scale=StandardScaler(); total time=   0.0s\n",
      "[CV] END Model__C=10, Model__coef0=-1, Model__degree=2, Model__gamma=scale, Model__kernel=rbf, scale=StandardScaler(); total time=   0.0s\n",
      "[CV] END Model__C=10, Model__coef0=-1, Model__degree=2, Model__gamma=scale, Model__kernel=rbf, scale=StandardScaler(); total time=   0.0s\n",
      "[CV] END Model__C=10, Model__coef0=-1, Model__degree=2, Model__gamma=scale, Model__kernel=rbf, scale=StandardScaler(); total time=   0.0s\n",
      "[CV] END Model__C=10, Model__coef0=-1, Model__degree=2, Model__gamma=auto, Model__kernel=linear, scale=StandardScaler(); total time=   0.1s\n",
      "[CV] END Model__C=10, Model__coef0=-1, Model__degree=2, Model__gamma=auto, Model__kernel=linear, scale=StandardScaler(); total time=   0.0s\n",
      "[CV] END Model__C=10, Model__coef0=-1, Model__degree=2, Model__gamma=auto, Model__kernel=linear, scale=StandardScaler(); total time=   0.1s\n",
      "[CV] END Model__C=10, Model__coef0=-1, Model__degree=2, Model__gamma=auto, Model__kernel=linear, scale=StandardScaler(); total time=   0.0s\n",
      "[CV] END Model__C=10, Model__coef0=-1, Model__degree=2, Model__gamma=auto, Model__kernel=linear, scale=StandardScaler(); total time=   0.0s\n",
      "[CV] END Model__C=10, Model__coef0=-1, Model__degree=2, Model__gamma=auto, Model__kernel=poly, scale=StandardScaler(); total time=   0.0s\n",
      "[CV] END Model__C=10, Model__coef0=-1, Model__degree=2, Model__gamma=auto, Model__kernel=poly, scale=StandardScaler(); total time=   0.0s\n",
      "[CV] END Model__C=10, Model__coef0=-1, Model__degree=2, Model__gamma=auto, Model__kernel=poly, scale=StandardScaler(); total time=   0.0s\n",
      "[CV] END Model__C=10, Model__coef0=-1, Model__degree=2, Model__gamma=auto, Model__kernel=poly, scale=StandardScaler(); total time=   0.0s\n",
      "[CV] END Model__C=10, Model__coef0=-1, Model__degree=2, Model__gamma=auto, Model__kernel=poly, scale=StandardScaler(); total time=   0.0s\n",
      "[CV] END Model__C=10, Model__coef0=-1, Model__degree=2, Model__gamma=auto, Model__kernel=rbf, scale=StandardScaler(); total time=   0.0s\n",
      "[CV] END Model__C=10, Model__coef0=-1, Model__degree=2, Model__gamma=auto, Model__kernel=rbf, scale=StandardScaler(); total time=   0.0s\n",
      "[CV] END Model__C=10, Model__coef0=-1, Model__degree=2, Model__gamma=auto, Model__kernel=rbf, scale=StandardScaler(); total time=   0.0s\n",
      "[CV] END Model__C=10, Model__coef0=-1, Model__degree=2, Model__gamma=auto, Model__kernel=rbf, scale=StandardScaler(); total time=   0.0s\n",
      "[CV] END Model__C=10, Model__coef0=-1, Model__degree=2, Model__gamma=auto, Model__kernel=rbf, scale=StandardScaler(); total time=   0.0s\n",
      "[CV] END Model__C=10, Model__coef0=-1, Model__degree=3, Model__gamma=scale, Model__kernel=linear, scale=StandardScaler(); total time=   0.1s\n",
      "[CV] END Model__C=10, Model__coef0=-1, Model__degree=3, Model__gamma=scale, Model__kernel=linear, scale=StandardScaler(); total time=   0.0s\n",
      "[CV] END Model__C=10, Model__coef0=-1, Model__degree=3, Model__gamma=scale, Model__kernel=linear, scale=StandardScaler(); total time=   0.1s\n",
      "[CV] END Model__C=10, Model__coef0=-1, Model__degree=3, Model__gamma=scale, Model__kernel=linear, scale=StandardScaler(); total time=   0.0s\n",
      "[CV] END Model__C=10, Model__coef0=-1, Model__degree=3, Model__gamma=scale, Model__kernel=linear, scale=StandardScaler(); total time=   0.0s\n",
      "[CV] END Model__C=10, Model__coef0=-1, Model__degree=3, Model__gamma=scale, Model__kernel=poly, scale=StandardScaler(); total time=   0.0s\n",
      "[CV] END Model__C=10, Model__coef0=-1, Model__degree=3, Model__gamma=scale, Model__kernel=poly, scale=StandardScaler(); total time=   0.0s\n",
      "[CV] END Model__C=10, Model__coef0=-1, Model__degree=3, Model__gamma=scale, Model__kernel=poly, scale=StandardScaler(); total time=   0.0s\n",
      "[CV] END Model__C=10, Model__coef0=-1, Model__degree=3, Model__gamma=scale, Model__kernel=poly, scale=StandardScaler(); total time=   0.0s\n",
      "[CV] END Model__C=10, Model__coef0=-1, Model__degree=3, Model__gamma=scale, Model__kernel=poly, scale=StandardScaler(); total time=   0.0s\n",
      "[CV] END Model__C=10, Model__coef0=-1, Model__degree=3, Model__gamma=scale, Model__kernel=rbf, scale=StandardScaler(); total time=   0.0s\n",
      "[CV] END Model__C=10, Model__coef0=-1, Model__degree=3, Model__gamma=scale, Model__kernel=rbf, scale=StandardScaler(); total time=   0.0s\n",
      "[CV] END Model__C=10, Model__coef0=-1, Model__degree=3, Model__gamma=scale, Model__kernel=rbf, scale=StandardScaler(); total time=   0.0s\n",
      "[CV] END Model__C=10, Model__coef0=-1, Model__degree=3, Model__gamma=scale, Model__kernel=rbf, scale=StandardScaler(); total time=   0.0s\n",
      "[CV] END Model__C=10, Model__coef0=-1, Model__degree=3, Model__gamma=scale, Model__kernel=rbf, scale=StandardScaler(); total time=   0.0s\n",
      "[CV] END Model__C=10, Model__coef0=-1, Model__degree=3, Model__gamma=auto, Model__kernel=linear, scale=StandardScaler(); total time=   0.1s\n",
      "[CV] END Model__C=10, Model__coef0=-1, Model__degree=3, Model__gamma=auto, Model__kernel=linear, scale=StandardScaler(); total time=   0.0s\n",
      "[CV] END Model__C=10, Model__coef0=-1, Model__degree=3, Model__gamma=auto, Model__kernel=linear, scale=StandardScaler(); total time=   0.1s\n",
      "[CV] END Model__C=10, Model__coef0=-1, Model__degree=3, Model__gamma=auto, Model__kernel=linear, scale=StandardScaler(); total time=   0.0s\n",
      "[CV] END Model__C=10, Model__coef0=-1, Model__degree=3, Model__gamma=auto, Model__kernel=linear, scale=StandardScaler(); total time=   0.0s\n",
      "[CV] END Model__C=10, Model__coef0=-1, Model__degree=3, Model__gamma=auto, Model__kernel=poly, scale=StandardScaler(); total time=   0.0s\n",
      "[CV] END Model__C=10, Model__coef0=-1, Model__degree=3, Model__gamma=auto, Model__kernel=poly, scale=StandardScaler(); total time=   0.0s\n",
      "[CV] END Model__C=10, Model__coef0=-1, Model__degree=3, Model__gamma=auto, Model__kernel=poly, scale=StandardScaler(); total time=   0.0s\n",
      "[CV] END Model__C=10, Model__coef0=-1, Model__degree=3, Model__gamma=auto, Model__kernel=poly, scale=StandardScaler(); total time=   0.0s\n",
      "[CV] END Model__C=10, Model__coef0=-1, Model__degree=3, Model__gamma=auto, Model__kernel=poly, scale=StandardScaler(); total time=   0.0s\n",
      "[CV] END Model__C=10, Model__coef0=-1, Model__degree=3, Model__gamma=auto, Model__kernel=rbf, scale=StandardScaler(); total time=   0.0s\n",
      "[CV] END Model__C=10, Model__coef0=-1, Model__degree=3, Model__gamma=auto, Model__kernel=rbf, scale=StandardScaler(); total time=   0.0s\n",
      "[CV] END Model__C=10, Model__coef0=-1, Model__degree=3, Model__gamma=auto, Model__kernel=rbf, scale=StandardScaler(); total time=   0.0s\n",
      "[CV] END Model__C=10, Model__coef0=-1, Model__degree=3, Model__gamma=auto, Model__kernel=rbf, scale=StandardScaler(); total time=   0.0s\n",
      "[CV] END Model__C=10, Model__coef0=-1, Model__degree=3, Model__gamma=auto, Model__kernel=rbf, scale=StandardScaler(); total time=   0.0s\n",
      "[CV] END Model__C=10, Model__coef0=1, Model__degree=2, Model__gamma=scale, Model__kernel=linear, scale=StandardScaler(); total time=   0.1s\n",
      "[CV] END Model__C=10, Model__coef0=1, Model__degree=2, Model__gamma=scale, Model__kernel=linear, scale=StandardScaler(); total time=   0.0s\n",
      "[CV] END Model__C=10, Model__coef0=1, Model__degree=2, Model__gamma=scale, Model__kernel=linear, scale=StandardScaler(); total time=   0.0s\n",
      "[CV] END Model__C=10, Model__coef0=1, Model__degree=2, Model__gamma=scale, Model__kernel=linear, scale=StandardScaler(); total time=   0.0s\n",
      "[CV] END Model__C=10, Model__coef0=1, Model__degree=2, Model__gamma=scale, Model__kernel=linear, scale=StandardScaler(); total time=   0.0s\n",
      "[CV] END Model__C=10, Model__coef0=1, Model__degree=2, Model__gamma=scale, Model__kernel=poly, scale=StandardScaler(); total time=   0.0s\n",
      "[CV] END Model__C=10, Model__coef0=1, Model__degree=2, Model__gamma=scale, Model__kernel=poly, scale=StandardScaler(); total time=   0.0s\n",
      "[CV] END Model__C=10, Model__coef0=1, Model__degree=2, Model__gamma=scale, Model__kernel=poly, scale=StandardScaler(); total time=   0.0s\n",
      "[CV] END Model__C=10, Model__coef0=1, Model__degree=2, Model__gamma=scale, Model__kernel=poly, scale=StandardScaler(); total time=   0.0s\n",
      "[CV] END Model__C=10, Model__coef0=1, Model__degree=2, Model__gamma=scale, Model__kernel=poly, scale=StandardScaler(); total time=   0.0s\n",
      "[CV] END Model__C=10, Model__coef0=1, Model__degree=2, Model__gamma=scale, Model__kernel=rbf, scale=StandardScaler(); total time=   0.0s\n",
      "[CV] END Model__C=10, Model__coef0=1, Model__degree=2, Model__gamma=scale, Model__kernel=rbf, scale=StandardScaler(); total time=   0.0s\n",
      "[CV] END Model__C=10, Model__coef0=1, Model__degree=2, Model__gamma=scale, Model__kernel=rbf, scale=StandardScaler(); total time=   0.0s\n",
      "[CV] END Model__C=10, Model__coef0=1, Model__degree=2, Model__gamma=scale, Model__kernel=rbf, scale=StandardScaler(); total time=   0.0s\n",
      "[CV] END Model__C=10, Model__coef0=1, Model__degree=2, Model__gamma=scale, Model__kernel=rbf, scale=StandardScaler(); total time=   0.0s\n",
      "[CV] END Model__C=10, Model__coef0=1, Model__degree=2, Model__gamma=auto, Model__kernel=linear, scale=StandardScaler(); total time=   0.1s\n",
      "[CV] END Model__C=10, Model__coef0=1, Model__degree=2, Model__gamma=auto, Model__kernel=linear, scale=StandardScaler(); total time=   0.0s\n",
      "[CV] END Model__C=10, Model__coef0=1, Model__degree=2, Model__gamma=auto, Model__kernel=linear, scale=StandardScaler(); total time=   0.0s\n",
      "[CV] END Model__C=10, Model__coef0=1, Model__degree=2, Model__gamma=auto, Model__kernel=linear, scale=StandardScaler(); total time=   0.0s\n",
      "[CV] END Model__C=10, Model__coef0=1, Model__degree=2, Model__gamma=auto, Model__kernel=linear, scale=StandardScaler(); total time=   0.0s\n",
      "[CV] END Model__C=10, Model__coef0=1, Model__degree=2, Model__gamma=auto, Model__kernel=poly, scale=StandardScaler(); total time=   0.0s\n",
      "[CV] END Model__C=10, Model__coef0=1, Model__degree=2, Model__gamma=auto, Model__kernel=poly, scale=StandardScaler(); total time=   0.0s\n",
      "[CV] END Model__C=10, Model__coef0=1, Model__degree=2, Model__gamma=auto, Model__kernel=poly, scale=StandardScaler(); total time=   0.0s\n",
      "[CV] END Model__C=10, Model__coef0=1, Model__degree=2, Model__gamma=auto, Model__kernel=poly, scale=StandardScaler(); total time=   0.0s\n",
      "[CV] END Model__C=10, Model__coef0=1, Model__degree=2, Model__gamma=auto, Model__kernel=poly, scale=StandardScaler(); total time=   0.0s\n",
      "[CV] END Model__C=10, Model__coef0=1, Model__degree=2, Model__gamma=auto, Model__kernel=rbf, scale=StandardScaler(); total time=   0.0s\n",
      "[CV] END Model__C=10, Model__coef0=1, Model__degree=2, Model__gamma=auto, Model__kernel=rbf, scale=StandardScaler(); total time=   0.0s\n",
      "[CV] END Model__C=10, Model__coef0=1, Model__degree=2, Model__gamma=auto, Model__kernel=rbf, scale=StandardScaler(); total time=   0.0s\n",
      "[CV] END Model__C=10, Model__coef0=1, Model__degree=2, Model__gamma=auto, Model__kernel=rbf, scale=StandardScaler(); total time=   0.0s\n",
      "[CV] END Model__C=10, Model__coef0=1, Model__degree=2, Model__gamma=auto, Model__kernel=rbf, scale=StandardScaler(); total time=   0.0s\n",
      "[CV] END Model__C=10, Model__coef0=1, Model__degree=3, Model__gamma=scale, Model__kernel=linear, scale=StandardScaler(); total time=   0.1s\n",
      "[CV] END Model__C=10, Model__coef0=1, Model__degree=3, Model__gamma=scale, Model__kernel=linear, scale=StandardScaler(); total time=   0.0s\n",
      "[CV] END Model__C=10, Model__coef0=1, Model__degree=3, Model__gamma=scale, Model__kernel=linear, scale=StandardScaler(); total time=   0.0s\n",
      "[CV] END Model__C=10, Model__coef0=1, Model__degree=3, Model__gamma=scale, Model__kernel=linear, scale=StandardScaler(); total time=   0.0s\n",
      "[CV] END Model__C=10, Model__coef0=1, Model__degree=3, Model__gamma=scale, Model__kernel=linear, scale=StandardScaler(); total time=   0.0s\n",
      "[CV] END Model__C=10, Model__coef0=1, Model__degree=3, Model__gamma=scale, Model__kernel=poly, scale=StandardScaler(); total time=   0.0s\n",
      "[CV] END Model__C=10, Model__coef0=1, Model__degree=3, Model__gamma=scale, Model__kernel=poly, scale=StandardScaler(); total time=   0.0s\n",
      "[CV] END Model__C=10, Model__coef0=1, Model__degree=3, Model__gamma=scale, Model__kernel=poly, scale=StandardScaler(); total time=   0.0s\n",
      "[CV] END Model__C=10, Model__coef0=1, Model__degree=3, Model__gamma=scale, Model__kernel=poly, scale=StandardScaler(); total time=   0.0s\n",
      "[CV] END Model__C=10, Model__coef0=1, Model__degree=3, Model__gamma=scale, Model__kernel=poly, scale=StandardScaler(); total time=   0.0s\n",
      "[CV] END Model__C=10, Model__coef0=1, Model__degree=3, Model__gamma=scale, Model__kernel=rbf, scale=StandardScaler(); total time=   0.0s\n",
      "[CV] END Model__C=10, Model__coef0=1, Model__degree=3, Model__gamma=scale, Model__kernel=rbf, scale=StandardScaler(); total time=   0.0s\n",
      "[CV] END Model__C=10, Model__coef0=1, Model__degree=3, Model__gamma=scale, Model__kernel=rbf, scale=StandardScaler(); total time=   0.0s\n",
      "[CV] END Model__C=10, Model__coef0=1, Model__degree=3, Model__gamma=scale, Model__kernel=rbf, scale=StandardScaler(); total time=   0.0s\n",
      "[CV] END Model__C=10, Model__coef0=1, Model__degree=3, Model__gamma=scale, Model__kernel=rbf, scale=StandardScaler(); total time=   0.0s\n",
      "[CV] END Model__C=10, Model__coef0=1, Model__degree=3, Model__gamma=auto, Model__kernel=linear, scale=StandardScaler(); total time=   0.1s\n",
      "[CV] END Model__C=10, Model__coef0=1, Model__degree=3, Model__gamma=auto, Model__kernel=linear, scale=StandardScaler(); total time=   0.0s\n",
      "[CV] END Model__C=10, Model__coef0=1, Model__degree=3, Model__gamma=auto, Model__kernel=linear, scale=StandardScaler(); total time=   0.0s\n",
      "[CV] END Model__C=10, Model__coef0=1, Model__degree=3, Model__gamma=auto, Model__kernel=linear, scale=StandardScaler(); total time=   0.0s\n",
      "[CV] END Model__C=10, Model__coef0=1, Model__degree=3, Model__gamma=auto, Model__kernel=linear, scale=StandardScaler(); total time=   0.0s\n",
      "[CV] END Model__C=10, Model__coef0=1, Model__degree=3, Model__gamma=auto, Model__kernel=poly, scale=StandardScaler(); total time=   0.0s\n",
      "[CV] END Model__C=10, Model__coef0=1, Model__degree=3, Model__gamma=auto, Model__kernel=poly, scale=StandardScaler(); total time=   0.0s\n",
      "[CV] END Model__C=10, Model__coef0=1, Model__degree=3, Model__gamma=auto, Model__kernel=poly, scale=StandardScaler(); total time=   0.0s\n",
      "[CV] END Model__C=10, Model__coef0=1, Model__degree=3, Model__gamma=auto, Model__kernel=poly, scale=StandardScaler(); total time=   0.0s\n",
      "[CV] END Model__C=10, Model__coef0=1, Model__degree=3, Model__gamma=auto, Model__kernel=poly, scale=StandardScaler(); total time=   0.0s\n",
      "[CV] END Model__C=10, Model__coef0=1, Model__degree=3, Model__gamma=auto, Model__kernel=rbf, scale=StandardScaler(); total time=   0.0s\n",
      "[CV] END Model__C=10, Model__coef0=1, Model__degree=3, Model__gamma=auto, Model__kernel=rbf, scale=StandardScaler(); total time=   0.0s\n",
      "[CV] END Model__C=10, Model__coef0=1, Model__degree=3, Model__gamma=auto, Model__kernel=rbf, scale=StandardScaler(); total time=   0.0s\n",
      "[CV] END Model__C=10, Model__coef0=1, Model__degree=3, Model__gamma=auto, Model__kernel=rbf, scale=StandardScaler(); total time=   0.0s\n",
      "[CV] END Model__C=10, Model__coef0=1, Model__degree=3, Model__gamma=auto, Model__kernel=rbf, scale=StandardScaler(); total time=   0.0s\n",
      "[CV] END Model__C=100, Model__coef0=-1, Model__degree=2, Model__gamma=scale, Model__kernel=linear, scale=StandardScaler(); total time=   0.3s\n",
      "[CV] END Model__C=100, Model__coef0=-1, Model__degree=2, Model__gamma=scale, Model__kernel=linear, scale=StandardScaler(); total time=   0.2s\n",
      "[CV] END Model__C=100, Model__coef0=-1, Model__degree=2, Model__gamma=scale, Model__kernel=linear, scale=StandardScaler(); total time=   0.3s\n",
      "[CV] END Model__C=100, Model__coef0=-1, Model__degree=2, Model__gamma=scale, Model__kernel=linear, scale=StandardScaler(); total time=   0.4s\n",
      "[CV] END Model__C=100, Model__coef0=-1, Model__degree=2, Model__gamma=scale, Model__kernel=linear, scale=StandardScaler(); total time=   0.1s\n",
      "[CV] END Model__C=100, Model__coef0=-1, Model__degree=2, Model__gamma=scale, Model__kernel=poly, scale=StandardScaler(); total time=   0.0s\n",
      "[CV] END Model__C=100, Model__coef0=-1, Model__degree=2, Model__gamma=scale, Model__kernel=poly, scale=StandardScaler(); total time=   0.0s\n",
      "[CV] END Model__C=100, Model__coef0=-1, Model__degree=2, Model__gamma=scale, Model__kernel=poly, scale=StandardScaler(); total time=   0.0s\n",
      "[CV] END Model__C=100, Model__coef0=-1, Model__degree=2, Model__gamma=scale, Model__kernel=poly, scale=StandardScaler(); total time=   0.0s\n",
      "[CV] END Model__C=100, Model__coef0=-1, Model__degree=2, Model__gamma=scale, Model__kernel=poly, scale=StandardScaler(); total time=   0.0s\n",
      "[CV] END Model__C=100, Model__coef0=-1, Model__degree=2, Model__gamma=scale, Model__kernel=rbf, scale=StandardScaler(); total time=   0.0s\n",
      "[CV] END Model__C=100, Model__coef0=-1, Model__degree=2, Model__gamma=scale, Model__kernel=rbf, scale=StandardScaler(); total time=   0.0s\n",
      "[CV] END Model__C=100, Model__coef0=-1, Model__degree=2, Model__gamma=scale, Model__kernel=rbf, scale=StandardScaler(); total time=   0.0s\n",
      "[CV] END Model__C=100, Model__coef0=-1, Model__degree=2, Model__gamma=scale, Model__kernel=rbf, scale=StandardScaler(); total time=   0.0s\n",
      "[CV] END Model__C=100, Model__coef0=-1, Model__degree=2, Model__gamma=scale, Model__kernel=rbf, scale=StandardScaler(); total time=   0.0s\n",
      "[CV] END Model__C=100, Model__coef0=-1, Model__degree=2, Model__gamma=auto, Model__kernel=linear, scale=StandardScaler(); total time=   0.3s\n",
      "[CV] END Model__C=100, Model__coef0=-1, Model__degree=2, Model__gamma=auto, Model__kernel=linear, scale=StandardScaler(); total time=   0.2s\n",
      "[CV] END Model__C=100, Model__coef0=-1, Model__degree=2, Model__gamma=auto, Model__kernel=linear, scale=StandardScaler(); total time=   0.3s\n",
      "[CV] END Model__C=100, Model__coef0=-1, Model__degree=2, Model__gamma=auto, Model__kernel=linear, scale=StandardScaler(); total time=   0.4s\n",
      "[CV] END Model__C=100, Model__coef0=-1, Model__degree=2, Model__gamma=auto, Model__kernel=linear, scale=StandardScaler(); total time=   0.1s\n",
      "[CV] END Model__C=100, Model__coef0=-1, Model__degree=2, Model__gamma=auto, Model__kernel=poly, scale=StandardScaler(); total time=   0.0s\n",
      "[CV] END Model__C=100, Model__coef0=-1, Model__degree=2, Model__gamma=auto, Model__kernel=poly, scale=StandardScaler(); total time=   0.0s\n",
      "[CV] END Model__C=100, Model__coef0=-1, Model__degree=2, Model__gamma=auto, Model__kernel=poly, scale=StandardScaler(); total time=   0.0s\n",
      "[CV] END Model__C=100, Model__coef0=-1, Model__degree=2, Model__gamma=auto, Model__kernel=poly, scale=StandardScaler(); total time=   0.0s\n",
      "[CV] END Model__C=100, Model__coef0=-1, Model__degree=2, Model__gamma=auto, Model__kernel=poly, scale=StandardScaler(); total time=   0.0s\n",
      "[CV] END Model__C=100, Model__coef0=-1, Model__degree=2, Model__gamma=auto, Model__kernel=rbf, scale=StandardScaler(); total time=   0.0s\n",
      "[CV] END Model__C=100, Model__coef0=-1, Model__degree=2, Model__gamma=auto, Model__kernel=rbf, scale=StandardScaler(); total time=   0.0s\n",
      "[CV] END Model__C=100, Model__coef0=-1, Model__degree=2, Model__gamma=auto, Model__kernel=rbf, scale=StandardScaler(); total time=   0.0s\n",
      "[CV] END Model__C=100, Model__coef0=-1, Model__degree=2, Model__gamma=auto, Model__kernel=rbf, scale=StandardScaler(); total time=   0.0s\n",
      "[CV] END Model__C=100, Model__coef0=-1, Model__degree=2, Model__gamma=auto, Model__kernel=rbf, scale=StandardScaler(); total time=   0.0s\n",
      "[CV] END Model__C=100, Model__coef0=-1, Model__degree=3, Model__gamma=scale, Model__kernel=linear, scale=StandardScaler(); total time=   0.3s\n",
      "[CV] END Model__C=100, Model__coef0=-1, Model__degree=3, Model__gamma=scale, Model__kernel=linear, scale=StandardScaler(); total time=   0.2s\n",
      "[CV] END Model__C=100, Model__coef0=-1, Model__degree=3, Model__gamma=scale, Model__kernel=linear, scale=StandardScaler(); total time=   0.3s\n",
      "[CV] END Model__C=100, Model__coef0=-1, Model__degree=3, Model__gamma=scale, Model__kernel=linear, scale=StandardScaler(); total time=   0.4s\n",
      "[CV] END Model__C=100, Model__coef0=-1, Model__degree=3, Model__gamma=scale, Model__kernel=linear, scale=StandardScaler(); total time=   0.1s\n",
      "[CV] END Model__C=100, Model__coef0=-1, Model__degree=3, Model__gamma=scale, Model__kernel=poly, scale=StandardScaler(); total time=   0.0s\n",
      "[CV] END Model__C=100, Model__coef0=-1, Model__degree=3, Model__gamma=scale, Model__kernel=poly, scale=StandardScaler(); total time=   0.0s\n",
      "[CV] END Model__C=100, Model__coef0=-1, Model__degree=3, Model__gamma=scale, Model__kernel=poly, scale=StandardScaler(); total time=   0.0s\n",
      "[CV] END Model__C=100, Model__coef0=-1, Model__degree=3, Model__gamma=scale, Model__kernel=poly, scale=StandardScaler(); total time=   0.0s\n",
      "[CV] END Model__C=100, Model__coef0=-1, Model__degree=3, Model__gamma=scale, Model__kernel=poly, scale=StandardScaler(); total time=   0.0s\n",
      "[CV] END Model__C=100, Model__coef0=-1, Model__degree=3, Model__gamma=scale, Model__kernel=rbf, scale=StandardScaler(); total time=   0.0s\n",
      "[CV] END Model__C=100, Model__coef0=-1, Model__degree=3, Model__gamma=scale, Model__kernel=rbf, scale=StandardScaler(); total time=   0.0s\n",
      "[CV] END Model__C=100, Model__coef0=-1, Model__degree=3, Model__gamma=scale, Model__kernel=rbf, scale=StandardScaler(); total time=   0.0s\n",
      "[CV] END Model__C=100, Model__coef0=-1, Model__degree=3, Model__gamma=scale, Model__kernel=rbf, scale=StandardScaler(); total time=   0.0s\n",
      "[CV] END Model__C=100, Model__coef0=-1, Model__degree=3, Model__gamma=scale, Model__kernel=rbf, scale=StandardScaler(); total time=   0.0s\n",
      "[CV] END Model__C=100, Model__coef0=-1, Model__degree=3, Model__gamma=auto, Model__kernel=linear, scale=StandardScaler(); total time=   0.4s\n",
      "[CV] END Model__C=100, Model__coef0=-1, Model__degree=3, Model__gamma=auto, Model__kernel=linear, scale=StandardScaler(); total time=   0.2s\n",
      "[CV] END Model__C=100, Model__coef0=-1, Model__degree=3, Model__gamma=auto, Model__kernel=linear, scale=StandardScaler(); total time=   0.3s\n",
      "[CV] END Model__C=100, Model__coef0=-1, Model__degree=3, Model__gamma=auto, Model__kernel=linear, scale=StandardScaler(); total time=   0.4s\n",
      "[CV] END Model__C=100, Model__coef0=-1, Model__degree=3, Model__gamma=auto, Model__kernel=linear, scale=StandardScaler(); total time=   0.1s\n",
      "[CV] END Model__C=100, Model__coef0=-1, Model__degree=3, Model__gamma=auto, Model__kernel=poly, scale=StandardScaler(); total time=   0.0s\n",
      "[CV] END Model__C=100, Model__coef0=-1, Model__degree=3, Model__gamma=auto, Model__kernel=poly, scale=StandardScaler(); total time=   0.0s\n",
      "[CV] END Model__C=100, Model__coef0=-1, Model__degree=3, Model__gamma=auto, Model__kernel=poly, scale=StandardScaler(); total time=   0.1s\n",
      "[CV] END Model__C=100, Model__coef0=-1, Model__degree=3, Model__gamma=auto, Model__kernel=poly, scale=StandardScaler(); total time=   0.0s\n",
      "[CV] END Model__C=100, Model__coef0=-1, Model__degree=3, Model__gamma=auto, Model__kernel=poly, scale=StandardScaler(); total time=   0.0s\n",
      "[CV] END Model__C=100, Model__coef0=-1, Model__degree=3, Model__gamma=auto, Model__kernel=rbf, scale=StandardScaler(); total time=   0.0s\n",
      "[CV] END Model__C=100, Model__coef0=-1, Model__degree=3, Model__gamma=auto, Model__kernel=rbf, scale=StandardScaler(); total time=   0.0s\n",
      "[CV] END Model__C=100, Model__coef0=-1, Model__degree=3, Model__gamma=auto, Model__kernel=rbf, scale=StandardScaler(); total time=   0.0s\n",
      "[CV] END Model__C=100, Model__coef0=-1, Model__degree=3, Model__gamma=auto, Model__kernel=rbf, scale=StandardScaler(); total time=   0.0s\n",
      "[CV] END Model__C=100, Model__coef0=-1, Model__degree=3, Model__gamma=auto, Model__kernel=rbf, scale=StandardScaler(); total time=   0.0s\n",
      "[CV] END Model__C=100, Model__coef0=1, Model__degree=2, Model__gamma=scale, Model__kernel=linear, scale=StandardScaler(); total time=   0.4s\n",
      "[CV] END Model__C=100, Model__coef0=1, Model__degree=2, Model__gamma=scale, Model__kernel=linear, scale=StandardScaler(); total time=   0.2s\n",
      "[CV] END Model__C=100, Model__coef0=1, Model__degree=2, Model__gamma=scale, Model__kernel=linear, scale=StandardScaler(); total time=   0.3s\n",
      "[CV] END Model__C=100, Model__coef0=1, Model__degree=2, Model__gamma=scale, Model__kernel=linear, scale=StandardScaler(); total time=   0.4s\n",
      "[CV] END Model__C=100, Model__coef0=1, Model__degree=2, Model__gamma=scale, Model__kernel=linear, scale=StandardScaler(); total time=   0.1s\n",
      "[CV] END Model__C=100, Model__coef0=1, Model__degree=2, Model__gamma=scale, Model__kernel=poly, scale=StandardScaler(); total time=   0.1s\n",
      "[CV] END Model__C=100, Model__coef0=1, Model__degree=2, Model__gamma=scale, Model__kernel=poly, scale=StandardScaler(); total time=   0.1s\n",
      "[CV] END Model__C=100, Model__coef0=1, Model__degree=2, Model__gamma=scale, Model__kernel=poly, scale=StandardScaler(); total time=   0.1s\n",
      "[CV] END Model__C=100, Model__coef0=1, Model__degree=2, Model__gamma=scale, Model__kernel=poly, scale=StandardScaler(); total time=   0.1s\n",
      "[CV] END Model__C=100, Model__coef0=1, Model__degree=2, Model__gamma=scale, Model__kernel=poly, scale=StandardScaler(); total time=   0.1s\n",
      "[CV] END Model__C=100, Model__coef0=1, Model__degree=2, Model__gamma=scale, Model__kernel=rbf, scale=StandardScaler(); total time=   0.0s\n",
      "[CV] END Model__C=100, Model__coef0=1, Model__degree=2, Model__gamma=scale, Model__kernel=rbf, scale=StandardScaler(); total time=   0.0s\n",
      "[CV] END Model__C=100, Model__coef0=1, Model__degree=2, Model__gamma=scale, Model__kernel=rbf, scale=StandardScaler(); total time=   0.0s\n",
      "[CV] END Model__C=100, Model__coef0=1, Model__degree=2, Model__gamma=scale, Model__kernel=rbf, scale=StandardScaler(); total time=   0.0s\n",
      "[CV] END Model__C=100, Model__coef0=1, Model__degree=2, Model__gamma=scale, Model__kernel=rbf, scale=StandardScaler(); total time=   0.0s\n",
      "[CV] END Model__C=100, Model__coef0=1, Model__degree=2, Model__gamma=auto, Model__kernel=linear, scale=StandardScaler(); total time=   0.3s\n",
      "[CV] END Model__C=100, Model__coef0=1, Model__degree=2, Model__gamma=auto, Model__kernel=linear, scale=StandardScaler(); total time=   0.2s\n",
      "[CV] END Model__C=100, Model__coef0=1, Model__degree=2, Model__gamma=auto, Model__kernel=linear, scale=StandardScaler(); total time=   0.3s\n",
      "[CV] END Model__C=100, Model__coef0=1, Model__degree=2, Model__gamma=auto, Model__kernel=linear, scale=StandardScaler(); total time=   0.4s\n",
      "[CV] END Model__C=100, Model__coef0=1, Model__degree=2, Model__gamma=auto, Model__kernel=linear, scale=StandardScaler(); total time=   0.1s\n",
      "[CV] END Model__C=100, Model__coef0=1, Model__degree=2, Model__gamma=auto, Model__kernel=poly, scale=StandardScaler(); total time=   0.1s\n",
      "[CV] END Model__C=100, Model__coef0=1, Model__degree=2, Model__gamma=auto, Model__kernel=poly, scale=StandardScaler(); total time=   0.1s\n",
      "[CV] END Model__C=100, Model__coef0=1, Model__degree=2, Model__gamma=auto, Model__kernel=poly, scale=StandardScaler(); total time=   0.1s\n",
      "[CV] END Model__C=100, Model__coef0=1, Model__degree=2, Model__gamma=auto, Model__kernel=poly, scale=StandardScaler(); total time=   0.1s\n",
      "[CV] END Model__C=100, Model__coef0=1, Model__degree=2, Model__gamma=auto, Model__kernel=poly, scale=StandardScaler(); total time=   0.1s\n",
      "[CV] END Model__C=100, Model__coef0=1, Model__degree=2, Model__gamma=auto, Model__kernel=rbf, scale=StandardScaler(); total time=   0.0s\n",
      "[CV] END Model__C=100, Model__coef0=1, Model__degree=2, Model__gamma=auto, Model__kernel=rbf, scale=StandardScaler(); total time=   0.0s\n",
      "[CV] END Model__C=100, Model__coef0=1, Model__degree=2, Model__gamma=auto, Model__kernel=rbf, scale=StandardScaler(); total time=   0.0s\n",
      "[CV] END Model__C=100, Model__coef0=1, Model__degree=2, Model__gamma=auto, Model__kernel=rbf, scale=StandardScaler(); total time=   0.0s\n",
      "[CV] END Model__C=100, Model__coef0=1, Model__degree=2, Model__gamma=auto, Model__kernel=rbf, scale=StandardScaler(); total time=   0.0s\n",
      "[CV] END Model__C=100, Model__coef0=1, Model__degree=3, Model__gamma=scale, Model__kernel=linear, scale=StandardScaler(); total time=   0.3s\n",
      "[CV] END Model__C=100, Model__coef0=1, Model__degree=3, Model__gamma=scale, Model__kernel=linear, scale=StandardScaler(); total time=   0.2s\n",
      "[CV] END Model__C=100, Model__coef0=1, Model__degree=3, Model__gamma=scale, Model__kernel=linear, scale=StandardScaler(); total time=   0.3s\n",
      "[CV] END Model__C=100, Model__coef0=1, Model__degree=3, Model__gamma=scale, Model__kernel=linear, scale=StandardScaler(); total time=   0.4s\n",
      "[CV] END Model__C=100, Model__coef0=1, Model__degree=3, Model__gamma=scale, Model__kernel=linear, scale=StandardScaler(); total time=   0.1s\n",
      "[CV] END Model__C=100, Model__coef0=1, Model__degree=3, Model__gamma=scale, Model__kernel=poly, scale=StandardScaler(); total time=   0.1s\n",
      "[CV] END Model__C=100, Model__coef0=1, Model__degree=3, Model__gamma=scale, Model__kernel=poly, scale=StandardScaler(); total time=   0.1s\n",
      "[CV] END Model__C=100, Model__coef0=1, Model__degree=3, Model__gamma=scale, Model__kernel=poly, scale=StandardScaler(); total time=   0.1s\n",
      "[CV] END Model__C=100, Model__coef0=1, Model__degree=3, Model__gamma=scale, Model__kernel=poly, scale=StandardScaler(); total time=   0.1s\n",
      "[CV] END Model__C=100, Model__coef0=1, Model__degree=3, Model__gamma=scale, Model__kernel=poly, scale=StandardScaler(); total time=   0.1s\n",
      "[CV] END Model__C=100, Model__coef0=1, Model__degree=3, Model__gamma=scale, Model__kernel=rbf, scale=StandardScaler(); total time=   0.0s\n",
      "[CV] END Model__C=100, Model__coef0=1, Model__degree=3, Model__gamma=scale, Model__kernel=rbf, scale=StandardScaler(); total time=   0.0s\n",
      "[CV] END Model__C=100, Model__coef0=1, Model__degree=3, Model__gamma=scale, Model__kernel=rbf, scale=StandardScaler(); total time=   0.0s\n",
      "[CV] END Model__C=100, Model__coef0=1, Model__degree=3, Model__gamma=scale, Model__kernel=rbf, scale=StandardScaler(); total time=   0.0s\n",
      "[CV] END Model__C=100, Model__coef0=1, Model__degree=3, Model__gamma=scale, Model__kernel=rbf, scale=StandardScaler(); total time=   0.0s\n",
      "[CV] END Model__C=100, Model__coef0=1, Model__degree=3, Model__gamma=auto, Model__kernel=linear, scale=StandardScaler(); total time=   0.3s\n",
      "[CV] END Model__C=100, Model__coef0=1, Model__degree=3, Model__gamma=auto, Model__kernel=linear, scale=StandardScaler(); total time=   0.2s\n",
      "[CV] END Model__C=100, Model__coef0=1, Model__degree=3, Model__gamma=auto, Model__kernel=linear, scale=StandardScaler(); total time=   0.3s\n",
      "[CV] END Model__C=100, Model__coef0=1, Model__degree=3, Model__gamma=auto, Model__kernel=linear, scale=StandardScaler(); total time=   0.4s\n",
      "[CV] END Model__C=100, Model__coef0=1, Model__degree=3, Model__gamma=auto, Model__kernel=linear, scale=StandardScaler(); total time=   0.1s\n",
      "[CV] END Model__C=100, Model__coef0=1, Model__degree=3, Model__gamma=auto, Model__kernel=poly, scale=StandardScaler(); total time=   0.1s\n",
      "[CV] END Model__C=100, Model__coef0=1, Model__degree=3, Model__gamma=auto, Model__kernel=poly, scale=StandardScaler(); total time=   0.1s\n",
      "[CV] END Model__C=100, Model__coef0=1, Model__degree=3, Model__gamma=auto, Model__kernel=poly, scale=StandardScaler(); total time=   0.2s\n",
      "[CV] END Model__C=100, Model__coef0=1, Model__degree=3, Model__gamma=auto, Model__kernel=poly, scale=StandardScaler(); total time=   0.1s\n",
      "[CV] END Model__C=100, Model__coef0=1, Model__degree=3, Model__gamma=auto, Model__kernel=poly, scale=StandardScaler(); total time=   0.1s\n",
      "[CV] END Model__C=100, Model__coef0=1, Model__degree=3, Model__gamma=auto, Model__kernel=rbf, scale=StandardScaler(); total time=   0.0s\n",
      "[CV] END Model__C=100, Model__coef0=1, Model__degree=3, Model__gamma=auto, Model__kernel=rbf, scale=StandardScaler(); total time=   0.0s\n",
      "[CV] END Model__C=100, Model__coef0=1, Model__degree=3, Model__gamma=auto, Model__kernel=rbf, scale=StandardScaler(); total time=   0.0s\n",
      "[CV] END Model__C=100, Model__coef0=1, Model__degree=3, Model__gamma=auto, Model__kernel=rbf, scale=StandardScaler(); total time=   0.0s\n",
      "[CV] END Model__C=100, Model__coef0=1, Model__degree=3, Model__gamma=auto, Model__kernel=rbf, scale=StandardScaler(); total time=   0.0s\n"
     ]
    },
    {
     "data": {
      "text/html": [
       "<div>\n",
       "<style scoped>\n",
       "    .dataframe tbody tr th:only-of-type {\n",
       "        vertical-align: middle;\n",
       "    }\n",
       "\n",
       "    .dataframe tbody tr th {\n",
       "        vertical-align: top;\n",
       "    }\n",
       "\n",
       "    .dataframe thead th {\n",
       "        text-align: right;\n",
       "    }\n",
       "</style>\n",
       "<table border=\"1\" class=\"dataframe\">\n",
       "  <thead>\n",
       "    <tr style=\"text-align: right;\">\n",
       "      <th></th>\n",
       "      <th>mean_fit_time</th>\n",
       "      <th>std_fit_time</th>\n",
       "      <th>mean_score_time</th>\n",
       "      <th>std_score_time</th>\n",
       "      <th>param_Model__C</th>\n",
       "      <th>param_Model__coef0</th>\n",
       "      <th>param_Model__degree</th>\n",
       "      <th>param_Model__gamma</th>\n",
       "      <th>param_Model__kernel</th>\n",
       "      <th>param_scale</th>\n",
       "      <th>...</th>\n",
       "      <th>std_test_accuracy</th>\n",
       "      <th>rank_test_accuracy</th>\n",
       "      <th>split0_test_f1</th>\n",
       "      <th>split1_test_f1</th>\n",
       "      <th>split2_test_f1</th>\n",
       "      <th>split3_test_f1</th>\n",
       "      <th>split4_test_f1</th>\n",
       "      <th>mean_test_f1</th>\n",
       "      <th>std_test_f1</th>\n",
       "      <th>rank_test_f1</th>\n",
       "    </tr>\n",
       "  </thead>\n",
       "  <tbody>\n",
       "    <tr>\n",
       "      <th>0</th>\n",
       "      <td>0.009857</td>\n",
       "      <td>0.001614</td>\n",
       "      <td>0.008070</td>\n",
       "      <td>0.000815</td>\n",
       "      <td>0.01</td>\n",
       "      <td>-1</td>\n",
       "      <td>2</td>\n",
       "      <td>scale</td>\n",
       "      <td>linear</td>\n",
       "      <td>StandardScaler()</td>\n",
       "      <td>...</td>\n",
       "      <td>0.030038</td>\n",
       "      <td>39</td>\n",
       "      <td>0.730435</td>\n",
       "      <td>0.767857</td>\n",
       "      <td>0.714286</td>\n",
       "      <td>0.613861</td>\n",
       "      <td>0.738739</td>\n",
       "      <td>0.713036</td>\n",
       "      <td>0.052547</td>\n",
       "      <td>27</td>\n",
       "    </tr>\n",
       "    <tr>\n",
       "      <th>1</th>\n",
       "      <td>0.011702</td>\n",
       "      <td>0.000366</td>\n",
       "      <td>0.009204</td>\n",
       "      <td>0.000509</td>\n",
       "      <td>0.01</td>\n",
       "      <td>-1</td>\n",
       "      <td>2</td>\n",
       "      <td>scale</td>\n",
       "      <td>poly</td>\n",
       "      <td>StandardScaler()</td>\n",
       "      <td>...</td>\n",
       "      <td>0.046443</td>\n",
       "      <td>111</td>\n",
       "      <td>0.097561</td>\n",
       "      <td>0.114943</td>\n",
       "      <td>0.082474</td>\n",
       "      <td>0.063830</td>\n",
       "      <td>0.063158</td>\n",
       "      <td>0.084393</td>\n",
       "      <td>0.019920</td>\n",
       "      <td>111</td>\n",
       "    </tr>\n",
       "    <tr>\n",
       "      <th>2</th>\n",
       "      <td>0.014230</td>\n",
       "      <td>0.000637</td>\n",
       "      <td>0.019313</td>\n",
       "      <td>0.000705</td>\n",
       "      <td>0.01</td>\n",
       "      <td>-1</td>\n",
       "      <td>2</td>\n",
       "      <td>scale</td>\n",
       "      <td>rbf</td>\n",
       "      <td>StandardScaler()</td>\n",
       "      <td>...</td>\n",
       "      <td>0.001143</td>\n",
       "      <td>103</td>\n",
       "      <td>0.000000</td>\n",
       "      <td>0.000000</td>\n",
       "      <td>0.000000</td>\n",
       "      <td>0.000000</td>\n",
       "      <td>0.000000</td>\n",
       "      <td>0.000000</td>\n",
       "      <td>0.000000</td>\n",
       "      <td>113</td>\n",
       "    </tr>\n",
       "    <tr>\n",
       "      <th>3</th>\n",
       "      <td>0.009450</td>\n",
       "      <td>0.000764</td>\n",
       "      <td>0.008487</td>\n",
       "      <td>0.000404</td>\n",
       "      <td>0.01</td>\n",
       "      <td>-1</td>\n",
       "      <td>2</td>\n",
       "      <td>auto</td>\n",
       "      <td>linear</td>\n",
       "      <td>StandardScaler()</td>\n",
       "      <td>...</td>\n",
       "      <td>0.030038</td>\n",
       "      <td>39</td>\n",
       "      <td>0.730435</td>\n",
       "      <td>0.767857</td>\n",
       "      <td>0.714286</td>\n",
       "      <td>0.613861</td>\n",
       "      <td>0.738739</td>\n",
       "      <td>0.713036</td>\n",
       "      <td>0.052547</td>\n",
       "      <td>27</td>\n",
       "    </tr>\n",
       "    <tr>\n",
       "      <th>4</th>\n",
       "      <td>0.011806</td>\n",
       "      <td>0.001184</td>\n",
       "      <td>0.010318</td>\n",
       "      <td>0.002151</td>\n",
       "      <td>0.01</td>\n",
       "      <td>-1</td>\n",
       "      <td>2</td>\n",
       "      <td>auto</td>\n",
       "      <td>poly</td>\n",
       "      <td>StandardScaler()</td>\n",
       "      <td>...</td>\n",
       "      <td>0.046443</td>\n",
       "      <td>111</td>\n",
       "      <td>0.097561</td>\n",
       "      <td>0.114943</td>\n",
       "      <td>0.082474</td>\n",
       "      <td>0.063830</td>\n",
       "      <td>0.063158</td>\n",
       "      <td>0.084393</td>\n",
       "      <td>0.019920</td>\n",
       "      <td>111</td>\n",
       "    </tr>\n",
       "    <tr>\n",
       "      <th>...</th>\n",
       "      <td>...</td>\n",
       "      <td>...</td>\n",
       "      <td>...</td>\n",
       "      <td>...</td>\n",
       "      <td>...</td>\n",
       "      <td>...</td>\n",
       "      <td>...</td>\n",
       "      <td>...</td>\n",
       "      <td>...</td>\n",
       "      <td>...</td>\n",
       "      <td>...</td>\n",
       "      <td>...</td>\n",
       "      <td>...</td>\n",
       "      <td>...</td>\n",
       "      <td>...</td>\n",
       "      <td>...</td>\n",
       "      <td>...</td>\n",
       "      <td>...</td>\n",
       "      <td>...</td>\n",
       "      <td>...</td>\n",
       "      <td>...</td>\n",
       "    </tr>\n",
       "    <tr>\n",
       "      <th>115</th>\n",
       "      <td>0.105631</td>\n",
       "      <td>0.018377</td>\n",
       "      <td>0.006991</td>\n",
       "      <td>0.000440</td>\n",
       "      <td>100</td>\n",
       "      <td>1</td>\n",
       "      <td>3</td>\n",
       "      <td>scale</td>\n",
       "      <td>poly</td>\n",
       "      <td>StandardScaler()</td>\n",
       "      <td>...</td>\n",
       "      <td>0.043316</td>\n",
       "      <td>57</td>\n",
       "      <td>0.580000</td>\n",
       "      <td>0.705882</td>\n",
       "      <td>0.725664</td>\n",
       "      <td>0.639175</td>\n",
       "      <td>0.800000</td>\n",
       "      <td>0.690144</td>\n",
       "      <td>0.075243</td>\n",
       "      <td>93</td>\n",
       "    </tr>\n",
       "    <tr>\n",
       "      <th>116</th>\n",
       "      <td>0.020156</td>\n",
       "      <td>0.002080</td>\n",
       "      <td>0.011733</td>\n",
       "      <td>0.000166</td>\n",
       "      <td>100</td>\n",
       "      <td>1</td>\n",
       "      <td>3</td>\n",
       "      <td>scale</td>\n",
       "      <td>rbf</td>\n",
       "      <td>StandardScaler()</td>\n",
       "      <td>...</td>\n",
       "      <td>0.037646</td>\n",
       "      <td>47</td>\n",
       "      <td>0.609524</td>\n",
       "      <td>0.704762</td>\n",
       "      <td>0.750000</td>\n",
       "      <td>0.652632</td>\n",
       "      <td>0.789916</td>\n",
       "      <td>0.701367</td>\n",
       "      <td>0.064850</td>\n",
       "      <td>83</td>\n",
       "    </tr>\n",
       "    <tr>\n",
       "      <th>117</th>\n",
       "      <td>0.241933</td>\n",
       "      <td>0.106976</td>\n",
       "      <td>0.007348</td>\n",
       "      <td>0.000496</td>\n",
       "      <td>100</td>\n",
       "      <td>1</td>\n",
       "      <td>3</td>\n",
       "      <td>auto</td>\n",
       "      <td>linear</td>\n",
       "      <td>StandardScaler()</td>\n",
       "      <td>...</td>\n",
       "      <td>0.031511</td>\n",
       "      <td>59</td>\n",
       "      <td>0.684685</td>\n",
       "      <td>0.767857</td>\n",
       "      <td>0.714286</td>\n",
       "      <td>0.613861</td>\n",
       "      <td>0.738739</td>\n",
       "      <td>0.703886</td>\n",
       "      <td>0.052704</td>\n",
       "      <td>47</td>\n",
       "    </tr>\n",
       "    <tr>\n",
       "      <th>118</th>\n",
       "      <td>0.116414</td>\n",
       "      <td>0.042111</td>\n",
       "      <td>0.007471</td>\n",
       "      <td>0.000508</td>\n",
       "      <td>100</td>\n",
       "      <td>1</td>\n",
       "      <td>3</td>\n",
       "      <td>auto</td>\n",
       "      <td>poly</td>\n",
       "      <td>StandardScaler()</td>\n",
       "      <td>...</td>\n",
       "      <td>0.043316</td>\n",
       "      <td>57</td>\n",
       "      <td>0.580000</td>\n",
       "      <td>0.705882</td>\n",
       "      <td>0.725664</td>\n",
       "      <td>0.639175</td>\n",
       "      <td>0.800000</td>\n",
       "      <td>0.690144</td>\n",
       "      <td>0.075243</td>\n",
       "      <td>93</td>\n",
       "    </tr>\n",
       "    <tr>\n",
       "      <th>119</th>\n",
       "      <td>0.019842</td>\n",
       "      <td>0.001835</td>\n",
       "      <td>0.012747</td>\n",
       "      <td>0.000785</td>\n",
       "      <td>100</td>\n",
       "      <td>1</td>\n",
       "      <td>3</td>\n",
       "      <td>auto</td>\n",
       "      <td>rbf</td>\n",
       "      <td>StandardScaler()</td>\n",
       "      <td>...</td>\n",
       "      <td>0.037646</td>\n",
       "      <td>47</td>\n",
       "      <td>0.609524</td>\n",
       "      <td>0.704762</td>\n",
       "      <td>0.750000</td>\n",
       "      <td>0.652632</td>\n",
       "      <td>0.789916</td>\n",
       "      <td>0.701367</td>\n",
       "      <td>0.064850</td>\n",
       "      <td>83</td>\n",
       "    </tr>\n",
       "  </tbody>\n",
       "</table>\n",
       "<p>120 rows × 51 columns</p>\n",
       "</div>"
      ],
      "text/plain": [
       "     mean_fit_time  std_fit_time  mean_score_time  std_score_time  \\\n",
       "0         0.009857      0.001614         0.008070        0.000815   \n",
       "1         0.011702      0.000366         0.009204        0.000509   \n",
       "2         0.014230      0.000637         0.019313        0.000705   \n",
       "3         0.009450      0.000764         0.008487        0.000404   \n",
       "4         0.011806      0.001184         0.010318        0.002151   \n",
       "..             ...           ...              ...             ...   \n",
       "115       0.105631      0.018377         0.006991        0.000440   \n",
       "116       0.020156      0.002080         0.011733        0.000166   \n",
       "117       0.241933      0.106976         0.007348        0.000496   \n",
       "118       0.116414      0.042111         0.007471        0.000508   \n",
       "119       0.019842      0.001835         0.012747        0.000785   \n",
       "\n",
       "    param_Model__C param_Model__coef0 param_Model__degree param_Model__gamma  \\\n",
       "0             0.01                 -1                   2              scale   \n",
       "1             0.01                 -1                   2              scale   \n",
       "2             0.01                 -1                   2              scale   \n",
       "3             0.01                 -1                   2               auto   \n",
       "4             0.01                 -1                   2               auto   \n",
       "..             ...                ...                 ...                ...   \n",
       "115            100                  1                   3              scale   \n",
       "116            100                  1                   3              scale   \n",
       "117            100                  1                   3               auto   \n",
       "118            100                  1                   3               auto   \n",
       "119            100                  1                   3               auto   \n",
       "\n",
       "    param_Model__kernel       param_scale  ... std_test_accuracy  \\\n",
       "0                linear  StandardScaler()  ...          0.030038   \n",
       "1                  poly  StandardScaler()  ...          0.046443   \n",
       "2                   rbf  StandardScaler()  ...          0.001143   \n",
       "3                linear  StandardScaler()  ...          0.030038   \n",
       "4                  poly  StandardScaler()  ...          0.046443   \n",
       "..                  ...               ...  ...               ...   \n",
       "115                poly  StandardScaler()  ...          0.043316   \n",
       "116                 rbf  StandardScaler()  ...          0.037646   \n",
       "117              linear  StandardScaler()  ...          0.031511   \n",
       "118                poly  StandardScaler()  ...          0.043316   \n",
       "119                 rbf  StandardScaler()  ...          0.037646   \n",
       "\n",
       "     rank_test_accuracy  split0_test_f1  split1_test_f1  split2_test_f1  \\\n",
       "0                    39        0.730435        0.767857        0.714286   \n",
       "1                   111        0.097561        0.114943        0.082474   \n",
       "2                   103        0.000000        0.000000        0.000000   \n",
       "3                    39        0.730435        0.767857        0.714286   \n",
       "4                   111        0.097561        0.114943        0.082474   \n",
       "..                  ...             ...             ...             ...   \n",
       "115                  57        0.580000        0.705882        0.725664   \n",
       "116                  47        0.609524        0.704762        0.750000   \n",
       "117                  59        0.684685        0.767857        0.714286   \n",
       "118                  57        0.580000        0.705882        0.725664   \n",
       "119                  47        0.609524        0.704762        0.750000   \n",
       "\n",
       "     split3_test_f1  split4_test_f1  mean_test_f1  std_test_f1  rank_test_f1  \n",
       "0          0.613861        0.738739      0.713036     0.052547            27  \n",
       "1          0.063830        0.063158      0.084393     0.019920           111  \n",
       "2          0.000000        0.000000      0.000000     0.000000           113  \n",
       "3          0.613861        0.738739      0.713036     0.052547            27  \n",
       "4          0.063830        0.063158      0.084393     0.019920           111  \n",
       "..              ...             ...           ...          ...           ...  \n",
       "115        0.639175        0.800000      0.690144     0.075243            93  \n",
       "116        0.652632        0.789916      0.701367     0.064850            83  \n",
       "117        0.613861        0.738739      0.703886     0.052704            47  \n",
       "118        0.639175        0.800000      0.690144     0.075243            93  \n",
       "119        0.652632        0.789916      0.701367     0.064850            83  \n",
       "\n",
       "[120 rows x 51 columns]"
      ]
     },
     "metadata": {},
     "output_type": "display_data"
    }
   ],
   "source": [
    "pipe = Pipeline([('scale', preprocessing.StandardScaler()), ('Model', SVC())])\n",
    "# Define our parameters for the grid search\n",
    "params = [{'scale': [preprocessing.StandardScaler()],\n",
    "           'Model__C': [1*10**-2, 1*10**-1, 1, 10, 100],\n",
    "           'Model__kernel': ['linear', 'poly', 'rbf'],\n",
    "           'Model__gamma':['scale', 'auto'], 'Model__degree': [2, 3], 'Model__coef0': [-1, 1]}]\n",
    "clfKernalisedSVM = GridSearchCV(estimator = pipe, param_grid = params, scoring=['average_precision', 'balanced_accuracy', 'roc_auc', 'accuracy', 'f1'], refit='average_precision', verbose=2)\n",
    "# Train and get the best hyper parameters for our model\n",
    "clfKernalisedSVM.fit(xTrain, yTrain)\n",
    "bestKernalisedSVM = clfKernalisedSVM.best_params_\n",
    "\n",
    "# Display the table output of the previous\n",
    "# Note this table is very large therefore only check if you really need to\n",
    "display(pd.DataFrame(clfKernalisedSVM.cv_results_))"
   ]
  },
  {
   "attachments": {},
   "cell_type": "markdown",
   "metadata": {},
   "source": [
    "### 5. Multi-layer perceptron"
   ]
  },
  {
   "cell_type": "code",
   "execution_count": 12,
   "metadata": {},
   "outputs": [
    {
     "name": "stdout",
     "output_type": "stream",
     "text": [
      "Fitting 5 folds for each of 64 candidates, totalling 320 fits\n",
      "[CV] END Model__activation=identity, Model__alpha=0.001, Model__hidden_layer_sizes=(50, 20), Model__learning_rate=adaptive, Model__solver=adam; total time=   0.1s\n",
      "[CV] END Model__activation=identity, Model__alpha=0.001, Model__hidden_layer_sizes=(50, 20), Model__learning_rate=adaptive, Model__solver=adam; total time=   0.1s\n",
      "[CV] END Model__activation=identity, Model__alpha=0.001, Model__hidden_layer_sizes=(50, 20), Model__learning_rate=adaptive, Model__solver=adam; total time=   0.1s\n",
      "[CV] END Model__activation=identity, Model__alpha=0.001, Model__hidden_layer_sizes=(50, 20), Model__learning_rate=adaptive, Model__solver=adam; total time=   0.1s\n",
      "[CV] END Model__activation=identity, Model__alpha=0.001, Model__hidden_layer_sizes=(50, 20), Model__learning_rate=adaptive, Model__solver=adam; total time=   0.1s\n",
      "[CV] END Model__activation=identity, Model__alpha=0.001, Model__hidden_layer_sizes=(20, 50), Model__learning_rate=adaptive, Model__solver=adam; total time=   0.1s\n",
      "[CV] END Model__activation=identity, Model__alpha=0.001, Model__hidden_layer_sizes=(20, 50), Model__learning_rate=adaptive, Model__solver=adam; total time=   0.1s\n",
      "[CV] END Model__activation=identity, Model__alpha=0.001, Model__hidden_layer_sizes=(20, 50), Model__learning_rate=adaptive, Model__solver=adam; total time=   0.1s\n",
      "[CV] END Model__activation=identity, Model__alpha=0.001, Model__hidden_layer_sizes=(20, 50), Model__learning_rate=adaptive, Model__solver=adam; total time=   0.1s\n",
      "[CV] END Model__activation=identity, Model__alpha=0.001, Model__hidden_layer_sizes=(20, 50), Model__learning_rate=adaptive, Model__solver=adam; total time=   0.1s\n",
      "[CV] END Model__activation=identity, Model__alpha=0.001, Model__hidden_layer_sizes=(100, 40), Model__learning_rate=adaptive, Model__solver=adam; total time=   0.1s\n",
      "[CV] END Model__activation=identity, Model__alpha=0.001, Model__hidden_layer_sizes=(100, 40), Model__learning_rate=adaptive, Model__solver=adam; total time=   0.1s\n",
      "[CV] END Model__activation=identity, Model__alpha=0.001, Model__hidden_layer_sizes=(100, 40), Model__learning_rate=adaptive, Model__solver=adam; total time=   0.1s\n",
      "[CV] END Model__activation=identity, Model__alpha=0.001, Model__hidden_layer_sizes=(100, 40), Model__learning_rate=adaptive, Model__solver=adam; total time=   0.1s\n",
      "[CV] END Model__activation=identity, Model__alpha=0.001, Model__hidden_layer_sizes=(100, 40), Model__learning_rate=adaptive, Model__solver=adam; total time=   0.1s\n",
      "[CV] END Model__activation=identity, Model__alpha=0.001, Model__hidden_layer_sizes=(30, 40, 50), Model__learning_rate=adaptive, Model__solver=adam; total time=   0.1s\n",
      "[CV] END Model__activation=identity, Model__alpha=0.001, Model__hidden_layer_sizes=(30, 40, 50), Model__learning_rate=adaptive, Model__solver=adam; total time=   0.1s\n",
      "[CV] END Model__activation=identity, Model__alpha=0.001, Model__hidden_layer_sizes=(30, 40, 50), Model__learning_rate=adaptive, Model__solver=adam; total time=   0.1s\n",
      "[CV] END Model__activation=identity, Model__alpha=0.001, Model__hidden_layer_sizes=(30, 40, 50), Model__learning_rate=adaptive, Model__solver=adam; total time=   0.1s\n",
      "[CV] END Model__activation=identity, Model__alpha=0.001, Model__hidden_layer_sizes=(30, 40, 50), Model__learning_rate=adaptive, Model__solver=adam; total time=   0.1s\n",
      "[CV] END Model__activation=identity, Model__alpha=0.01, Model__hidden_layer_sizes=(50, 20), Model__learning_rate=adaptive, Model__solver=adam; total time=   0.1s\n",
      "[CV] END Model__activation=identity, Model__alpha=0.01, Model__hidden_layer_sizes=(50, 20), Model__learning_rate=adaptive, Model__solver=adam; total time=   0.1s\n",
      "[CV] END Model__activation=identity, Model__alpha=0.01, Model__hidden_layer_sizes=(50, 20), Model__learning_rate=adaptive, Model__solver=adam; total time=   0.1s\n",
      "[CV] END Model__activation=identity, Model__alpha=0.01, Model__hidden_layer_sizes=(50, 20), Model__learning_rate=adaptive, Model__solver=adam; total time=   0.1s\n",
      "[CV] END Model__activation=identity, Model__alpha=0.01, Model__hidden_layer_sizes=(50, 20), Model__learning_rate=adaptive, Model__solver=adam; total time=   0.1s\n",
      "[CV] END Model__activation=identity, Model__alpha=0.01, Model__hidden_layer_sizes=(20, 50), Model__learning_rate=adaptive, Model__solver=adam; total time=   0.1s\n",
      "[CV] END Model__activation=identity, Model__alpha=0.01, Model__hidden_layer_sizes=(20, 50), Model__learning_rate=adaptive, Model__solver=adam; total time=   0.1s\n",
      "[CV] END Model__activation=identity, Model__alpha=0.01, Model__hidden_layer_sizes=(20, 50), Model__learning_rate=adaptive, Model__solver=adam; total time=   0.1s\n",
      "[CV] END Model__activation=identity, Model__alpha=0.01, Model__hidden_layer_sizes=(20, 50), Model__learning_rate=adaptive, Model__solver=adam; total time=   0.1s\n",
      "[CV] END Model__activation=identity, Model__alpha=0.01, Model__hidden_layer_sizes=(20, 50), Model__learning_rate=adaptive, Model__solver=adam; total time=   0.1s\n",
      "[CV] END Model__activation=identity, Model__alpha=0.01, Model__hidden_layer_sizes=(100, 40), Model__learning_rate=adaptive, Model__solver=adam; total time=   0.1s\n",
      "[CV] END Model__activation=identity, Model__alpha=0.01, Model__hidden_layer_sizes=(100, 40), Model__learning_rate=adaptive, Model__solver=adam; total time=   0.1s\n",
      "[CV] END Model__activation=identity, Model__alpha=0.01, Model__hidden_layer_sizes=(100, 40), Model__learning_rate=adaptive, Model__solver=adam; total time=   0.1s\n",
      "[CV] END Model__activation=identity, Model__alpha=0.01, Model__hidden_layer_sizes=(100, 40), Model__learning_rate=adaptive, Model__solver=adam; total time=   0.1s\n",
      "[CV] END Model__activation=identity, Model__alpha=0.01, Model__hidden_layer_sizes=(100, 40), Model__learning_rate=adaptive, Model__solver=adam; total time=   0.1s\n",
      "[CV] END Model__activation=identity, Model__alpha=0.01, Model__hidden_layer_sizes=(30, 40, 50), Model__learning_rate=adaptive, Model__solver=adam; total time=   0.1s\n",
      "[CV] END Model__activation=identity, Model__alpha=0.01, Model__hidden_layer_sizes=(30, 40, 50), Model__learning_rate=adaptive, Model__solver=adam; total time=   0.1s\n",
      "[CV] END Model__activation=identity, Model__alpha=0.01, Model__hidden_layer_sizes=(30, 40, 50), Model__learning_rate=adaptive, Model__solver=adam; total time=   0.1s\n",
      "[CV] END Model__activation=identity, Model__alpha=0.01, Model__hidden_layer_sizes=(30, 40, 50), Model__learning_rate=adaptive, Model__solver=adam; total time=   0.1s\n",
      "[CV] END Model__activation=identity, Model__alpha=0.01, Model__hidden_layer_sizes=(30, 40, 50), Model__learning_rate=adaptive, Model__solver=adam; total time=   0.1s\n",
      "[CV] END Model__activation=identity, Model__alpha=1, Model__hidden_layer_sizes=(50, 20), Model__learning_rate=adaptive, Model__solver=adam; total time=   0.7s\n",
      "[CV] END Model__activation=identity, Model__alpha=1, Model__hidden_layer_sizes=(50, 20), Model__learning_rate=adaptive, Model__solver=adam; total time=   0.6s\n",
      "[CV] END Model__activation=identity, Model__alpha=1, Model__hidden_layer_sizes=(50, 20), Model__learning_rate=adaptive, Model__solver=adam; total time=   0.6s\n",
      "[CV] END Model__activation=identity, Model__alpha=1, Model__hidden_layer_sizes=(50, 20), Model__learning_rate=adaptive, Model__solver=adam; total time=   0.6s\n",
      "[CV] END Model__activation=identity, Model__alpha=1, Model__hidden_layer_sizes=(50, 20), Model__learning_rate=adaptive, Model__solver=adam; total time=   0.6s\n",
      "[CV] END Model__activation=identity, Model__alpha=1, Model__hidden_layer_sizes=(20, 50), Model__learning_rate=adaptive, Model__solver=adam; total time=   0.7s\n",
      "[CV] END Model__activation=identity, Model__alpha=1, Model__hidden_layer_sizes=(20, 50), Model__learning_rate=adaptive, Model__solver=adam; total time=   0.7s\n",
      "[CV] END Model__activation=identity, Model__alpha=1, Model__hidden_layer_sizes=(20, 50), Model__learning_rate=adaptive, Model__solver=adam; total time=   0.6s\n",
      "[CV] END Model__activation=identity, Model__alpha=1, Model__hidden_layer_sizes=(20, 50), Model__learning_rate=adaptive, Model__solver=adam; total time=   0.7s\n",
      "[CV] END Model__activation=identity, Model__alpha=1, Model__hidden_layer_sizes=(20, 50), Model__learning_rate=adaptive, Model__solver=adam; total time=   0.6s\n",
      "[CV] END Model__activation=identity, Model__alpha=1, Model__hidden_layer_sizes=(100, 40), Model__learning_rate=adaptive, Model__solver=adam; total time=   0.7s\n",
      "[CV] END Model__activation=identity, Model__alpha=1, Model__hidden_layer_sizes=(100, 40), Model__learning_rate=adaptive, Model__solver=adam; total time=   0.6s\n",
      "[CV] END Model__activation=identity, Model__alpha=1, Model__hidden_layer_sizes=(100, 40), Model__learning_rate=adaptive, Model__solver=adam; total time=   0.7s\n",
      "[CV] END Model__activation=identity, Model__alpha=1, Model__hidden_layer_sizes=(100, 40), Model__learning_rate=adaptive, Model__solver=adam; total time=   0.8s\n",
      "[CV] END Model__activation=identity, Model__alpha=1, Model__hidden_layer_sizes=(100, 40), Model__learning_rate=adaptive, Model__solver=adam; total time=   0.9s\n",
      "[CV] END Model__activation=identity, Model__alpha=1, Model__hidden_layer_sizes=(30, 40, 50), Model__learning_rate=adaptive, Model__solver=adam; total time=   1.0s\n"
     ]
    },
    {
     "name": "stderr",
     "output_type": "stream",
     "text": [
      "/usr/local/lib/python3.9/site-packages/sklearn/neural_network/_multilayer_perceptron.py:692: ConvergenceWarning: Stochastic Optimizer: Maximum iterations (500) reached and the optimization hasn't converged yet.\n",
      "  warnings.warn(\n"
     ]
    },
    {
     "name": "stdout",
     "output_type": "stream",
     "text": [
      "[CV] END Model__activation=identity, Model__alpha=1, Model__hidden_layer_sizes=(30, 40, 50), Model__learning_rate=adaptive, Model__solver=adam; total time=   1.1s\n"
     ]
    },
    {
     "name": "stderr",
     "output_type": "stream",
     "text": [
      "/usr/local/lib/python3.9/site-packages/sklearn/neural_network/_multilayer_perceptron.py:692: ConvergenceWarning: Stochastic Optimizer: Maximum iterations (500) reached and the optimization hasn't converged yet.\n",
      "  warnings.warn(\n"
     ]
    },
    {
     "name": "stdout",
     "output_type": "stream",
     "text": [
      "[CV] END Model__activation=identity, Model__alpha=1, Model__hidden_layer_sizes=(30, 40, 50), Model__learning_rate=adaptive, Model__solver=adam; total time=   1.1s\n",
      "[CV] END Model__activation=identity, Model__alpha=1, Model__hidden_layer_sizes=(30, 40, 50), Model__learning_rate=adaptive, Model__solver=adam; total time=   1.1s\n",
      "[CV] END Model__activation=identity, Model__alpha=1, Model__hidden_layer_sizes=(30, 40, 50), Model__learning_rate=adaptive, Model__solver=adam; total time=   1.5s\n",
      "[CV] END Model__activation=identity, Model__alpha=10, Model__hidden_layer_sizes=(50, 20), Model__learning_rate=adaptive, Model__solver=adam; total time=   0.4s\n",
      "[CV] END Model__activation=identity, Model__alpha=10, Model__hidden_layer_sizes=(50, 20), Model__learning_rate=adaptive, Model__solver=adam; total time=   0.3s\n",
      "[CV] END Model__activation=identity, Model__alpha=10, Model__hidden_layer_sizes=(50, 20), Model__learning_rate=adaptive, Model__solver=adam; total time=   0.4s\n",
      "[CV] END Model__activation=identity, Model__alpha=10, Model__hidden_layer_sizes=(50, 20), Model__learning_rate=adaptive, Model__solver=adam; total time=   0.3s\n",
      "[CV] END Model__activation=identity, Model__alpha=10, Model__hidden_layer_sizes=(50, 20), Model__learning_rate=adaptive, Model__solver=adam; total time=   0.3s\n",
      "[CV] END Model__activation=identity, Model__alpha=10, Model__hidden_layer_sizes=(20, 50), Model__learning_rate=adaptive, Model__solver=adam; total time=   0.4s\n",
      "[CV] END Model__activation=identity, Model__alpha=10, Model__hidden_layer_sizes=(20, 50), Model__learning_rate=adaptive, Model__solver=adam; total time=   0.5s\n",
      "[CV] END Model__activation=identity, Model__alpha=10, Model__hidden_layer_sizes=(20, 50), Model__learning_rate=adaptive, Model__solver=adam; total time=   0.4s\n",
      "[CV] END Model__activation=identity, Model__alpha=10, Model__hidden_layer_sizes=(20, 50), Model__learning_rate=adaptive, Model__solver=adam; total time=   0.4s\n",
      "[CV] END Model__activation=identity, Model__alpha=10, Model__hidden_layer_sizes=(20, 50), Model__learning_rate=adaptive, Model__solver=adam; total time=   0.4s\n",
      "[CV] END Model__activation=identity, Model__alpha=10, Model__hidden_layer_sizes=(100, 40), Model__learning_rate=adaptive, Model__solver=adam; total time=   0.3s\n",
      "[CV] END Model__activation=identity, Model__alpha=10, Model__hidden_layer_sizes=(100, 40), Model__learning_rate=adaptive, Model__solver=adam; total time=   0.3s\n",
      "[CV] END Model__activation=identity, Model__alpha=10, Model__hidden_layer_sizes=(100, 40), Model__learning_rate=adaptive, Model__solver=adam; total time=   0.4s\n",
      "[CV] END Model__activation=identity, Model__alpha=10, Model__hidden_layer_sizes=(100, 40), Model__learning_rate=adaptive, Model__solver=adam; total time=   0.4s\n",
      "[CV] END Model__activation=identity, Model__alpha=10, Model__hidden_layer_sizes=(100, 40), Model__learning_rate=adaptive, Model__solver=adam; total time=   0.3s\n",
      "[CV] END Model__activation=identity, Model__alpha=10, Model__hidden_layer_sizes=(30, 40, 50), Model__learning_rate=adaptive, Model__solver=adam; total time=   0.5s\n",
      "[CV] END Model__activation=identity, Model__alpha=10, Model__hidden_layer_sizes=(30, 40, 50), Model__learning_rate=adaptive, Model__solver=adam; total time=   0.6s\n",
      "[CV] END Model__activation=identity, Model__alpha=10, Model__hidden_layer_sizes=(30, 40, 50), Model__learning_rate=adaptive, Model__solver=adam; total time=   0.5s\n",
      "[CV] END Model__activation=identity, Model__alpha=10, Model__hidden_layer_sizes=(30, 40, 50), Model__learning_rate=adaptive, Model__solver=adam; total time=   0.5s\n",
      "[CV] END Model__activation=identity, Model__alpha=10, Model__hidden_layer_sizes=(30, 40, 50), Model__learning_rate=adaptive, Model__solver=adam; total time=   0.5s\n",
      "[CV] END Model__activation=logistic, Model__alpha=0.001, Model__hidden_layer_sizes=(50, 20), Model__learning_rate=adaptive, Model__solver=adam; total time=   0.7s\n",
      "[CV] END Model__activation=logistic, Model__alpha=0.001, Model__hidden_layer_sizes=(50, 20), Model__learning_rate=adaptive, Model__solver=adam; total time=   0.8s\n",
      "[CV] END Model__activation=logistic, Model__alpha=0.001, Model__hidden_layer_sizes=(50, 20), Model__learning_rate=adaptive, Model__solver=adam; total time=   0.4s\n",
      "[CV] END Model__activation=logistic, Model__alpha=0.001, Model__hidden_layer_sizes=(50, 20), Model__learning_rate=adaptive, Model__solver=adam; total time=   0.6s\n",
      "[CV] END Model__activation=logistic, Model__alpha=0.001, Model__hidden_layer_sizes=(50, 20), Model__learning_rate=adaptive, Model__solver=adam; total time=   0.7s\n",
      "[CV] END Model__activation=logistic, Model__alpha=0.001, Model__hidden_layer_sizes=(20, 50), Model__learning_rate=adaptive, Model__solver=adam; total time=   0.4s\n",
      "[CV] END Model__activation=logistic, Model__alpha=0.001, Model__hidden_layer_sizes=(20, 50), Model__learning_rate=adaptive, Model__solver=adam; total time=   0.8s\n",
      "[CV] END Model__activation=logistic, Model__alpha=0.001, Model__hidden_layer_sizes=(20, 50), Model__learning_rate=adaptive, Model__solver=adam; total time=   0.4s\n",
      "[CV] END Model__activation=logistic, Model__alpha=0.001, Model__hidden_layer_sizes=(20, 50), Model__learning_rate=adaptive, Model__solver=adam; total time=   0.6s\n",
      "[CV] END Model__activation=logistic, Model__alpha=0.001, Model__hidden_layer_sizes=(20, 50), Model__learning_rate=adaptive, Model__solver=adam; total time=   0.6s\n",
      "[CV] END Model__activation=logistic, Model__alpha=0.001, Model__hidden_layer_sizes=(100, 40), Model__learning_rate=adaptive, Model__solver=adam; total time=   0.8s\n",
      "[CV] END Model__activation=logistic, Model__alpha=0.001, Model__hidden_layer_sizes=(100, 40), Model__learning_rate=adaptive, Model__solver=adam; total time=   1.5s\n",
      "[CV] END Model__activation=logistic, Model__alpha=0.001, Model__hidden_layer_sizes=(100, 40), Model__learning_rate=adaptive, Model__solver=adam; total time=   1.8s\n",
      "[CV] END Model__activation=logistic, Model__alpha=0.001, Model__hidden_layer_sizes=(100, 40), Model__learning_rate=adaptive, Model__solver=adam; total time=   0.7s\n",
      "[CV] END Model__activation=logistic, Model__alpha=0.001, Model__hidden_layer_sizes=(100, 40), Model__learning_rate=adaptive, Model__solver=adam; total time=   0.9s\n",
      "[CV] END Model__activation=logistic, Model__alpha=0.001, Model__hidden_layer_sizes=(30, 40, 50), Model__learning_rate=adaptive, Model__solver=adam; total time=   0.9s\n",
      "[CV] END Model__activation=logistic, Model__alpha=0.001, Model__hidden_layer_sizes=(30, 40, 50), Model__learning_rate=adaptive, Model__solver=adam; total time=   1.2s\n",
      "[CV] END Model__activation=logistic, Model__alpha=0.001, Model__hidden_layer_sizes=(30, 40, 50), Model__learning_rate=adaptive, Model__solver=adam; total time=   0.9s\n",
      "[CV] END Model__activation=logistic, Model__alpha=0.001, Model__hidden_layer_sizes=(30, 40, 50), Model__learning_rate=adaptive, Model__solver=adam; total time=   0.9s\n",
      "[CV] END Model__activation=logistic, Model__alpha=0.001, Model__hidden_layer_sizes=(30, 40, 50), Model__learning_rate=adaptive, Model__solver=adam; total time=   0.7s\n",
      "[CV] END Model__activation=logistic, Model__alpha=0.01, Model__hidden_layer_sizes=(50, 20), Model__learning_rate=adaptive, Model__solver=adam; total time=   0.6s\n",
      "[CV] END Model__activation=logistic, Model__alpha=0.01, Model__hidden_layer_sizes=(50, 20), Model__learning_rate=adaptive, Model__solver=adam; total time=   0.7s\n",
      "[CV] END Model__activation=logistic, Model__alpha=0.01, Model__hidden_layer_sizes=(50, 20), Model__learning_rate=adaptive, Model__solver=adam; total time=   0.5s\n",
      "[CV] END Model__activation=logistic, Model__alpha=0.01, Model__hidden_layer_sizes=(50, 20), Model__learning_rate=adaptive, Model__solver=adam; total time=   0.4s\n",
      "[CV] END Model__activation=logistic, Model__alpha=0.01, Model__hidden_layer_sizes=(50, 20), Model__learning_rate=adaptive, Model__solver=adam; total time=   0.4s\n",
      "[CV] END Model__activation=logistic, Model__alpha=0.01, Model__hidden_layer_sizes=(20, 50), Model__learning_rate=adaptive, Model__solver=adam; total time=   0.4s\n",
      "[CV] END Model__activation=logistic, Model__alpha=0.01, Model__hidden_layer_sizes=(20, 50), Model__learning_rate=adaptive, Model__solver=adam; total time=   0.7s\n",
      "[CV] END Model__activation=logistic, Model__alpha=0.01, Model__hidden_layer_sizes=(20, 50), Model__learning_rate=adaptive, Model__solver=adam; total time=   0.4s\n",
      "[CV] END Model__activation=logistic, Model__alpha=0.01, Model__hidden_layer_sizes=(20, 50), Model__learning_rate=adaptive, Model__solver=adam; total time=   0.3s\n",
      "[CV] END Model__activation=logistic, Model__alpha=0.01, Model__hidden_layer_sizes=(20, 50), Model__learning_rate=adaptive, Model__solver=adam; total time=   0.5s\n",
      "[CV] END Model__activation=logistic, Model__alpha=0.01, Model__hidden_layer_sizes=(100, 40), Model__learning_rate=adaptive, Model__solver=adam; total time=   0.4s\n",
      "[CV] END Model__activation=logistic, Model__alpha=0.01, Model__hidden_layer_sizes=(100, 40), Model__learning_rate=adaptive, Model__solver=adam; total time=   0.7s\n",
      "[CV] END Model__activation=logistic, Model__alpha=0.01, Model__hidden_layer_sizes=(100, 40), Model__learning_rate=adaptive, Model__solver=adam; total time=   0.4s\n",
      "[CV] END Model__activation=logistic, Model__alpha=0.01, Model__hidden_layer_sizes=(100, 40), Model__learning_rate=adaptive, Model__solver=adam; total time=   0.9s\n",
      "[CV] END Model__activation=logistic, Model__alpha=0.01, Model__hidden_layer_sizes=(100, 40), Model__learning_rate=adaptive, Model__solver=adam; total time=   0.7s\n",
      "[CV] END Model__activation=logistic, Model__alpha=0.01, Model__hidden_layer_sizes=(30, 40, 50), Model__learning_rate=adaptive, Model__solver=adam; total time=   0.8s\n"
     ]
    },
    {
     "name": "stderr",
     "output_type": "stream",
     "text": [
      "/usr/local/lib/python3.9/site-packages/sklearn/neural_network/_multilayer_perceptron.py:692: ConvergenceWarning: Stochastic Optimizer: Maximum iterations (500) reached and the optimization hasn't converged yet.\n",
      "  warnings.warn(\n"
     ]
    },
    {
     "name": "stdout",
     "output_type": "stream",
     "text": [
      "[CV] END Model__activation=logistic, Model__alpha=0.01, Model__hidden_layer_sizes=(30, 40, 50), Model__learning_rate=adaptive, Model__solver=adam; total time=   1.4s\n",
      "[CV] END Model__activation=logistic, Model__alpha=0.01, Model__hidden_layer_sizes=(30, 40, 50), Model__learning_rate=adaptive, Model__solver=adam; total time=   0.6s\n",
      "[CV] END Model__activation=logistic, Model__alpha=0.01, Model__hidden_layer_sizes=(30, 40, 50), Model__learning_rate=adaptive, Model__solver=adam; total time=   0.9s\n",
      "[CV] END Model__activation=logistic, Model__alpha=0.01, Model__hidden_layer_sizes=(30, 40, 50), Model__learning_rate=adaptive, Model__solver=adam; total time=   0.6s\n",
      "[CV] END Model__activation=logistic, Model__alpha=1, Model__hidden_layer_sizes=(50, 20), Model__learning_rate=adaptive, Model__solver=adam; total time=   0.6s\n",
      "[CV] END Model__activation=logistic, Model__alpha=1, Model__hidden_layer_sizes=(50, 20), Model__learning_rate=adaptive, Model__solver=adam; total time=   0.5s\n",
      "[CV] END Model__activation=logistic, Model__alpha=1, Model__hidden_layer_sizes=(50, 20), Model__learning_rate=adaptive, Model__solver=adam; total time=   0.5s\n",
      "[CV] END Model__activation=logistic, Model__alpha=1, Model__hidden_layer_sizes=(50, 20), Model__learning_rate=adaptive, Model__solver=adam; total time=   0.6s\n",
      "[CV] END Model__activation=logistic, Model__alpha=1, Model__hidden_layer_sizes=(50, 20), Model__learning_rate=adaptive, Model__solver=adam; total time=   0.4s\n",
      "[CV] END Model__activation=logistic, Model__alpha=1, Model__hidden_layer_sizes=(20, 50), Model__learning_rate=adaptive, Model__solver=adam; total time=   0.6s\n",
      "[CV] END Model__activation=logistic, Model__alpha=1, Model__hidden_layer_sizes=(20, 50), Model__learning_rate=adaptive, Model__solver=adam; total time=   0.7s\n",
      "[CV] END Model__activation=logistic, Model__alpha=1, Model__hidden_layer_sizes=(20, 50), Model__learning_rate=adaptive, Model__solver=adam; total time=   0.5s\n",
      "[CV] END Model__activation=logistic, Model__alpha=1, Model__hidden_layer_sizes=(20, 50), Model__learning_rate=adaptive, Model__solver=adam; total time=   0.5s\n",
      "[CV] END Model__activation=logistic, Model__alpha=1, Model__hidden_layer_sizes=(20, 50), Model__learning_rate=adaptive, Model__solver=adam; total time=   1.0s\n",
      "[CV] END Model__activation=logistic, Model__alpha=1, Model__hidden_layer_sizes=(100, 40), Model__learning_rate=adaptive, Model__solver=adam; total time=   0.7s\n",
      "[CV] END Model__activation=logistic, Model__alpha=1, Model__hidden_layer_sizes=(100, 40), Model__learning_rate=adaptive, Model__solver=adam; total time=   0.7s\n",
      "[CV] END Model__activation=logistic, Model__alpha=1, Model__hidden_layer_sizes=(100, 40), Model__learning_rate=adaptive, Model__solver=adam; total time=   0.7s\n",
      "[CV] END Model__activation=logistic, Model__alpha=1, Model__hidden_layer_sizes=(100, 40), Model__learning_rate=adaptive, Model__solver=adam; total time=   0.9s\n",
      "[CV] END Model__activation=logistic, Model__alpha=1, Model__hidden_layer_sizes=(100, 40), Model__learning_rate=adaptive, Model__solver=adam; total time=   0.9s\n",
      "[CV] END Model__activation=logistic, Model__alpha=1, Model__hidden_layer_sizes=(30, 40, 50), Model__learning_rate=adaptive, Model__solver=adam; total time=   0.3s\n",
      "[CV] END Model__activation=logistic, Model__alpha=1, Model__hidden_layer_sizes=(30, 40, 50), Model__learning_rate=adaptive, Model__solver=adam; total time=   0.4s\n",
      "[CV] END Model__activation=logistic, Model__alpha=1, Model__hidden_layer_sizes=(30, 40, 50), Model__learning_rate=adaptive, Model__solver=adam; total time=   0.3s\n",
      "[CV] END Model__activation=logistic, Model__alpha=1, Model__hidden_layer_sizes=(30, 40, 50), Model__learning_rate=adaptive, Model__solver=adam; total time=   0.3s\n",
      "[CV] END Model__activation=logistic, Model__alpha=1, Model__hidden_layer_sizes=(30, 40, 50), Model__learning_rate=adaptive, Model__solver=adam; total time=   0.3s\n",
      "[CV] END Model__activation=logistic, Model__alpha=10, Model__hidden_layer_sizes=(50, 20), Model__learning_rate=adaptive, Model__solver=adam; total time=   0.3s\n",
      "[CV] END Model__activation=logistic, Model__alpha=10, Model__hidden_layer_sizes=(50, 20), Model__learning_rate=adaptive, Model__solver=adam; total time=   0.3s\n",
      "[CV] END Model__activation=logistic, Model__alpha=10, Model__hidden_layer_sizes=(50, 20), Model__learning_rate=adaptive, Model__solver=adam; total time=   0.2s\n",
      "[CV] END Model__activation=logistic, Model__alpha=10, Model__hidden_layer_sizes=(50, 20), Model__learning_rate=adaptive, Model__solver=adam; total time=   0.2s\n",
      "[CV] END Model__activation=logistic, Model__alpha=10, Model__hidden_layer_sizes=(50, 20), Model__learning_rate=adaptive, Model__solver=adam; total time=   0.2s\n",
      "[CV] END Model__activation=logistic, Model__alpha=10, Model__hidden_layer_sizes=(20, 50), Model__learning_rate=adaptive, Model__solver=adam; total time=   0.3s\n",
      "[CV] END Model__activation=logistic, Model__alpha=10, Model__hidden_layer_sizes=(20, 50), Model__learning_rate=adaptive, Model__solver=adam; total time=   0.3s\n",
      "[CV] END Model__activation=logistic, Model__alpha=10, Model__hidden_layer_sizes=(20, 50), Model__learning_rate=adaptive, Model__solver=adam; total time=   0.2s\n",
      "[CV] END Model__activation=logistic, Model__alpha=10, Model__hidden_layer_sizes=(20, 50), Model__learning_rate=adaptive, Model__solver=adam; total time=   0.3s\n",
      "[CV] END Model__activation=logistic, Model__alpha=10, Model__hidden_layer_sizes=(20, 50), Model__learning_rate=adaptive, Model__solver=adam; total time=   0.3s\n",
      "[CV] END Model__activation=logistic, Model__alpha=10, Model__hidden_layer_sizes=(100, 40), Model__learning_rate=adaptive, Model__solver=adam; total time=   0.4s\n",
      "[CV] END Model__activation=logistic, Model__alpha=10, Model__hidden_layer_sizes=(100, 40), Model__learning_rate=adaptive, Model__solver=adam; total time=   0.4s\n",
      "[CV] END Model__activation=logistic, Model__alpha=10, Model__hidden_layer_sizes=(100, 40), Model__learning_rate=adaptive, Model__solver=adam; total time=   0.3s\n",
      "[CV] END Model__activation=logistic, Model__alpha=10, Model__hidden_layer_sizes=(100, 40), Model__learning_rate=adaptive, Model__solver=adam; total time=   0.4s\n",
      "[CV] END Model__activation=logistic, Model__alpha=10, Model__hidden_layer_sizes=(100, 40), Model__learning_rate=adaptive, Model__solver=adam; total time=   0.3s\n",
      "[CV] END Model__activation=logistic, Model__alpha=10, Model__hidden_layer_sizes=(30, 40, 50), Model__learning_rate=adaptive, Model__solver=adam; total time=   0.4s\n",
      "[CV] END Model__activation=logistic, Model__alpha=10, Model__hidden_layer_sizes=(30, 40, 50), Model__learning_rate=adaptive, Model__solver=adam; total time=   0.4s\n",
      "[CV] END Model__activation=logistic, Model__alpha=10, Model__hidden_layer_sizes=(30, 40, 50), Model__learning_rate=adaptive, Model__solver=adam; total time=   0.5s\n",
      "[CV] END Model__activation=logistic, Model__alpha=10, Model__hidden_layer_sizes=(30, 40, 50), Model__learning_rate=adaptive, Model__solver=adam; total time=   0.4s\n",
      "[CV] END Model__activation=logistic, Model__alpha=10, Model__hidden_layer_sizes=(30, 40, 50), Model__learning_rate=adaptive, Model__solver=adam; total time=   0.4s\n"
     ]
    },
    {
     "name": "stderr",
     "output_type": "stream",
     "text": [
      "/usr/local/lib/python3.9/site-packages/sklearn/neural_network/_multilayer_perceptron.py:692: ConvergenceWarning: Stochastic Optimizer: Maximum iterations (500) reached and the optimization hasn't converged yet.\n",
      "  warnings.warn(\n"
     ]
    },
    {
     "name": "stdout",
     "output_type": "stream",
     "text": [
      "[CV] END Model__activation=tanh, Model__alpha=0.001, Model__hidden_layer_sizes=(50, 20), Model__learning_rate=adaptive, Model__solver=adam; total time=   1.6s\n"
     ]
    },
    {
     "name": "stderr",
     "output_type": "stream",
     "text": [
      "/usr/local/lib/python3.9/site-packages/sklearn/neural_network/_multilayer_perceptron.py:692: ConvergenceWarning: Stochastic Optimizer: Maximum iterations (500) reached and the optimization hasn't converged yet.\n",
      "  warnings.warn(\n"
     ]
    },
    {
     "name": "stdout",
     "output_type": "stream",
     "text": [
      "[CV] END Model__activation=tanh, Model__alpha=0.001, Model__hidden_layer_sizes=(50, 20), Model__learning_rate=adaptive, Model__solver=adam; total time=   1.5s\n"
     ]
    },
    {
     "name": "stderr",
     "output_type": "stream",
     "text": [
      "/usr/local/lib/python3.9/site-packages/sklearn/neural_network/_multilayer_perceptron.py:692: ConvergenceWarning: Stochastic Optimizer: Maximum iterations (500) reached and the optimization hasn't converged yet.\n",
      "  warnings.warn(\n"
     ]
    },
    {
     "name": "stdout",
     "output_type": "stream",
     "text": [
      "[CV] END Model__activation=tanh, Model__alpha=0.001, Model__hidden_layer_sizes=(50, 20), Model__learning_rate=adaptive, Model__solver=adam; total time=   1.5s\n"
     ]
    },
    {
     "name": "stderr",
     "output_type": "stream",
     "text": [
      "/usr/local/lib/python3.9/site-packages/sklearn/neural_network/_multilayer_perceptron.py:692: ConvergenceWarning: Stochastic Optimizer: Maximum iterations (500) reached and the optimization hasn't converged yet.\n",
      "  warnings.warn(\n"
     ]
    },
    {
     "name": "stdout",
     "output_type": "stream",
     "text": [
      "[CV] END Model__activation=tanh, Model__alpha=0.001, Model__hidden_layer_sizes=(50, 20), Model__learning_rate=adaptive, Model__solver=adam; total time=   1.5s\n"
     ]
    },
    {
     "name": "stderr",
     "output_type": "stream",
     "text": [
      "/usr/local/lib/python3.9/site-packages/sklearn/neural_network/_multilayer_perceptron.py:692: ConvergenceWarning: Stochastic Optimizer: Maximum iterations (500) reached and the optimization hasn't converged yet.\n",
      "  warnings.warn(\n"
     ]
    },
    {
     "name": "stdout",
     "output_type": "stream",
     "text": [
      "[CV] END Model__activation=tanh, Model__alpha=0.001, Model__hidden_layer_sizes=(50, 20), Model__learning_rate=adaptive, Model__solver=adam; total time=   1.5s\n"
     ]
    },
    {
     "name": "stderr",
     "output_type": "stream",
     "text": [
      "/usr/local/lib/python3.9/site-packages/sklearn/neural_network/_multilayer_perceptron.py:692: ConvergenceWarning: Stochastic Optimizer: Maximum iterations (500) reached and the optimization hasn't converged yet.\n",
      "  warnings.warn(\n"
     ]
    },
    {
     "name": "stdout",
     "output_type": "stream",
     "text": [
      "[CV] END Model__activation=tanh, Model__alpha=0.001, Model__hidden_layer_sizes=(20, 50), Model__learning_rate=adaptive, Model__solver=adam; total time=   1.6s\n"
     ]
    },
    {
     "name": "stderr",
     "output_type": "stream",
     "text": [
      "/usr/local/lib/python3.9/site-packages/sklearn/neural_network/_multilayer_perceptron.py:692: ConvergenceWarning: Stochastic Optimizer: Maximum iterations (500) reached and the optimization hasn't converged yet.\n",
      "  warnings.warn(\n"
     ]
    },
    {
     "name": "stdout",
     "output_type": "stream",
     "text": [
      "[CV] END Model__activation=tanh, Model__alpha=0.001, Model__hidden_layer_sizes=(20, 50), Model__learning_rate=adaptive, Model__solver=adam; total time=   1.5s\n"
     ]
    },
    {
     "name": "stderr",
     "output_type": "stream",
     "text": [
      "/usr/local/lib/python3.9/site-packages/sklearn/neural_network/_multilayer_perceptron.py:692: ConvergenceWarning: Stochastic Optimizer: Maximum iterations (500) reached and the optimization hasn't converged yet.\n",
      "  warnings.warn(\n"
     ]
    },
    {
     "name": "stdout",
     "output_type": "stream",
     "text": [
      "[CV] END Model__activation=tanh, Model__alpha=0.001, Model__hidden_layer_sizes=(20, 50), Model__learning_rate=adaptive, Model__solver=adam; total time=   1.6s\n"
     ]
    },
    {
     "name": "stderr",
     "output_type": "stream",
     "text": [
      "/usr/local/lib/python3.9/site-packages/sklearn/neural_network/_multilayer_perceptron.py:692: ConvergenceWarning: Stochastic Optimizer: Maximum iterations (500) reached and the optimization hasn't converged yet.\n",
      "  warnings.warn(\n"
     ]
    },
    {
     "name": "stdout",
     "output_type": "stream",
     "text": [
      "[CV] END Model__activation=tanh, Model__alpha=0.001, Model__hidden_layer_sizes=(20, 50), Model__learning_rate=adaptive, Model__solver=adam; total time=   1.6s\n"
     ]
    },
    {
     "name": "stderr",
     "output_type": "stream",
     "text": [
      "/usr/local/lib/python3.9/site-packages/sklearn/neural_network/_multilayer_perceptron.py:692: ConvergenceWarning: Stochastic Optimizer: Maximum iterations (500) reached and the optimization hasn't converged yet.\n",
      "  warnings.warn(\n"
     ]
    },
    {
     "name": "stdout",
     "output_type": "stream",
     "text": [
      "[CV] END Model__activation=tanh, Model__alpha=0.001, Model__hidden_layer_sizes=(20, 50), Model__learning_rate=adaptive, Model__solver=adam; total time=   1.6s\n"
     ]
    },
    {
     "name": "stderr",
     "output_type": "stream",
     "text": [
      "/usr/local/lib/python3.9/site-packages/sklearn/neural_network/_multilayer_perceptron.py:692: ConvergenceWarning: Stochastic Optimizer: Maximum iterations (500) reached and the optimization hasn't converged yet.\n",
      "  warnings.warn(\n"
     ]
    },
    {
     "name": "stdout",
     "output_type": "stream",
     "text": [
      "[CV] END Model__activation=tanh, Model__alpha=0.001, Model__hidden_layer_sizes=(100, 40), Model__learning_rate=adaptive, Model__solver=adam; total time=   2.8s\n"
     ]
    },
    {
     "name": "stderr",
     "output_type": "stream",
     "text": [
      "/usr/local/lib/python3.9/site-packages/sklearn/neural_network/_multilayer_perceptron.py:692: ConvergenceWarning: Stochastic Optimizer: Maximum iterations (500) reached and the optimization hasn't converged yet.\n",
      "  warnings.warn(\n"
     ]
    },
    {
     "name": "stdout",
     "output_type": "stream",
     "text": [
      "[CV] END Model__activation=tanh, Model__alpha=0.001, Model__hidden_layer_sizes=(100, 40), Model__learning_rate=adaptive, Model__solver=adam; total time=   2.9s\n"
     ]
    },
    {
     "name": "stderr",
     "output_type": "stream",
     "text": [
      "/usr/local/lib/python3.9/site-packages/sklearn/neural_network/_multilayer_perceptron.py:692: ConvergenceWarning: Stochastic Optimizer: Maximum iterations (500) reached and the optimization hasn't converged yet.\n",
      "  warnings.warn(\n"
     ]
    },
    {
     "name": "stdout",
     "output_type": "stream",
     "text": [
      "[CV] END Model__activation=tanh, Model__alpha=0.001, Model__hidden_layer_sizes=(100, 40), Model__learning_rate=adaptive, Model__solver=adam; total time=   2.8s\n"
     ]
    },
    {
     "name": "stderr",
     "output_type": "stream",
     "text": [
      "/usr/local/lib/python3.9/site-packages/sklearn/neural_network/_multilayer_perceptron.py:692: ConvergenceWarning: Stochastic Optimizer: Maximum iterations (500) reached and the optimization hasn't converged yet.\n",
      "  warnings.warn(\n"
     ]
    },
    {
     "name": "stdout",
     "output_type": "stream",
     "text": [
      "[CV] END Model__activation=tanh, Model__alpha=0.001, Model__hidden_layer_sizes=(100, 40), Model__learning_rate=adaptive, Model__solver=adam; total time=   3.0s\n"
     ]
    },
    {
     "name": "stderr",
     "output_type": "stream",
     "text": [
      "/usr/local/lib/python3.9/site-packages/sklearn/neural_network/_multilayer_perceptron.py:692: ConvergenceWarning: Stochastic Optimizer: Maximum iterations (500) reached and the optimization hasn't converged yet.\n",
      "  warnings.warn(\n"
     ]
    },
    {
     "name": "stdout",
     "output_type": "stream",
     "text": [
      "[CV] END Model__activation=tanh, Model__alpha=0.001, Model__hidden_layer_sizes=(100, 40), Model__learning_rate=adaptive, Model__solver=adam; total time=   3.6s\n"
     ]
    },
    {
     "name": "stderr",
     "output_type": "stream",
     "text": [
      "/usr/local/lib/python3.9/site-packages/sklearn/neural_network/_multilayer_perceptron.py:692: ConvergenceWarning: Stochastic Optimizer: Maximum iterations (500) reached and the optimization hasn't converged yet.\n",
      "  warnings.warn(\n"
     ]
    },
    {
     "name": "stdout",
     "output_type": "stream",
     "text": [
      "[CV] END Model__activation=tanh, Model__alpha=0.001, Model__hidden_layer_sizes=(30, 40, 50), Model__learning_rate=adaptive, Model__solver=adam; total time=   2.7s\n"
     ]
    },
    {
     "name": "stderr",
     "output_type": "stream",
     "text": [
      "/usr/local/lib/python3.9/site-packages/sklearn/neural_network/_multilayer_perceptron.py:692: ConvergenceWarning: Stochastic Optimizer: Maximum iterations (500) reached and the optimization hasn't converged yet.\n",
      "  warnings.warn(\n"
     ]
    },
    {
     "name": "stdout",
     "output_type": "stream",
     "text": [
      "[CV] END Model__activation=tanh, Model__alpha=0.001, Model__hidden_layer_sizes=(30, 40, 50), Model__learning_rate=adaptive, Model__solver=adam; total time=   2.6s\n",
      "[CV] END Model__activation=tanh, Model__alpha=0.001, Model__hidden_layer_sizes=(30, 40, 50), Model__learning_rate=adaptive, Model__solver=adam; total time=   2.6s\n",
      "[CV] END Model__activation=tanh, Model__alpha=0.001, Model__hidden_layer_sizes=(30, 40, 50), Model__learning_rate=adaptive, Model__solver=adam; total time=   1.7s\n"
     ]
    },
    {
     "name": "stderr",
     "output_type": "stream",
     "text": [
      "/usr/local/lib/python3.9/site-packages/sklearn/neural_network/_multilayer_perceptron.py:692: ConvergenceWarning: Stochastic Optimizer: Maximum iterations (500) reached and the optimization hasn't converged yet.\n",
      "  warnings.warn(\n"
     ]
    },
    {
     "name": "stdout",
     "output_type": "stream",
     "text": [
      "[CV] END Model__activation=tanh, Model__alpha=0.001, Model__hidden_layer_sizes=(30, 40, 50), Model__learning_rate=adaptive, Model__solver=adam; total time=   2.7s\n"
     ]
    },
    {
     "name": "stderr",
     "output_type": "stream",
     "text": [
      "/usr/local/lib/python3.9/site-packages/sklearn/neural_network/_multilayer_perceptron.py:692: ConvergenceWarning: Stochastic Optimizer: Maximum iterations (500) reached and the optimization hasn't converged yet.\n",
      "  warnings.warn(\n"
     ]
    },
    {
     "name": "stdout",
     "output_type": "stream",
     "text": [
      "[CV] END Model__activation=tanh, Model__alpha=0.01, Model__hidden_layer_sizes=(50, 20), Model__learning_rate=adaptive, Model__solver=adam; total time=   1.6s\n"
     ]
    },
    {
     "name": "stderr",
     "output_type": "stream",
     "text": [
      "/usr/local/lib/python3.9/site-packages/sklearn/neural_network/_multilayer_perceptron.py:692: ConvergenceWarning: Stochastic Optimizer: Maximum iterations (500) reached and the optimization hasn't converged yet.\n",
      "  warnings.warn(\n"
     ]
    },
    {
     "name": "stdout",
     "output_type": "stream",
     "text": [
      "[CV] END Model__activation=tanh, Model__alpha=0.01, Model__hidden_layer_sizes=(50, 20), Model__learning_rate=adaptive, Model__solver=adam; total time=   1.5s\n"
     ]
    },
    {
     "name": "stderr",
     "output_type": "stream",
     "text": [
      "/usr/local/lib/python3.9/site-packages/sklearn/neural_network/_multilayer_perceptron.py:692: ConvergenceWarning: Stochastic Optimizer: Maximum iterations (500) reached and the optimization hasn't converged yet.\n",
      "  warnings.warn(\n"
     ]
    },
    {
     "name": "stdout",
     "output_type": "stream",
     "text": [
      "[CV] END Model__activation=tanh, Model__alpha=0.01, Model__hidden_layer_sizes=(50, 20), Model__learning_rate=adaptive, Model__solver=adam; total time=   1.5s\n"
     ]
    },
    {
     "name": "stderr",
     "output_type": "stream",
     "text": [
      "/usr/local/lib/python3.9/site-packages/sklearn/neural_network/_multilayer_perceptron.py:692: ConvergenceWarning: Stochastic Optimizer: Maximum iterations (500) reached and the optimization hasn't converged yet.\n",
      "  warnings.warn(\n"
     ]
    },
    {
     "name": "stdout",
     "output_type": "stream",
     "text": [
      "[CV] END Model__activation=tanh, Model__alpha=0.01, Model__hidden_layer_sizes=(50, 20), Model__learning_rate=adaptive, Model__solver=adam; total time=   1.5s\n"
     ]
    },
    {
     "name": "stderr",
     "output_type": "stream",
     "text": [
      "/usr/local/lib/python3.9/site-packages/sklearn/neural_network/_multilayer_perceptron.py:692: ConvergenceWarning: Stochastic Optimizer: Maximum iterations (500) reached and the optimization hasn't converged yet.\n",
      "  warnings.warn(\n"
     ]
    },
    {
     "name": "stdout",
     "output_type": "stream",
     "text": [
      "[CV] END Model__activation=tanh, Model__alpha=0.01, Model__hidden_layer_sizes=(50, 20), Model__learning_rate=adaptive, Model__solver=adam; total time=   1.5s\n"
     ]
    },
    {
     "name": "stderr",
     "output_type": "stream",
     "text": [
      "/usr/local/lib/python3.9/site-packages/sklearn/neural_network/_multilayer_perceptron.py:692: ConvergenceWarning: Stochastic Optimizer: Maximum iterations (500) reached and the optimization hasn't converged yet.\n",
      "  warnings.warn(\n"
     ]
    },
    {
     "name": "stdout",
     "output_type": "stream",
     "text": [
      "[CV] END Model__activation=tanh, Model__alpha=0.01, Model__hidden_layer_sizes=(20, 50), Model__learning_rate=adaptive, Model__solver=adam; total time=   1.6s\n"
     ]
    },
    {
     "name": "stderr",
     "output_type": "stream",
     "text": [
      "/usr/local/lib/python3.9/site-packages/sklearn/neural_network/_multilayer_perceptron.py:692: ConvergenceWarning: Stochastic Optimizer: Maximum iterations (500) reached and the optimization hasn't converged yet.\n",
      "  warnings.warn(\n"
     ]
    },
    {
     "name": "stdout",
     "output_type": "stream",
     "text": [
      "[CV] END Model__activation=tanh, Model__alpha=0.01, Model__hidden_layer_sizes=(20, 50), Model__learning_rate=adaptive, Model__solver=adam; total time=   1.6s\n"
     ]
    },
    {
     "name": "stderr",
     "output_type": "stream",
     "text": [
      "/usr/local/lib/python3.9/site-packages/sklearn/neural_network/_multilayer_perceptron.py:692: ConvergenceWarning: Stochastic Optimizer: Maximum iterations (500) reached and the optimization hasn't converged yet.\n",
      "  warnings.warn(\n"
     ]
    },
    {
     "name": "stdout",
     "output_type": "stream",
     "text": [
      "[CV] END Model__activation=tanh, Model__alpha=0.01, Model__hidden_layer_sizes=(20, 50), Model__learning_rate=adaptive, Model__solver=adam; total time=   1.6s\n"
     ]
    },
    {
     "name": "stderr",
     "output_type": "stream",
     "text": [
      "/usr/local/lib/python3.9/site-packages/sklearn/neural_network/_multilayer_perceptron.py:692: ConvergenceWarning: Stochastic Optimizer: Maximum iterations (500) reached and the optimization hasn't converged yet.\n",
      "  warnings.warn(\n"
     ]
    },
    {
     "name": "stdout",
     "output_type": "stream",
     "text": [
      "[CV] END Model__activation=tanh, Model__alpha=0.01, Model__hidden_layer_sizes=(20, 50), Model__learning_rate=adaptive, Model__solver=adam; total time=   1.6s\n"
     ]
    },
    {
     "name": "stderr",
     "output_type": "stream",
     "text": [
      "/usr/local/lib/python3.9/site-packages/sklearn/neural_network/_multilayer_perceptron.py:692: ConvergenceWarning: Stochastic Optimizer: Maximum iterations (500) reached and the optimization hasn't converged yet.\n",
      "  warnings.warn(\n"
     ]
    },
    {
     "name": "stdout",
     "output_type": "stream",
     "text": [
      "[CV] END Model__activation=tanh, Model__alpha=0.01, Model__hidden_layer_sizes=(20, 50), Model__learning_rate=adaptive, Model__solver=adam; total time=   1.6s\n"
     ]
    },
    {
     "name": "stderr",
     "output_type": "stream",
     "text": [
      "/usr/local/lib/python3.9/site-packages/sklearn/neural_network/_multilayer_perceptron.py:692: ConvergenceWarning: Stochastic Optimizer: Maximum iterations (500) reached and the optimization hasn't converged yet.\n",
      "  warnings.warn(\n"
     ]
    },
    {
     "name": "stdout",
     "output_type": "stream",
     "text": [
      "[CV] END Model__activation=tanh, Model__alpha=0.01, Model__hidden_layer_sizes=(100, 40), Model__learning_rate=adaptive, Model__solver=adam; total time=   2.9s\n"
     ]
    },
    {
     "name": "stderr",
     "output_type": "stream",
     "text": [
      "/usr/local/lib/python3.9/site-packages/sklearn/neural_network/_multilayer_perceptron.py:692: ConvergenceWarning: Stochastic Optimizer: Maximum iterations (500) reached and the optimization hasn't converged yet.\n",
      "  warnings.warn(\n"
     ]
    },
    {
     "name": "stdout",
     "output_type": "stream",
     "text": [
      "[CV] END Model__activation=tanh, Model__alpha=0.01, Model__hidden_layer_sizes=(100, 40), Model__learning_rate=adaptive, Model__solver=adam; total time=   2.8s\n"
     ]
    },
    {
     "name": "stderr",
     "output_type": "stream",
     "text": [
      "/usr/local/lib/python3.9/site-packages/sklearn/neural_network/_multilayer_perceptron.py:692: ConvergenceWarning: Stochastic Optimizer: Maximum iterations (500) reached and the optimization hasn't converged yet.\n",
      "  warnings.warn(\n"
     ]
    },
    {
     "name": "stdout",
     "output_type": "stream",
     "text": [
      "[CV] END Model__activation=tanh, Model__alpha=0.01, Model__hidden_layer_sizes=(100, 40), Model__learning_rate=adaptive, Model__solver=adam; total time=   2.8s\n"
     ]
    },
    {
     "name": "stderr",
     "output_type": "stream",
     "text": [
      "/usr/local/lib/python3.9/site-packages/sklearn/neural_network/_multilayer_perceptron.py:692: ConvergenceWarning: Stochastic Optimizer: Maximum iterations (500) reached and the optimization hasn't converged yet.\n",
      "  warnings.warn(\n"
     ]
    },
    {
     "name": "stdout",
     "output_type": "stream",
     "text": [
      "[CV] END Model__activation=tanh, Model__alpha=0.01, Model__hidden_layer_sizes=(100, 40), Model__learning_rate=adaptive, Model__solver=adam; total time=   2.8s\n"
     ]
    },
    {
     "name": "stderr",
     "output_type": "stream",
     "text": [
      "/usr/local/lib/python3.9/site-packages/sklearn/neural_network/_multilayer_perceptron.py:692: ConvergenceWarning: Stochastic Optimizer: Maximum iterations (500) reached and the optimization hasn't converged yet.\n",
      "  warnings.warn(\n"
     ]
    },
    {
     "name": "stdout",
     "output_type": "stream",
     "text": [
      "[CV] END Model__activation=tanh, Model__alpha=0.01, Model__hidden_layer_sizes=(100, 40), Model__learning_rate=adaptive, Model__solver=adam; total time=   2.8s\n"
     ]
    },
    {
     "name": "stderr",
     "output_type": "stream",
     "text": [
      "/usr/local/lib/python3.9/site-packages/sklearn/neural_network/_multilayer_perceptron.py:692: ConvergenceWarning: Stochastic Optimizer: Maximum iterations (500) reached and the optimization hasn't converged yet.\n",
      "  warnings.warn(\n"
     ]
    },
    {
     "name": "stdout",
     "output_type": "stream",
     "text": [
      "[CV] END Model__activation=tanh, Model__alpha=0.01, Model__hidden_layer_sizes=(30, 40, 50), Model__learning_rate=adaptive, Model__solver=adam; total time=   2.6s\n"
     ]
    },
    {
     "name": "stderr",
     "output_type": "stream",
     "text": [
      "/usr/local/lib/python3.9/site-packages/sklearn/neural_network/_multilayer_perceptron.py:692: ConvergenceWarning: Stochastic Optimizer: Maximum iterations (500) reached and the optimization hasn't converged yet.\n",
      "  warnings.warn(\n"
     ]
    },
    {
     "name": "stdout",
     "output_type": "stream",
     "text": [
      "[CV] END Model__activation=tanh, Model__alpha=0.01, Model__hidden_layer_sizes=(30, 40, 50), Model__learning_rate=adaptive, Model__solver=adam; total time=   2.6s\n"
     ]
    },
    {
     "name": "stderr",
     "output_type": "stream",
     "text": [
      "/usr/local/lib/python3.9/site-packages/sklearn/neural_network/_multilayer_perceptron.py:692: ConvergenceWarning: Stochastic Optimizer: Maximum iterations (500) reached and the optimization hasn't converged yet.\n",
      "  warnings.warn(\n"
     ]
    },
    {
     "name": "stdout",
     "output_type": "stream",
     "text": [
      "[CV] END Model__activation=tanh, Model__alpha=0.01, Model__hidden_layer_sizes=(30, 40, 50), Model__learning_rate=adaptive, Model__solver=adam; total time=   2.7s\n",
      "[CV] END Model__activation=tanh, Model__alpha=0.01, Model__hidden_layer_sizes=(30, 40, 50), Model__learning_rate=adaptive, Model__solver=adam; total time=   2.3s\n"
     ]
    },
    {
     "name": "stderr",
     "output_type": "stream",
     "text": [
      "/usr/local/lib/python3.9/site-packages/sklearn/neural_network/_multilayer_perceptron.py:692: ConvergenceWarning: Stochastic Optimizer: Maximum iterations (500) reached and the optimization hasn't converged yet.\n",
      "  warnings.warn(\n"
     ]
    },
    {
     "name": "stdout",
     "output_type": "stream",
     "text": [
      "[CV] END Model__activation=tanh, Model__alpha=0.01, Model__hidden_layer_sizes=(30, 40, 50), Model__learning_rate=adaptive, Model__solver=adam; total time=   2.7s\n",
      "[CV] END Model__activation=tanh, Model__alpha=1, Model__hidden_layer_sizes=(50, 20), Model__learning_rate=adaptive, Model__solver=adam; total time=   1.5s\n"
     ]
    },
    {
     "name": "stderr",
     "output_type": "stream",
     "text": [
      "/usr/local/lib/python3.9/site-packages/sklearn/neural_network/_multilayer_perceptron.py:692: ConvergenceWarning: Stochastic Optimizer: Maximum iterations (500) reached and the optimization hasn't converged yet.\n",
      "  warnings.warn(\n"
     ]
    },
    {
     "name": "stdout",
     "output_type": "stream",
     "text": [
      "[CV] END Model__activation=tanh, Model__alpha=1, Model__hidden_layer_sizes=(50, 20), Model__learning_rate=adaptive, Model__solver=adam; total time=   1.6s\n",
      "[CV] END Model__activation=tanh, Model__alpha=1, Model__hidden_layer_sizes=(50, 20), Model__learning_rate=adaptive, Model__solver=adam; total time=   1.5s\n",
      "[CV] END Model__activation=tanh, Model__alpha=1, Model__hidden_layer_sizes=(50, 20), Model__learning_rate=adaptive, Model__solver=adam; total time=   1.4s\n"
     ]
    },
    {
     "name": "stderr",
     "output_type": "stream",
     "text": [
      "/usr/local/lib/python3.9/site-packages/sklearn/neural_network/_multilayer_perceptron.py:692: ConvergenceWarning: Stochastic Optimizer: Maximum iterations (500) reached and the optimization hasn't converged yet.\n",
      "  warnings.warn(\n"
     ]
    },
    {
     "name": "stdout",
     "output_type": "stream",
     "text": [
      "[CV] END Model__activation=tanh, Model__alpha=1, Model__hidden_layer_sizes=(50, 20), Model__learning_rate=adaptive, Model__solver=adam; total time=   1.5s\n"
     ]
    },
    {
     "name": "stderr",
     "output_type": "stream",
     "text": [
      "/usr/local/lib/python3.9/site-packages/sklearn/neural_network/_multilayer_perceptron.py:692: ConvergenceWarning: Stochastic Optimizer: Maximum iterations (500) reached and the optimization hasn't converged yet.\n",
      "  warnings.warn(\n"
     ]
    },
    {
     "name": "stdout",
     "output_type": "stream",
     "text": [
      "[CV] END Model__activation=tanh, Model__alpha=1, Model__hidden_layer_sizes=(20, 50), Model__learning_rate=adaptive, Model__solver=adam; total time=   1.6s\n"
     ]
    },
    {
     "name": "stderr",
     "output_type": "stream",
     "text": [
      "/usr/local/lib/python3.9/site-packages/sklearn/neural_network/_multilayer_perceptron.py:692: ConvergenceWarning: Stochastic Optimizer: Maximum iterations (500) reached and the optimization hasn't converged yet.\n",
      "  warnings.warn(\n"
     ]
    },
    {
     "name": "stdout",
     "output_type": "stream",
     "text": [
      "[CV] END Model__activation=tanh, Model__alpha=1, Model__hidden_layer_sizes=(20, 50), Model__learning_rate=adaptive, Model__solver=adam; total time=   1.6s\n"
     ]
    },
    {
     "name": "stderr",
     "output_type": "stream",
     "text": [
      "/usr/local/lib/python3.9/site-packages/sklearn/neural_network/_multilayer_perceptron.py:692: ConvergenceWarning: Stochastic Optimizer: Maximum iterations (500) reached and the optimization hasn't converged yet.\n",
      "  warnings.warn(\n"
     ]
    },
    {
     "name": "stdout",
     "output_type": "stream",
     "text": [
      "[CV] END Model__activation=tanh, Model__alpha=1, Model__hidden_layer_sizes=(20, 50), Model__learning_rate=adaptive, Model__solver=adam; total time=   1.6s\n"
     ]
    },
    {
     "name": "stderr",
     "output_type": "stream",
     "text": [
      "/usr/local/lib/python3.9/site-packages/sklearn/neural_network/_multilayer_perceptron.py:692: ConvergenceWarning: Stochastic Optimizer: Maximum iterations (500) reached and the optimization hasn't converged yet.\n",
      "  warnings.warn(\n"
     ]
    },
    {
     "name": "stdout",
     "output_type": "stream",
     "text": [
      "[CV] END Model__activation=tanh, Model__alpha=1, Model__hidden_layer_sizes=(20, 50), Model__learning_rate=adaptive, Model__solver=adam; total time=   1.6s\n",
      "[CV] END Model__activation=tanh, Model__alpha=1, Model__hidden_layer_sizes=(20, 50), Model__learning_rate=adaptive, Model__solver=adam; total time=   1.5s\n",
      "[CV] END Model__activation=tanh, Model__alpha=1, Model__hidden_layer_sizes=(100, 40), Model__learning_rate=adaptive, Model__solver=adam; total time=   2.2s\n",
      "[CV] END Model__activation=tanh, Model__alpha=1, Model__hidden_layer_sizes=(100, 40), Model__learning_rate=adaptive, Model__solver=adam; total time=   2.2s\n"
     ]
    },
    {
     "name": "stderr",
     "output_type": "stream",
     "text": [
      "/usr/local/lib/python3.9/site-packages/sklearn/neural_network/_multilayer_perceptron.py:692: ConvergenceWarning: Stochastic Optimizer: Maximum iterations (500) reached and the optimization hasn't converged yet.\n",
      "  warnings.warn(\n"
     ]
    },
    {
     "name": "stdout",
     "output_type": "stream",
     "text": [
      "[CV] END Model__activation=tanh, Model__alpha=1, Model__hidden_layer_sizes=(100, 40), Model__learning_rate=adaptive, Model__solver=adam; total time=   2.8s\n",
      "[CV] END Model__activation=tanh, Model__alpha=1, Model__hidden_layer_sizes=(100, 40), Model__learning_rate=adaptive, Model__solver=adam; total time=   2.7s\n",
      "[CV] END Model__activation=tanh, Model__alpha=1, Model__hidden_layer_sizes=(100, 40), Model__learning_rate=adaptive, Model__solver=adam; total time=   2.4s\n"
     ]
    },
    {
     "name": "stderr",
     "output_type": "stream",
     "text": [
      "/usr/local/lib/python3.9/site-packages/sklearn/neural_network/_multilayer_perceptron.py:692: ConvergenceWarning: Stochastic Optimizer: Maximum iterations (500) reached and the optimization hasn't converged yet.\n",
      "  warnings.warn(\n"
     ]
    },
    {
     "name": "stdout",
     "output_type": "stream",
     "text": [
      "[CV] END Model__activation=tanh, Model__alpha=1, Model__hidden_layer_sizes=(30, 40, 50), Model__learning_rate=adaptive, Model__solver=adam; total time=   2.6s\n",
      "[CV] END Model__activation=tanh, Model__alpha=1, Model__hidden_layer_sizes=(30, 40, 50), Model__learning_rate=adaptive, Model__solver=adam; total time=   2.4s\n",
      "[CV] END Model__activation=tanh, Model__alpha=1, Model__hidden_layer_sizes=(30, 40, 50), Model__learning_rate=adaptive, Model__solver=adam; total time=   2.2s\n",
      "[CV] END Model__activation=tanh, Model__alpha=1, Model__hidden_layer_sizes=(30, 40, 50), Model__learning_rate=adaptive, Model__solver=adam; total time=   2.2s\n"
     ]
    },
    {
     "name": "stderr",
     "output_type": "stream",
     "text": [
      "/usr/local/lib/python3.9/site-packages/sklearn/neural_network/_multilayer_perceptron.py:692: ConvergenceWarning: Stochastic Optimizer: Maximum iterations (500) reached and the optimization hasn't converged yet.\n",
      "  warnings.warn(\n"
     ]
    },
    {
     "name": "stdout",
     "output_type": "stream",
     "text": [
      "[CV] END Model__activation=tanh, Model__alpha=1, Model__hidden_layer_sizes=(30, 40, 50), Model__learning_rate=adaptive, Model__solver=adam; total time=   2.7s\n",
      "[CV] END Model__activation=tanh, Model__alpha=10, Model__hidden_layer_sizes=(50, 20), Model__learning_rate=adaptive, Model__solver=adam; total time=   0.8s\n",
      "[CV] END Model__activation=tanh, Model__alpha=10, Model__hidden_layer_sizes=(50, 20), Model__learning_rate=adaptive, Model__solver=adam; total time=   0.7s\n",
      "[CV] END Model__activation=tanh, Model__alpha=10, Model__hidden_layer_sizes=(50, 20), Model__learning_rate=adaptive, Model__solver=adam; total time=   0.7s\n",
      "[CV] END Model__activation=tanh, Model__alpha=10, Model__hidden_layer_sizes=(50, 20), Model__learning_rate=adaptive, Model__solver=adam; total time=   0.6s\n",
      "[CV] END Model__activation=tanh, Model__alpha=10, Model__hidden_layer_sizes=(50, 20), Model__learning_rate=adaptive, Model__solver=adam; total time=   0.7s\n",
      "[CV] END Model__activation=tanh, Model__alpha=10, Model__hidden_layer_sizes=(20, 50), Model__learning_rate=adaptive, Model__solver=adam; total time=   0.8s\n",
      "[CV] END Model__activation=tanh, Model__alpha=10, Model__hidden_layer_sizes=(20, 50), Model__learning_rate=adaptive, Model__solver=adam; total time=   0.8s\n",
      "[CV] END Model__activation=tanh, Model__alpha=10, Model__hidden_layer_sizes=(20, 50), Model__learning_rate=adaptive, Model__solver=adam; total time=   0.8s\n",
      "[CV] END Model__activation=tanh, Model__alpha=10, Model__hidden_layer_sizes=(20, 50), Model__learning_rate=adaptive, Model__solver=adam; total time=   0.8s\n",
      "[CV] END Model__activation=tanh, Model__alpha=10, Model__hidden_layer_sizes=(20, 50), Model__learning_rate=adaptive, Model__solver=adam; total time=   0.8s\n",
      "[CV] END Model__activation=tanh, Model__alpha=10, Model__hidden_layer_sizes=(100, 40), Model__learning_rate=adaptive, Model__solver=adam; total time=   0.9s\n",
      "[CV] END Model__activation=tanh, Model__alpha=10, Model__hidden_layer_sizes=(100, 40), Model__learning_rate=adaptive, Model__solver=adam; total time=   1.0s\n",
      "[CV] END Model__activation=tanh, Model__alpha=10, Model__hidden_layer_sizes=(100, 40), Model__learning_rate=adaptive, Model__solver=adam; total time=   1.0s\n",
      "[CV] END Model__activation=tanh, Model__alpha=10, Model__hidden_layer_sizes=(100, 40), Model__learning_rate=adaptive, Model__solver=adam; total time=   1.0s\n",
      "[CV] END Model__activation=tanh, Model__alpha=10, Model__hidden_layer_sizes=(100, 40), Model__learning_rate=adaptive, Model__solver=adam; total time=   0.9s\n",
      "[CV] END Model__activation=tanh, Model__alpha=10, Model__hidden_layer_sizes=(30, 40, 50), Model__learning_rate=adaptive, Model__solver=adam; total time=   1.3s\n",
      "[CV] END Model__activation=tanh, Model__alpha=10, Model__hidden_layer_sizes=(30, 40, 50), Model__learning_rate=adaptive, Model__solver=adam; total time=   1.3s\n",
      "[CV] END Model__activation=tanh, Model__alpha=10, Model__hidden_layer_sizes=(30, 40, 50), Model__learning_rate=adaptive, Model__solver=adam; total time=   1.3s\n",
      "[CV] END Model__activation=tanh, Model__alpha=10, Model__hidden_layer_sizes=(30, 40, 50), Model__learning_rate=adaptive, Model__solver=adam; total time=   1.4s\n",
      "[CV] END Model__activation=tanh, Model__alpha=10, Model__hidden_layer_sizes=(30, 40, 50), Model__learning_rate=adaptive, Model__solver=adam; total time=   1.2s\n"
     ]
    },
    {
     "name": "stderr",
     "output_type": "stream",
     "text": [
      "/usr/local/lib/python3.9/site-packages/sklearn/neural_network/_multilayer_perceptron.py:692: ConvergenceWarning: Stochastic Optimizer: Maximum iterations (500) reached and the optimization hasn't converged yet.\n",
      "  warnings.warn(\n"
     ]
    },
    {
     "name": "stdout",
     "output_type": "stream",
     "text": [
      "[CV] END Model__activation=relu, Model__alpha=0.001, Model__hidden_layer_sizes=(50, 20), Model__learning_rate=adaptive, Model__solver=adam; total time=   0.9s\n"
     ]
    },
    {
     "name": "stderr",
     "output_type": "stream",
     "text": [
      "/usr/local/lib/python3.9/site-packages/sklearn/neural_network/_multilayer_perceptron.py:692: ConvergenceWarning: Stochastic Optimizer: Maximum iterations (500) reached and the optimization hasn't converged yet.\n",
      "  warnings.warn(\n"
     ]
    },
    {
     "name": "stdout",
     "output_type": "stream",
     "text": [
      "[CV] END Model__activation=relu, Model__alpha=0.001, Model__hidden_layer_sizes=(50, 20), Model__learning_rate=adaptive, Model__solver=adam; total time=   0.8s\n"
     ]
    },
    {
     "name": "stderr",
     "output_type": "stream",
     "text": [
      "/usr/local/lib/python3.9/site-packages/sklearn/neural_network/_multilayer_perceptron.py:692: ConvergenceWarning: Stochastic Optimizer: Maximum iterations (500) reached and the optimization hasn't converged yet.\n",
      "  warnings.warn(\n"
     ]
    },
    {
     "name": "stdout",
     "output_type": "stream",
     "text": [
      "[CV] END Model__activation=relu, Model__alpha=0.001, Model__hidden_layer_sizes=(50, 20), Model__learning_rate=adaptive, Model__solver=adam; total time=   0.9s\n"
     ]
    },
    {
     "name": "stderr",
     "output_type": "stream",
     "text": [
      "/usr/local/lib/python3.9/site-packages/sklearn/neural_network/_multilayer_perceptron.py:692: ConvergenceWarning: Stochastic Optimizer: Maximum iterations (500) reached and the optimization hasn't converged yet.\n",
      "  warnings.warn(\n"
     ]
    },
    {
     "name": "stdout",
     "output_type": "stream",
     "text": [
      "[CV] END Model__activation=relu, Model__alpha=0.001, Model__hidden_layer_sizes=(50, 20), Model__learning_rate=adaptive, Model__solver=adam; total time=   0.8s\n"
     ]
    },
    {
     "name": "stderr",
     "output_type": "stream",
     "text": [
      "/usr/local/lib/python3.9/site-packages/sklearn/neural_network/_multilayer_perceptron.py:692: ConvergenceWarning: Stochastic Optimizer: Maximum iterations (500) reached and the optimization hasn't converged yet.\n",
      "  warnings.warn(\n"
     ]
    },
    {
     "name": "stdout",
     "output_type": "stream",
     "text": [
      "[CV] END Model__activation=relu, Model__alpha=0.001, Model__hidden_layer_sizes=(50, 20), Model__learning_rate=adaptive, Model__solver=adam; total time=   0.8s\n"
     ]
    },
    {
     "name": "stderr",
     "output_type": "stream",
     "text": [
      "/usr/local/lib/python3.9/site-packages/sklearn/neural_network/_multilayer_perceptron.py:692: ConvergenceWarning: Stochastic Optimizer: Maximum iterations (500) reached and the optimization hasn't converged yet.\n",
      "  warnings.warn(\n"
     ]
    },
    {
     "name": "stdout",
     "output_type": "stream",
     "text": [
      "[CV] END Model__activation=relu, Model__alpha=0.001, Model__hidden_layer_sizes=(20, 50), Model__learning_rate=adaptive, Model__solver=adam; total time=   0.9s\n"
     ]
    },
    {
     "name": "stderr",
     "output_type": "stream",
     "text": [
      "/usr/local/lib/python3.9/site-packages/sklearn/neural_network/_multilayer_perceptron.py:692: ConvergenceWarning: Stochastic Optimizer: Maximum iterations (500) reached and the optimization hasn't converged yet.\n",
      "  warnings.warn(\n"
     ]
    },
    {
     "name": "stdout",
     "output_type": "stream",
     "text": [
      "[CV] END Model__activation=relu, Model__alpha=0.001, Model__hidden_layer_sizes=(20, 50), Model__learning_rate=adaptive, Model__solver=adam; total time=   0.9s\n"
     ]
    },
    {
     "name": "stderr",
     "output_type": "stream",
     "text": [
      "/usr/local/lib/python3.9/site-packages/sklearn/neural_network/_multilayer_perceptron.py:692: ConvergenceWarning: Stochastic Optimizer: Maximum iterations (500) reached and the optimization hasn't converged yet.\n",
      "  warnings.warn(\n"
     ]
    },
    {
     "name": "stdout",
     "output_type": "stream",
     "text": [
      "[CV] END Model__activation=relu, Model__alpha=0.001, Model__hidden_layer_sizes=(20, 50), Model__learning_rate=adaptive, Model__solver=adam; total time=   0.9s\n"
     ]
    },
    {
     "name": "stderr",
     "output_type": "stream",
     "text": [
      "/usr/local/lib/python3.9/site-packages/sklearn/neural_network/_multilayer_perceptron.py:692: ConvergenceWarning: Stochastic Optimizer: Maximum iterations (500) reached and the optimization hasn't converged yet.\n",
      "  warnings.warn(\n"
     ]
    },
    {
     "name": "stdout",
     "output_type": "stream",
     "text": [
      "[CV] END Model__activation=relu, Model__alpha=0.001, Model__hidden_layer_sizes=(20, 50), Model__learning_rate=adaptive, Model__solver=adam; total time=   0.8s\n"
     ]
    },
    {
     "name": "stderr",
     "output_type": "stream",
     "text": [
      "/usr/local/lib/python3.9/site-packages/sklearn/neural_network/_multilayer_perceptron.py:692: ConvergenceWarning: Stochastic Optimizer: Maximum iterations (500) reached and the optimization hasn't converged yet.\n",
      "  warnings.warn(\n"
     ]
    },
    {
     "name": "stdout",
     "output_type": "stream",
     "text": [
      "[CV] END Model__activation=relu, Model__alpha=0.001, Model__hidden_layer_sizes=(20, 50), Model__learning_rate=adaptive, Model__solver=adam; total time=   0.9s\n"
     ]
    },
    {
     "name": "stderr",
     "output_type": "stream",
     "text": [
      "/usr/local/lib/python3.9/site-packages/sklearn/neural_network/_multilayer_perceptron.py:692: ConvergenceWarning: Stochastic Optimizer: Maximum iterations (500) reached and the optimization hasn't converged yet.\n",
      "  warnings.warn(\n"
     ]
    },
    {
     "name": "stdout",
     "output_type": "stream",
     "text": [
      "[CV] END Model__activation=relu, Model__alpha=0.001, Model__hidden_layer_sizes=(100, 40), Model__learning_rate=adaptive, Model__solver=adam; total time=   1.2s\n",
      "[CV] END Model__activation=relu, Model__alpha=0.001, Model__hidden_layer_sizes=(100, 40), Model__learning_rate=adaptive, Model__solver=adam; total time=   1.3s\n"
     ]
    },
    {
     "name": "stderr",
     "output_type": "stream",
     "text": [
      "/usr/local/lib/python3.9/site-packages/sklearn/neural_network/_multilayer_perceptron.py:692: ConvergenceWarning: Stochastic Optimizer: Maximum iterations (500) reached and the optimization hasn't converged yet.\n",
      "  warnings.warn(\n"
     ]
    },
    {
     "name": "stdout",
     "output_type": "stream",
     "text": [
      "[CV] END Model__activation=relu, Model__alpha=0.001, Model__hidden_layer_sizes=(100, 40), Model__learning_rate=adaptive, Model__solver=adam; total time=   1.3s\n"
     ]
    },
    {
     "name": "stderr",
     "output_type": "stream",
     "text": [
      "/usr/local/lib/python3.9/site-packages/sklearn/neural_network/_multilayer_perceptron.py:692: ConvergenceWarning: Stochastic Optimizer: Maximum iterations (500) reached and the optimization hasn't converged yet.\n",
      "  warnings.warn(\n"
     ]
    },
    {
     "name": "stdout",
     "output_type": "stream",
     "text": [
      "[CV] END Model__activation=relu, Model__alpha=0.001, Model__hidden_layer_sizes=(100, 40), Model__learning_rate=adaptive, Model__solver=adam; total time=   1.3s\n"
     ]
    },
    {
     "name": "stderr",
     "output_type": "stream",
     "text": [
      "/usr/local/lib/python3.9/site-packages/sklearn/neural_network/_multilayer_perceptron.py:692: ConvergenceWarning: Stochastic Optimizer: Maximum iterations (500) reached and the optimization hasn't converged yet.\n",
      "  warnings.warn(\n"
     ]
    },
    {
     "name": "stdout",
     "output_type": "stream",
     "text": [
      "[CV] END Model__activation=relu, Model__alpha=0.001, Model__hidden_layer_sizes=(100, 40), Model__learning_rate=adaptive, Model__solver=adam; total time=   1.3s\n",
      "[CV] END Model__activation=relu, Model__alpha=0.001, Model__hidden_layer_sizes=(30, 40, 50), Model__learning_rate=adaptive, Model__solver=adam; total time=   1.1s\n",
      "[CV] END Model__activation=relu, Model__alpha=0.001, Model__hidden_layer_sizes=(30, 40, 50), Model__learning_rate=adaptive, Model__solver=adam; total time=   1.1s\n"
     ]
    },
    {
     "name": "stderr",
     "output_type": "stream",
     "text": [
      "/usr/local/lib/python3.9/site-packages/sklearn/neural_network/_multilayer_perceptron.py:692: ConvergenceWarning: Stochastic Optimizer: Maximum iterations (500) reached and the optimization hasn't converged yet.\n",
      "  warnings.warn(\n"
     ]
    },
    {
     "name": "stdout",
     "output_type": "stream",
     "text": [
      "[CV] END Model__activation=relu, Model__alpha=0.001, Model__hidden_layer_sizes=(30, 40, 50), Model__learning_rate=adaptive, Model__solver=adam; total time=   1.3s\n",
      "[CV] END Model__activation=relu, Model__alpha=0.001, Model__hidden_layer_sizes=(30, 40, 50), Model__learning_rate=adaptive, Model__solver=adam; total time=   1.3s\n"
     ]
    },
    {
     "name": "stderr",
     "output_type": "stream",
     "text": [
      "/usr/local/lib/python3.9/site-packages/sklearn/neural_network/_multilayer_perceptron.py:692: ConvergenceWarning: Stochastic Optimizer: Maximum iterations (500) reached and the optimization hasn't converged yet.\n",
      "  warnings.warn(\n"
     ]
    },
    {
     "name": "stdout",
     "output_type": "stream",
     "text": [
      "[CV] END Model__activation=relu, Model__alpha=0.001, Model__hidden_layer_sizes=(30, 40, 50), Model__learning_rate=adaptive, Model__solver=adam; total time=   1.4s\n"
     ]
    },
    {
     "name": "stderr",
     "output_type": "stream",
     "text": [
      "/usr/local/lib/python3.9/site-packages/sklearn/neural_network/_multilayer_perceptron.py:692: ConvergenceWarning: Stochastic Optimizer: Maximum iterations (500) reached and the optimization hasn't converged yet.\n",
      "  warnings.warn(\n"
     ]
    },
    {
     "name": "stdout",
     "output_type": "stream",
     "text": [
      "[CV] END Model__activation=relu, Model__alpha=0.01, Model__hidden_layer_sizes=(50, 20), Model__learning_rate=adaptive, Model__solver=adam; total time=   0.9s\n"
     ]
    },
    {
     "name": "stderr",
     "output_type": "stream",
     "text": [
      "/usr/local/lib/python3.9/site-packages/sklearn/neural_network/_multilayer_perceptron.py:692: ConvergenceWarning: Stochastic Optimizer: Maximum iterations (500) reached and the optimization hasn't converged yet.\n",
      "  warnings.warn(\n"
     ]
    },
    {
     "name": "stdout",
     "output_type": "stream",
     "text": [
      "[CV] END Model__activation=relu, Model__alpha=0.01, Model__hidden_layer_sizes=(50, 20), Model__learning_rate=adaptive, Model__solver=adam; total time=   0.8s\n"
     ]
    },
    {
     "name": "stderr",
     "output_type": "stream",
     "text": [
      "/usr/local/lib/python3.9/site-packages/sklearn/neural_network/_multilayer_perceptron.py:692: ConvergenceWarning: Stochastic Optimizer: Maximum iterations (500) reached and the optimization hasn't converged yet.\n",
      "  warnings.warn(\n"
     ]
    },
    {
     "name": "stdout",
     "output_type": "stream",
     "text": [
      "[CV] END Model__activation=relu, Model__alpha=0.01, Model__hidden_layer_sizes=(50, 20), Model__learning_rate=adaptive, Model__solver=adam; total time=   0.8s\n"
     ]
    },
    {
     "name": "stderr",
     "output_type": "stream",
     "text": [
      "/usr/local/lib/python3.9/site-packages/sklearn/neural_network/_multilayer_perceptron.py:692: ConvergenceWarning: Stochastic Optimizer: Maximum iterations (500) reached and the optimization hasn't converged yet.\n",
      "  warnings.warn(\n"
     ]
    },
    {
     "name": "stdout",
     "output_type": "stream",
     "text": [
      "[CV] END Model__activation=relu, Model__alpha=0.01, Model__hidden_layer_sizes=(50, 20), Model__learning_rate=adaptive, Model__solver=adam; total time=   0.8s\n"
     ]
    },
    {
     "name": "stderr",
     "output_type": "stream",
     "text": [
      "/usr/local/lib/python3.9/site-packages/sklearn/neural_network/_multilayer_perceptron.py:692: ConvergenceWarning: Stochastic Optimizer: Maximum iterations (500) reached and the optimization hasn't converged yet.\n",
      "  warnings.warn(\n"
     ]
    },
    {
     "name": "stdout",
     "output_type": "stream",
     "text": [
      "[CV] END Model__activation=relu, Model__alpha=0.01, Model__hidden_layer_sizes=(50, 20), Model__learning_rate=adaptive, Model__solver=adam; total time=   0.8s\n"
     ]
    },
    {
     "name": "stderr",
     "output_type": "stream",
     "text": [
      "/usr/local/lib/python3.9/site-packages/sklearn/neural_network/_multilayer_perceptron.py:692: ConvergenceWarning: Stochastic Optimizer: Maximum iterations (500) reached and the optimization hasn't converged yet.\n",
      "  warnings.warn(\n"
     ]
    },
    {
     "name": "stdout",
     "output_type": "stream",
     "text": [
      "[CV] END Model__activation=relu, Model__alpha=0.01, Model__hidden_layer_sizes=(20, 50), Model__learning_rate=adaptive, Model__solver=adam; total time=   0.9s\n"
     ]
    },
    {
     "name": "stderr",
     "output_type": "stream",
     "text": [
      "/usr/local/lib/python3.9/site-packages/sklearn/neural_network/_multilayer_perceptron.py:692: ConvergenceWarning: Stochastic Optimizer: Maximum iterations (500) reached and the optimization hasn't converged yet.\n",
      "  warnings.warn(\n"
     ]
    },
    {
     "name": "stdout",
     "output_type": "stream",
     "text": [
      "[CV] END Model__activation=relu, Model__alpha=0.01, Model__hidden_layer_sizes=(20, 50), Model__learning_rate=adaptive, Model__solver=adam; total time=   0.8s\n"
     ]
    },
    {
     "name": "stderr",
     "output_type": "stream",
     "text": [
      "/usr/local/lib/python3.9/site-packages/sklearn/neural_network/_multilayer_perceptron.py:692: ConvergenceWarning: Stochastic Optimizer: Maximum iterations (500) reached and the optimization hasn't converged yet.\n",
      "  warnings.warn(\n"
     ]
    },
    {
     "name": "stdout",
     "output_type": "stream",
     "text": [
      "[CV] END Model__activation=relu, Model__alpha=0.01, Model__hidden_layer_sizes=(20, 50), Model__learning_rate=adaptive, Model__solver=adam; total time=   0.9s\n"
     ]
    },
    {
     "name": "stderr",
     "output_type": "stream",
     "text": [
      "/usr/local/lib/python3.9/site-packages/sklearn/neural_network/_multilayer_perceptron.py:692: ConvergenceWarning: Stochastic Optimizer: Maximum iterations (500) reached and the optimization hasn't converged yet.\n",
      "  warnings.warn(\n"
     ]
    },
    {
     "name": "stdout",
     "output_type": "stream",
     "text": [
      "[CV] END Model__activation=relu, Model__alpha=0.01, Model__hidden_layer_sizes=(20, 50), Model__learning_rate=adaptive, Model__solver=adam; total time=   0.9s\n"
     ]
    },
    {
     "name": "stderr",
     "output_type": "stream",
     "text": [
      "/usr/local/lib/python3.9/site-packages/sklearn/neural_network/_multilayer_perceptron.py:692: ConvergenceWarning: Stochastic Optimizer: Maximum iterations (500) reached and the optimization hasn't converged yet.\n",
      "  warnings.warn(\n"
     ]
    },
    {
     "name": "stdout",
     "output_type": "stream",
     "text": [
      "[CV] END Model__activation=relu, Model__alpha=0.01, Model__hidden_layer_sizes=(20, 50), Model__learning_rate=adaptive, Model__solver=adam; total time=   0.9s\n"
     ]
    },
    {
     "name": "stderr",
     "output_type": "stream",
     "text": [
      "/usr/local/lib/python3.9/site-packages/sklearn/neural_network/_multilayer_perceptron.py:692: ConvergenceWarning: Stochastic Optimizer: Maximum iterations (500) reached and the optimization hasn't converged yet.\n",
      "  warnings.warn(\n"
     ]
    },
    {
     "name": "stdout",
     "output_type": "stream",
     "text": [
      "[CV] END Model__activation=relu, Model__alpha=0.01, Model__hidden_layer_sizes=(100, 40), Model__learning_rate=adaptive, Model__solver=adam; total time=   1.2s\n"
     ]
    },
    {
     "name": "stderr",
     "output_type": "stream",
     "text": [
      "/usr/local/lib/python3.9/site-packages/sklearn/neural_network/_multilayer_perceptron.py:692: ConvergenceWarning: Stochastic Optimizer: Maximum iterations (500) reached and the optimization hasn't converged yet.\n",
      "  warnings.warn(\n"
     ]
    },
    {
     "name": "stdout",
     "output_type": "stream",
     "text": [
      "[CV] END Model__activation=relu, Model__alpha=0.01, Model__hidden_layer_sizes=(100, 40), Model__learning_rate=adaptive, Model__solver=adam; total time=   1.2s\n"
     ]
    },
    {
     "name": "stderr",
     "output_type": "stream",
     "text": [
      "/usr/local/lib/python3.9/site-packages/sklearn/neural_network/_multilayer_perceptron.py:692: ConvergenceWarning: Stochastic Optimizer: Maximum iterations (500) reached and the optimization hasn't converged yet.\n",
      "  warnings.warn(\n"
     ]
    },
    {
     "name": "stdout",
     "output_type": "stream",
     "text": [
      "[CV] END Model__activation=relu, Model__alpha=0.01, Model__hidden_layer_sizes=(100, 40), Model__learning_rate=adaptive, Model__solver=adam; total time=   1.3s\n",
      "[CV] END Model__activation=relu, Model__alpha=0.01, Model__hidden_layer_sizes=(100, 40), Model__learning_rate=adaptive, Model__solver=adam; total time=   1.2s\n"
     ]
    },
    {
     "name": "stderr",
     "output_type": "stream",
     "text": [
      "/usr/local/lib/python3.9/site-packages/sklearn/neural_network/_multilayer_perceptron.py:692: ConvergenceWarning: Stochastic Optimizer: Maximum iterations (500) reached and the optimization hasn't converged yet.\n",
      "  warnings.warn(\n"
     ]
    },
    {
     "name": "stdout",
     "output_type": "stream",
     "text": [
      "[CV] END Model__activation=relu, Model__alpha=0.01, Model__hidden_layer_sizes=(100, 40), Model__learning_rate=adaptive, Model__solver=adam; total time=   1.3s\n"
     ]
    },
    {
     "name": "stderr",
     "output_type": "stream",
     "text": [
      "/usr/local/lib/python3.9/site-packages/sklearn/neural_network/_multilayer_perceptron.py:692: ConvergenceWarning: Stochastic Optimizer: Maximum iterations (500) reached and the optimization hasn't converged yet.\n",
      "  warnings.warn(\n"
     ]
    },
    {
     "name": "stdout",
     "output_type": "stream",
     "text": [
      "[CV] END Model__activation=relu, Model__alpha=0.01, Model__hidden_layer_sizes=(30, 40, 50), Model__learning_rate=adaptive, Model__solver=adam; total time=   1.4s\n",
      "[CV] END Model__activation=relu, Model__alpha=0.01, Model__hidden_layer_sizes=(30, 40, 50), Model__learning_rate=adaptive, Model__solver=adam; total time=   1.0s\n",
      "[CV] END Model__activation=relu, Model__alpha=0.01, Model__hidden_layer_sizes=(30, 40, 50), Model__learning_rate=adaptive, Model__solver=adam; total time=   1.1s\n",
      "[CV] END Model__activation=relu, Model__alpha=0.01, Model__hidden_layer_sizes=(30, 40, 50), Model__learning_rate=adaptive, Model__solver=adam; total time=   1.3s\n",
      "[CV] END Model__activation=relu, Model__alpha=0.01, Model__hidden_layer_sizes=(30, 40, 50), Model__learning_rate=adaptive, Model__solver=adam; total time=   1.4s\n",
      "[CV] END Model__activation=relu, Model__alpha=1, Model__hidden_layer_sizes=(50, 20), Model__learning_rate=adaptive, Model__solver=adam; total time=   0.8s\n"
     ]
    },
    {
     "name": "stderr",
     "output_type": "stream",
     "text": [
      "/usr/local/lib/python3.9/site-packages/sklearn/neural_network/_multilayer_perceptron.py:692: ConvergenceWarning: Stochastic Optimizer: Maximum iterations (500) reached and the optimization hasn't converged yet.\n",
      "  warnings.warn(\n"
     ]
    },
    {
     "name": "stdout",
     "output_type": "stream",
     "text": [
      "[CV] END Model__activation=relu, Model__alpha=1, Model__hidden_layer_sizes=(50, 20), Model__learning_rate=adaptive, Model__solver=adam; total time=   0.8s\n"
     ]
    },
    {
     "name": "stderr",
     "output_type": "stream",
     "text": [
      "/usr/local/lib/python3.9/site-packages/sklearn/neural_network/_multilayer_perceptron.py:692: ConvergenceWarning: Stochastic Optimizer: Maximum iterations (500) reached and the optimization hasn't converged yet.\n",
      "  warnings.warn(\n"
     ]
    },
    {
     "name": "stdout",
     "output_type": "stream",
     "text": [
      "[CV] END Model__activation=relu, Model__alpha=1, Model__hidden_layer_sizes=(50, 20), Model__learning_rate=adaptive, Model__solver=adam; total time=   0.8s\n"
     ]
    },
    {
     "name": "stderr",
     "output_type": "stream",
     "text": [
      "/usr/local/lib/python3.9/site-packages/sklearn/neural_network/_multilayer_perceptron.py:692: ConvergenceWarning: Stochastic Optimizer: Maximum iterations (500) reached and the optimization hasn't converged yet.\n",
      "  warnings.warn(\n"
     ]
    },
    {
     "name": "stdout",
     "output_type": "stream",
     "text": [
      "[CV] END Model__activation=relu, Model__alpha=1, Model__hidden_layer_sizes=(50, 20), Model__learning_rate=adaptive, Model__solver=adam; total time=   0.8s\n",
      "[CV] END Model__activation=relu, Model__alpha=1, Model__hidden_layer_sizes=(50, 20), Model__learning_rate=adaptive, Model__solver=adam; total time=   0.8s\n",
      "[CV] END Model__activation=relu, Model__alpha=1, Model__hidden_layer_sizes=(20, 50), Model__learning_rate=adaptive, Model__solver=adam; total time=   0.8s\n"
     ]
    },
    {
     "name": "stderr",
     "output_type": "stream",
     "text": [
      "/usr/local/lib/python3.9/site-packages/sklearn/neural_network/_multilayer_perceptron.py:692: ConvergenceWarning: Stochastic Optimizer: Maximum iterations (500) reached and the optimization hasn't converged yet.\n",
      "  warnings.warn(\n"
     ]
    },
    {
     "name": "stdout",
     "output_type": "stream",
     "text": [
      "[CV] END Model__activation=relu, Model__alpha=1, Model__hidden_layer_sizes=(20, 50), Model__learning_rate=adaptive, Model__solver=adam; total time=   0.9s\n"
     ]
    },
    {
     "name": "stderr",
     "output_type": "stream",
     "text": [
      "/usr/local/lib/python3.9/site-packages/sklearn/neural_network/_multilayer_perceptron.py:692: ConvergenceWarning: Stochastic Optimizer: Maximum iterations (500) reached and the optimization hasn't converged yet.\n",
      "  warnings.warn(\n"
     ]
    },
    {
     "name": "stdout",
     "output_type": "stream",
     "text": [
      "[CV] END Model__activation=relu, Model__alpha=1, Model__hidden_layer_sizes=(20, 50), Model__learning_rate=adaptive, Model__solver=adam; total time=   0.8s\n",
      "[CV] END Model__activation=relu, Model__alpha=1, Model__hidden_layer_sizes=(20, 50), Model__learning_rate=adaptive, Model__solver=adam; total time=   0.8s\n"
     ]
    },
    {
     "name": "stderr",
     "output_type": "stream",
     "text": [
      "/usr/local/lib/python3.9/site-packages/sklearn/neural_network/_multilayer_perceptron.py:692: ConvergenceWarning: Stochastic Optimizer: Maximum iterations (500) reached and the optimization hasn't converged yet.\n",
      "  warnings.warn(\n"
     ]
    },
    {
     "name": "stdout",
     "output_type": "stream",
     "text": [
      "[CV] END Model__activation=relu, Model__alpha=1, Model__hidden_layer_sizes=(20, 50), Model__learning_rate=adaptive, Model__solver=adam; total time=   0.8s\n",
      "[CV] END Model__activation=relu, Model__alpha=1, Model__hidden_layer_sizes=(100, 40), Model__learning_rate=adaptive, Model__solver=adam; total time=   1.0s\n",
      "[CV] END Model__activation=relu, Model__alpha=1, Model__hidden_layer_sizes=(100, 40), Model__learning_rate=adaptive, Model__solver=adam; total time=   1.0s\n",
      "[CV] END Model__activation=relu, Model__alpha=1, Model__hidden_layer_sizes=(100, 40), Model__learning_rate=adaptive, Model__solver=adam; total time=   1.0s\n",
      "[CV] END Model__activation=relu, Model__alpha=1, Model__hidden_layer_sizes=(100, 40), Model__learning_rate=adaptive, Model__solver=adam; total time=   0.9s\n",
      "[CV] END Model__activation=relu, Model__alpha=1, Model__hidden_layer_sizes=(100, 40), Model__learning_rate=adaptive, Model__solver=adam; total time=   1.1s\n"
     ]
    },
    {
     "name": "stderr",
     "output_type": "stream",
     "text": [
      "/usr/local/lib/python3.9/site-packages/sklearn/neural_network/_multilayer_perceptron.py:692: ConvergenceWarning: Stochastic Optimizer: Maximum iterations (500) reached and the optimization hasn't converged yet.\n",
      "  warnings.warn(\n"
     ]
    },
    {
     "name": "stdout",
     "output_type": "stream",
     "text": [
      "[CV] END Model__activation=relu, Model__alpha=1, Model__hidden_layer_sizes=(30, 40, 50), Model__learning_rate=adaptive, Model__solver=adam; total time=   1.5s\n",
      "[CV] END Model__activation=relu, Model__alpha=1, Model__hidden_layer_sizes=(30, 40, 50), Model__learning_rate=adaptive, Model__solver=adam; total time=   1.1s\n"
     ]
    },
    {
     "name": "stderr",
     "output_type": "stream",
     "text": [
      "/usr/local/lib/python3.9/site-packages/sklearn/neural_network/_multilayer_perceptron.py:692: ConvergenceWarning: Stochastic Optimizer: Maximum iterations (500) reached and the optimization hasn't converged yet.\n",
      "  warnings.warn(\n"
     ]
    },
    {
     "name": "stdout",
     "output_type": "stream",
     "text": [
      "[CV] END Model__activation=relu, Model__alpha=1, Model__hidden_layer_sizes=(30, 40, 50), Model__learning_rate=adaptive, Model__solver=adam; total time=   1.5s\n",
      "[CV] END Model__activation=relu, Model__alpha=1, Model__hidden_layer_sizes=(30, 40, 50), Model__learning_rate=adaptive, Model__solver=adam; total time=   1.2s\n",
      "[CV] END Model__activation=relu, Model__alpha=1, Model__hidden_layer_sizes=(30, 40, 50), Model__learning_rate=adaptive, Model__solver=adam; total time=   1.1s\n",
      "[CV] END Model__activation=relu, Model__alpha=10, Model__hidden_layer_sizes=(50, 20), Model__learning_rate=adaptive, Model__solver=adam; total time=   0.4s\n",
      "[CV] END Model__activation=relu, Model__alpha=10, Model__hidden_layer_sizes=(50, 20), Model__learning_rate=adaptive, Model__solver=adam; total time=   0.4s\n",
      "[CV] END Model__activation=relu, Model__alpha=10, Model__hidden_layer_sizes=(50, 20), Model__learning_rate=adaptive, Model__solver=adam; total time=   0.4s\n",
      "[CV] END Model__activation=relu, Model__alpha=10, Model__hidden_layer_sizes=(50, 20), Model__learning_rate=adaptive, Model__solver=adam; total time=   0.4s\n",
      "[CV] END Model__activation=relu, Model__alpha=10, Model__hidden_layer_sizes=(50, 20), Model__learning_rate=adaptive, Model__solver=adam; total time=   0.4s\n",
      "[CV] END Model__activation=relu, Model__alpha=10, Model__hidden_layer_sizes=(20, 50), Model__learning_rate=adaptive, Model__solver=adam; total time=   0.5s\n",
      "[CV] END Model__activation=relu, Model__alpha=10, Model__hidden_layer_sizes=(20, 50), Model__learning_rate=adaptive, Model__solver=adam; total time=   0.4s\n",
      "[CV] END Model__activation=relu, Model__alpha=10, Model__hidden_layer_sizes=(20, 50), Model__learning_rate=adaptive, Model__solver=adam; total time=   0.5s\n",
      "[CV] END Model__activation=relu, Model__alpha=10, Model__hidden_layer_sizes=(20, 50), Model__learning_rate=adaptive, Model__solver=adam; total time=   0.4s\n",
      "[CV] END Model__activation=relu, Model__alpha=10, Model__hidden_layer_sizes=(20, 50), Model__learning_rate=adaptive, Model__solver=adam; total time=   0.5s\n",
      "[CV] END Model__activation=relu, Model__alpha=10, Model__hidden_layer_sizes=(100, 40), Model__learning_rate=adaptive, Model__solver=adam; total time=   0.5s\n",
      "[CV] END Model__activation=relu, Model__alpha=10, Model__hidden_layer_sizes=(100, 40), Model__learning_rate=adaptive, Model__solver=adam; total time=   0.5s\n",
      "[CV] END Model__activation=relu, Model__alpha=10, Model__hidden_layer_sizes=(100, 40), Model__learning_rate=adaptive, Model__solver=adam; total time=   0.4s\n",
      "[CV] END Model__activation=relu, Model__alpha=10, Model__hidden_layer_sizes=(100, 40), Model__learning_rate=adaptive, Model__solver=adam; total time=   0.5s\n",
      "[CV] END Model__activation=relu, Model__alpha=10, Model__hidden_layer_sizes=(100, 40), Model__learning_rate=adaptive, Model__solver=adam; total time=   0.5s\n",
      "[CV] END Model__activation=relu, Model__alpha=10, Model__hidden_layer_sizes=(30, 40, 50), Model__learning_rate=adaptive, Model__solver=adam; total time=   0.6s\n",
      "[CV] END Model__activation=relu, Model__alpha=10, Model__hidden_layer_sizes=(30, 40, 50), Model__learning_rate=adaptive, Model__solver=adam; total time=   0.8s\n",
      "[CV] END Model__activation=relu, Model__alpha=10, Model__hidden_layer_sizes=(30, 40, 50), Model__learning_rate=adaptive, Model__solver=adam; total time=   0.7s\n",
      "[CV] END Model__activation=relu, Model__alpha=10, Model__hidden_layer_sizes=(30, 40, 50), Model__learning_rate=adaptive, Model__solver=adam; total time=   0.9s\n",
      "[CV] END Model__activation=relu, Model__alpha=10, Model__hidden_layer_sizes=(30, 40, 50), Model__learning_rate=adaptive, Model__solver=adam; total time=   0.8s\n"
     ]
    },
    {
     "data": {
      "text/html": [
       "<div>\n",
       "<style scoped>\n",
       "    .dataframe tbody tr th:only-of-type {\n",
       "        vertical-align: middle;\n",
       "    }\n",
       "\n",
       "    .dataframe tbody tr th {\n",
       "        vertical-align: top;\n",
       "    }\n",
       "\n",
       "    .dataframe thead th {\n",
       "        text-align: right;\n",
       "    }\n",
       "</style>\n",
       "<table border=\"1\" class=\"dataframe\">\n",
       "  <thead>\n",
       "    <tr style=\"text-align: right;\">\n",
       "      <th></th>\n",
       "      <th>mean_fit_time</th>\n",
       "      <th>std_fit_time</th>\n",
       "      <th>mean_score_time</th>\n",
       "      <th>std_score_time</th>\n",
       "      <th>param_Model__activation</th>\n",
       "      <th>param_Model__alpha</th>\n",
       "      <th>param_Model__hidden_layer_sizes</th>\n",
       "      <th>param_Model__learning_rate</th>\n",
       "      <th>param_Model__solver</th>\n",
       "      <th>params</th>\n",
       "      <th>...</th>\n",
       "      <th>std_test_accuracy</th>\n",
       "      <th>rank_test_accuracy</th>\n",
       "      <th>split0_test_f1</th>\n",
       "      <th>split1_test_f1</th>\n",
       "      <th>split2_test_f1</th>\n",
       "      <th>split3_test_f1</th>\n",
       "      <th>split4_test_f1</th>\n",
       "      <th>mean_test_f1</th>\n",
       "      <th>std_test_f1</th>\n",
       "      <th>rank_test_f1</th>\n",
       "    </tr>\n",
       "  </thead>\n",
       "  <tbody>\n",
       "    <tr>\n",
       "      <th>0</th>\n",
       "      <td>0.066992</td>\n",
       "      <td>0.013594</td>\n",
       "      <td>0.006663</td>\n",
       "      <td>0.000779</td>\n",
       "      <td>identity</td>\n",
       "      <td>0.001</td>\n",
       "      <td>(50, 20)</td>\n",
       "      <td>adaptive</td>\n",
       "      <td>adam</td>\n",
       "      <td>{'Model__activation': 'identity', 'Model__alph...</td>\n",
       "      <td>...</td>\n",
       "      <td>0.037871</td>\n",
       "      <td>31</td>\n",
       "      <td>0.660870</td>\n",
       "      <td>0.770642</td>\n",
       "      <td>0.711864</td>\n",
       "      <td>0.673267</td>\n",
       "      <td>0.782609</td>\n",
       "      <td>0.719850</td>\n",
       "      <td>0.049459</td>\n",
       "      <td>18</td>\n",
       "    </tr>\n",
       "    <tr>\n",
       "      <th>1</th>\n",
       "      <td>0.081911</td>\n",
       "      <td>0.008027</td>\n",
       "      <td>0.006473</td>\n",
       "      <td>0.000967</td>\n",
       "      <td>identity</td>\n",
       "      <td>0.001</td>\n",
       "      <td>(20, 50)</td>\n",
       "      <td>adaptive</td>\n",
       "      <td>adam</td>\n",
       "      <td>{'Model__activation': 'identity', 'Model__alph...</td>\n",
       "      <td>...</td>\n",
       "      <td>0.039548</td>\n",
       "      <td>23</td>\n",
       "      <td>0.660870</td>\n",
       "      <td>0.777778</td>\n",
       "      <td>0.717949</td>\n",
       "      <td>0.660000</td>\n",
       "      <td>0.782609</td>\n",
       "      <td>0.719841</td>\n",
       "      <td>0.053588</td>\n",
       "      <td>19</td>\n",
       "    </tr>\n",
       "    <tr>\n",
       "      <th>2</th>\n",
       "      <td>0.076785</td>\n",
       "      <td>0.014539</td>\n",
       "      <td>0.006438</td>\n",
       "      <td>0.000572</td>\n",
       "      <td>identity</td>\n",
       "      <td>0.001</td>\n",
       "      <td>(100, 40)</td>\n",
       "      <td>adaptive</td>\n",
       "      <td>adam</td>\n",
       "      <td>{'Model__activation': 'identity', 'Model__alph...</td>\n",
       "      <td>...</td>\n",
       "      <td>0.038680</td>\n",
       "      <td>39</td>\n",
       "      <td>0.660870</td>\n",
       "      <td>0.770642</td>\n",
       "      <td>0.717949</td>\n",
       "      <td>0.653465</td>\n",
       "      <td>0.782609</td>\n",
       "      <td>0.717107</td>\n",
       "      <td>0.053610</td>\n",
       "      <td>30</td>\n",
       "    </tr>\n",
       "    <tr>\n",
       "      <th>3</th>\n",
       "      <td>0.101997</td>\n",
       "      <td>0.022866</td>\n",
       "      <td>0.006108</td>\n",
       "      <td>0.000460</td>\n",
       "      <td>identity</td>\n",
       "      <td>0.001</td>\n",
       "      <td>(30, 40, 50)</td>\n",
       "      <td>adaptive</td>\n",
       "      <td>adam</td>\n",
       "      <td>{'Model__activation': 'identity', 'Model__alph...</td>\n",
       "      <td>...</td>\n",
       "      <td>0.040128</td>\n",
       "      <td>31</td>\n",
       "      <td>0.660870</td>\n",
       "      <td>0.777778</td>\n",
       "      <td>0.711864</td>\n",
       "      <td>0.660000</td>\n",
       "      <td>0.782609</td>\n",
       "      <td>0.718624</td>\n",
       "      <td>0.053687</td>\n",
       "      <td>22</td>\n",
       "    </tr>\n",
       "    <tr>\n",
       "      <th>4</th>\n",
       "      <td>0.067408</td>\n",
       "      <td>0.008483</td>\n",
       "      <td>0.005693</td>\n",
       "      <td>0.000690</td>\n",
       "      <td>identity</td>\n",
       "      <td>0.01</td>\n",
       "      <td>(50, 20)</td>\n",
       "      <td>adaptive</td>\n",
       "      <td>adam</td>\n",
       "      <td>{'Model__activation': 'identity', 'Model__alph...</td>\n",
       "      <td>...</td>\n",
       "      <td>0.038908</td>\n",
       "      <td>19</td>\n",
       "      <td>0.660870</td>\n",
       "      <td>0.777778</td>\n",
       "      <td>0.717949</td>\n",
       "      <td>0.673267</td>\n",
       "      <td>0.782609</td>\n",
       "      <td>0.722494</td>\n",
       "      <td>0.050816</td>\n",
       "      <td>13</td>\n",
       "    </tr>\n",
       "    <tr>\n",
       "      <th>...</th>\n",
       "      <td>...</td>\n",
       "      <td>...</td>\n",
       "      <td>...</td>\n",
       "      <td>...</td>\n",
       "      <td>...</td>\n",
       "      <td>...</td>\n",
       "      <td>...</td>\n",
       "      <td>...</td>\n",
       "      <td>...</td>\n",
       "      <td>...</td>\n",
       "      <td>...</td>\n",
       "      <td>...</td>\n",
       "      <td>...</td>\n",
       "      <td>...</td>\n",
       "      <td>...</td>\n",
       "      <td>...</td>\n",
       "      <td>...</td>\n",
       "      <td>...</td>\n",
       "      <td>...</td>\n",
       "      <td>...</td>\n",
       "      <td>...</td>\n",
       "    </tr>\n",
       "    <tr>\n",
       "      <th>59</th>\n",
       "      <td>1.259166</td>\n",
       "      <td>0.172051</td>\n",
       "      <td>0.006339</td>\n",
       "      <td>0.000518</td>\n",
       "      <td>relu</td>\n",
       "      <td>1</td>\n",
       "      <td>(30, 40, 50)</td>\n",
       "      <td>adaptive</td>\n",
       "      <td>adam</td>\n",
       "      <td>{'Model__activation': 'relu', 'Model__alpha': ...</td>\n",
       "      <td>...</td>\n",
       "      <td>0.042323</td>\n",
       "      <td>9</td>\n",
       "      <td>0.615385</td>\n",
       "      <td>0.766355</td>\n",
       "      <td>0.761062</td>\n",
       "      <td>0.666667</td>\n",
       "      <td>0.806723</td>\n",
       "      <td>0.723238</td>\n",
       "      <td>0.070841</td>\n",
       "      <td>11</td>\n",
       "    </tr>\n",
       "    <tr>\n",
       "      <th>60</th>\n",
       "      <td>0.397257</td>\n",
       "      <td>0.031090</td>\n",
       "      <td>0.005466</td>\n",
       "      <td>0.000320</td>\n",
       "      <td>relu</td>\n",
       "      <td>10</td>\n",
       "      <td>(50, 20)</td>\n",
       "      <td>adaptive</td>\n",
       "      <td>adam</td>\n",
       "      <td>{'Model__activation': 'relu', 'Model__alpha': ...</td>\n",
       "      <td>...</td>\n",
       "      <td>0.044673</td>\n",
       "      <td>52</td>\n",
       "      <td>0.654867</td>\n",
       "      <td>0.770642</td>\n",
       "      <td>0.700855</td>\n",
       "      <td>0.627451</td>\n",
       "      <td>0.781818</td>\n",
       "      <td>0.707127</td>\n",
       "      <td>0.061207</td>\n",
       "      <td>57</td>\n",
       "    </tr>\n",
       "    <tr>\n",
       "      <th>61</th>\n",
       "      <td>0.456784</td>\n",
       "      <td>0.020849</td>\n",
       "      <td>0.005258</td>\n",
       "      <td>0.000189</td>\n",
       "      <td>relu</td>\n",
       "      <td>10</td>\n",
       "      <td>(20, 50)</td>\n",
       "      <td>adaptive</td>\n",
       "      <td>adam</td>\n",
       "      <td>{'Model__activation': 'relu', 'Model__alpha': ...</td>\n",
       "      <td>...</td>\n",
       "      <td>0.046314</td>\n",
       "      <td>48</td>\n",
       "      <td>0.654867</td>\n",
       "      <td>0.777778</td>\n",
       "      <td>0.700855</td>\n",
       "      <td>0.627451</td>\n",
       "      <td>0.781818</td>\n",
       "      <td>0.708554</td>\n",
       "      <td>0.062736</td>\n",
       "      <td>49</td>\n",
       "    </tr>\n",
       "    <tr>\n",
       "      <th>62</th>\n",
       "      <td>0.483724</td>\n",
       "      <td>0.032609</td>\n",
       "      <td>0.005820</td>\n",
       "      <td>0.000063</td>\n",
       "      <td>relu</td>\n",
       "      <td>10</td>\n",
       "      <td>(100, 40)</td>\n",
       "      <td>adaptive</td>\n",
       "      <td>adam</td>\n",
       "      <td>{'Model__activation': 'relu', 'Model__alpha': ...</td>\n",
       "      <td>...</td>\n",
       "      <td>0.041980</td>\n",
       "      <td>45</td>\n",
       "      <td>0.666667</td>\n",
       "      <td>0.770642</td>\n",
       "      <td>0.700855</td>\n",
       "      <td>0.627451</td>\n",
       "      <td>0.781818</td>\n",
       "      <td>0.709487</td>\n",
       "      <td>0.059346</td>\n",
       "      <td>43</td>\n",
       "    </tr>\n",
       "    <tr>\n",
       "      <th>63</th>\n",
       "      <td>0.741640</td>\n",
       "      <td>0.089101</td>\n",
       "      <td>0.005957</td>\n",
       "      <td>0.000236</td>\n",
       "      <td>relu</td>\n",
       "      <td>10</td>\n",
       "      <td>(30, 40, 50)</td>\n",
       "      <td>adaptive</td>\n",
       "      <td>adam</td>\n",
       "      <td>{'Model__activation': 'relu', 'Model__alpha': ...</td>\n",
       "      <td>...</td>\n",
       "      <td>0.041318</td>\n",
       "      <td>59</td>\n",
       "      <td>0.654867</td>\n",
       "      <td>0.763636</td>\n",
       "      <td>0.700855</td>\n",
       "      <td>0.627451</td>\n",
       "      <td>0.774775</td>\n",
       "      <td>0.704317</td>\n",
       "      <td>0.058050</td>\n",
       "      <td>59</td>\n",
       "    </tr>\n",
       "  </tbody>\n",
       "</table>\n",
       "<p>64 rows × 50 columns</p>\n",
       "</div>"
      ],
      "text/plain": [
       "    mean_fit_time  std_fit_time  mean_score_time  std_score_time  \\\n",
       "0        0.066992      0.013594         0.006663        0.000779   \n",
       "1        0.081911      0.008027         0.006473        0.000967   \n",
       "2        0.076785      0.014539         0.006438        0.000572   \n",
       "3        0.101997      0.022866         0.006108        0.000460   \n",
       "4        0.067408      0.008483         0.005693        0.000690   \n",
       "..            ...           ...              ...             ...   \n",
       "59       1.259166      0.172051         0.006339        0.000518   \n",
       "60       0.397257      0.031090         0.005466        0.000320   \n",
       "61       0.456784      0.020849         0.005258        0.000189   \n",
       "62       0.483724      0.032609         0.005820        0.000063   \n",
       "63       0.741640      0.089101         0.005957        0.000236   \n",
       "\n",
       "   param_Model__activation param_Model__alpha param_Model__hidden_layer_sizes  \\\n",
       "0                 identity              0.001                        (50, 20)   \n",
       "1                 identity              0.001                        (20, 50)   \n",
       "2                 identity              0.001                       (100, 40)   \n",
       "3                 identity              0.001                    (30, 40, 50)   \n",
       "4                 identity               0.01                        (50, 20)   \n",
       "..                     ...                ...                             ...   \n",
       "59                    relu                  1                    (30, 40, 50)   \n",
       "60                    relu                 10                        (50, 20)   \n",
       "61                    relu                 10                        (20, 50)   \n",
       "62                    relu                 10                       (100, 40)   \n",
       "63                    relu                 10                    (30, 40, 50)   \n",
       "\n",
       "   param_Model__learning_rate param_Model__solver  \\\n",
       "0                    adaptive                adam   \n",
       "1                    adaptive                adam   \n",
       "2                    adaptive                adam   \n",
       "3                    adaptive                adam   \n",
       "4                    adaptive                adam   \n",
       "..                        ...                 ...   \n",
       "59                   adaptive                adam   \n",
       "60                   adaptive                adam   \n",
       "61                   adaptive                adam   \n",
       "62                   adaptive                adam   \n",
       "63                   adaptive                adam   \n",
       "\n",
       "                                               params  ...  std_test_accuracy  \\\n",
       "0   {'Model__activation': 'identity', 'Model__alph...  ...           0.037871   \n",
       "1   {'Model__activation': 'identity', 'Model__alph...  ...           0.039548   \n",
       "2   {'Model__activation': 'identity', 'Model__alph...  ...           0.038680   \n",
       "3   {'Model__activation': 'identity', 'Model__alph...  ...           0.040128   \n",
       "4   {'Model__activation': 'identity', 'Model__alph...  ...           0.038908   \n",
       "..                                                ...  ...                ...   \n",
       "59  {'Model__activation': 'relu', 'Model__alpha': ...  ...           0.042323   \n",
       "60  {'Model__activation': 'relu', 'Model__alpha': ...  ...           0.044673   \n",
       "61  {'Model__activation': 'relu', 'Model__alpha': ...  ...           0.046314   \n",
       "62  {'Model__activation': 'relu', 'Model__alpha': ...  ...           0.041980   \n",
       "63  {'Model__activation': 'relu', 'Model__alpha': ...  ...           0.041318   \n",
       "\n",
       "    rank_test_accuracy  split0_test_f1  split1_test_f1  split2_test_f1  \\\n",
       "0                   31        0.660870        0.770642        0.711864   \n",
       "1                   23        0.660870        0.777778        0.717949   \n",
       "2                   39        0.660870        0.770642        0.717949   \n",
       "3                   31        0.660870        0.777778        0.711864   \n",
       "4                   19        0.660870        0.777778        0.717949   \n",
       "..                 ...             ...             ...             ...   \n",
       "59                   9        0.615385        0.766355        0.761062   \n",
       "60                  52        0.654867        0.770642        0.700855   \n",
       "61                  48        0.654867        0.777778        0.700855   \n",
       "62                  45        0.666667        0.770642        0.700855   \n",
       "63                  59        0.654867        0.763636        0.700855   \n",
       "\n",
       "    split3_test_f1  split4_test_f1  mean_test_f1  std_test_f1  rank_test_f1  \n",
       "0         0.673267        0.782609      0.719850     0.049459            18  \n",
       "1         0.660000        0.782609      0.719841     0.053588            19  \n",
       "2         0.653465        0.782609      0.717107     0.053610            30  \n",
       "3         0.660000        0.782609      0.718624     0.053687            22  \n",
       "4         0.673267        0.782609      0.722494     0.050816            13  \n",
       "..             ...             ...           ...          ...           ...  \n",
       "59        0.666667        0.806723      0.723238     0.070841            11  \n",
       "60        0.627451        0.781818      0.707127     0.061207            57  \n",
       "61        0.627451        0.781818      0.708554     0.062736            49  \n",
       "62        0.627451        0.781818      0.709487     0.059346            43  \n",
       "63        0.627451        0.774775      0.704317     0.058050            59  \n",
       "\n",
       "[64 rows x 50 columns]"
      ]
     },
     "metadata": {},
     "output_type": "display_data"
    }
   ],
   "source": [
    "pipe = Pipeline([('scale', preprocessing.StandardScaler()), ('Model', MLPClassifier(max_iter = 500))])\n",
    "# Define our parameters for the grid search\n",
    "params = [{'Model__hidden_layer_sizes': [(50,20), (20, 50), (100,40), (30, 40, 50)],\n",
    "           'Model__activation':['identity', 'logistic','tanh', 'relu'],\n",
    "           'Model__solver':['adam'],\n",
    "           'Model__alpha': [0.001, 0.01, 1, 10],\n",
    "           'Model__learning_rate': ['adaptive']}\n",
    "          ]\n",
    "clfMLP = GridSearchCV(estimator = pipe, param_grid = params, scoring=['average_precision', 'balanced_accuracy', 'roc_auc', 'accuracy', 'f1'], refit='average_precision', verbose=2)\n",
    "# Train and get the best hyper parameters for our model\n",
    "clfMLP.fit(xTrain, yTrain)\n",
    "bestMLP = clfMLP.best_params_\n",
    "\n",
    "# Display the table output of the previous\n",
    "# Note this table is very large therefore only check if you really need to\n",
    "display(pd.DataFrame(clfMLP.cv_results_))"
   ]
  },
  {
   "attachments": {},
   "cell_type": "markdown",
   "metadata": {},
   "source": [
    "### 6. Random forest classifier"
   ]
  },
  {
   "cell_type": "code",
   "execution_count": 13,
   "metadata": {},
   "outputs": [
    {
     "name": "stdout",
     "output_type": "stream",
     "text": [
      "Fitting 5 folds for each of 2 candidates, totalling 10 fits\n",
      "[CV] END .......Model__bootstrap=True, Model__criterion=gini; total time=   0.2s\n",
      "[CV] END .......Model__bootstrap=True, Model__criterion=gini; total time=   0.2s\n",
      "[CV] END .......Model__bootstrap=True, Model__criterion=gini; total time=   0.2s\n",
      "[CV] END .......Model__bootstrap=True, Model__criterion=gini; total time=   0.1s\n",
      "[CV] END .......Model__bootstrap=True, Model__criterion=gini; total time=   0.1s\n",
      "[CV] END ....Model__bootstrap=True, Model__criterion=entropy; total time=   0.2s\n",
      "[CV] END ....Model__bootstrap=True, Model__criterion=entropy; total time=   0.2s\n",
      "[CV] END ....Model__bootstrap=True, Model__criterion=entropy; total time=   0.2s\n",
      "[CV] END ....Model__bootstrap=True, Model__criterion=entropy; total time=   0.2s\n",
      "[CV] END ....Model__bootstrap=True, Model__criterion=entropy; total time=   0.2s\n"
     ]
    },
    {
     "data": {
      "text/html": [
       "<div>\n",
       "<style scoped>\n",
       "    .dataframe tbody tr th:only-of-type {\n",
       "        vertical-align: middle;\n",
       "    }\n",
       "\n",
       "    .dataframe tbody tr th {\n",
       "        vertical-align: top;\n",
       "    }\n",
       "\n",
       "    .dataframe thead th {\n",
       "        text-align: right;\n",
       "    }\n",
       "</style>\n",
       "<table border=\"1\" class=\"dataframe\">\n",
       "  <thead>\n",
       "    <tr style=\"text-align: right;\">\n",
       "      <th></th>\n",
       "      <th>mean_fit_time</th>\n",
       "      <th>std_fit_time</th>\n",
       "      <th>mean_score_time</th>\n",
       "      <th>std_score_time</th>\n",
       "      <th>param_Model__bootstrap</th>\n",
       "      <th>param_Model__criterion</th>\n",
       "      <th>params</th>\n",
       "      <th>split0_test_average_precision</th>\n",
       "      <th>split1_test_average_precision</th>\n",
       "      <th>split2_test_average_precision</th>\n",
       "      <th>...</th>\n",
       "      <th>std_test_accuracy</th>\n",
       "      <th>rank_test_accuracy</th>\n",
       "      <th>split0_test_f1</th>\n",
       "      <th>split1_test_f1</th>\n",
       "      <th>split2_test_f1</th>\n",
       "      <th>split3_test_f1</th>\n",
       "      <th>split4_test_f1</th>\n",
       "      <th>mean_test_f1</th>\n",
       "      <th>std_test_f1</th>\n",
       "      <th>rank_test_f1</th>\n",
       "    </tr>\n",
       "  </thead>\n",
       "  <tbody>\n",
       "    <tr>\n",
       "      <th>0</th>\n",
       "      <td>0.128343</td>\n",
       "      <td>0.007107</td>\n",
       "      <td>0.024207</td>\n",
       "      <td>0.000643</td>\n",
       "      <td>True</td>\n",
       "      <td>gini</td>\n",
       "      <td>{'Model__bootstrap': True, 'Model__criterion':...</td>\n",
       "      <td>0.782866</td>\n",
       "      <td>0.829462</td>\n",
       "      <td>0.830402</td>\n",
       "      <td>...</td>\n",
       "      <td>0.042298</td>\n",
       "      <td>1</td>\n",
       "      <td>0.660714</td>\n",
       "      <td>0.770642</td>\n",
       "      <td>0.776860</td>\n",
       "      <td>0.653465</td>\n",
       "      <td>0.816667</td>\n",
       "      <td>0.735670</td>\n",
       "      <td>0.066115</td>\n",
       "      <td>1</td>\n",
       "    </tr>\n",
       "    <tr>\n",
       "      <th>1</th>\n",
       "      <td>0.128018</td>\n",
       "      <td>0.000704</td>\n",
       "      <td>0.024445</td>\n",
       "      <td>0.000234</td>\n",
       "      <td>True</td>\n",
       "      <td>entropy</td>\n",
       "      <td>{'Model__bootstrap': True, 'Model__criterion':...</td>\n",
       "      <td>0.791060</td>\n",
       "      <td>0.839191</td>\n",
       "      <td>0.832023</td>\n",
       "      <td>...</td>\n",
       "      <td>0.043828</td>\n",
       "      <td>2</td>\n",
       "      <td>0.666667</td>\n",
       "      <td>0.781818</td>\n",
       "      <td>0.760331</td>\n",
       "      <td>0.640777</td>\n",
       "      <td>0.816667</td>\n",
       "      <td>0.733252</td>\n",
       "      <td>0.067875</td>\n",
       "      <td>2</td>\n",
       "    </tr>\n",
       "  </tbody>\n",
       "</table>\n",
       "<p>2 rows × 47 columns</p>\n",
       "</div>"
      ],
      "text/plain": [
       "   mean_fit_time  std_fit_time  mean_score_time  std_score_time  \\\n",
       "0       0.128343      0.007107         0.024207        0.000643   \n",
       "1       0.128018      0.000704         0.024445        0.000234   \n",
       "\n",
       "  param_Model__bootstrap param_Model__criterion  \\\n",
       "0                   True                   gini   \n",
       "1                   True                entropy   \n",
       "\n",
       "                                              params  \\\n",
       "0  {'Model__bootstrap': True, 'Model__criterion':...   \n",
       "1  {'Model__bootstrap': True, 'Model__criterion':...   \n",
       "\n",
       "   split0_test_average_precision  split1_test_average_precision  \\\n",
       "0                       0.782866                       0.829462   \n",
       "1                       0.791060                       0.839191   \n",
       "\n",
       "   split2_test_average_precision  ...  std_test_accuracy  rank_test_accuracy  \\\n",
       "0                       0.830402  ...           0.042298                   1   \n",
       "1                       0.832023  ...           0.043828                   2   \n",
       "\n",
       "   split0_test_f1  split1_test_f1  split2_test_f1  split3_test_f1  \\\n",
       "0        0.660714        0.770642        0.776860        0.653465   \n",
       "1        0.666667        0.781818        0.760331        0.640777   \n",
       "\n",
       "   split4_test_f1  mean_test_f1  std_test_f1  rank_test_f1  \n",
       "0        0.816667      0.735670     0.066115             1  \n",
       "1        0.816667      0.733252     0.067875             2  \n",
       "\n",
       "[2 rows x 47 columns]"
      ]
     },
     "metadata": {},
     "output_type": "display_data"
    }
   ],
   "source": [
    "pipe = Pipeline([('scale', preprocessing.StandardScaler()), ('Model', RandomForestClassifier())])\n",
    "# Define our parameters for the grid search\n",
    "params = [{'Model__criterion': ['gini', 'entropy'],\n",
    "           'Model__bootstrap':[True]\n",
    "           }]\n",
    "clfRandForest = GridSearchCV(estimator = pipe, param_grid = params, scoring=['average_precision', 'balanced_accuracy', 'roc_auc', 'accuracy', 'f1'], refit='average_precision', verbose=2)\n",
    "# Train and get the best hyper parameters for our model\n",
    "clfRandForest.fit(xTrain, yTrain)\n",
    "bestRandForest = clfRandForest.best_params_\n",
    "\n",
    "# Display the table output of the previous\n",
    "# Note this table is very large therefore only check if you really need to\n",
    "display(pd.DataFrame(clfRandForest.cv_results_))"
   ]
  },
  {
   "attachments": {},
   "cell_type": "markdown",
   "metadata": {},
   "source": [
    "### Results overview"
   ]
  },
  {
   "cell_type": "code",
   "execution_count": 14,
   "metadata": {},
   "outputs": [
    {
     "name": "stdout",
     "output_type": "stream",
     "text": [
      "╒══════════════════════════════════════╤══════════════╤══════════════════════════╤══════════════╤══════════════════╤══════════════════════════╤═════════════════╕\n",
      "│ Metric                               │   Perceptron │   Naive Bayes classifier │   Linear SVM │   Kernalised SVM │   Multi layer perceptron │   Random forest │\n",
      "╞══════════════════════════════════════╪══════════════╪══════════════════════════╪══════════════╪══════════════════╪══════════════════════════╪═════════════════╡\n",
      "│ Average accuracy                     │    0.727026  │                0.770393  │    0.777337  │        0.773151  │                0.808195  │       0.791392  │\n",
      "├──────────────────────────────────────┼──────────────┼──────────────────────────┼──────────────┼──────────────────┼──────────────────────────┼─────────────────┤\n",
      "│ Accuracy standard deviation          │    0.0493585 │                0.0417065 │    0.0302709 │        0.0311948 │                0.0355382 │       0.0438281 │\n",
      "├──────────────────────────────────────┼──────────────┼──────────────────────────┼──────────────┼──────────────────┼──────────────────────────┼─────────────────┤\n",
      "│ Average balanced accuracy            │    0.708562  │                0.761996  │    0.762935  │        0.755572  │                0.78886   │       0.779615  │\n",
      "├──────────────────────────────────────┼──────────────┼──────────────────────────┼──────────────┼──────────────────┼──────────────────────────┼─────────────────┤\n",
      "│ Balanced accuracy standard deviation │    0.057659  │                0.0407363 │    0.0364203 │        0.0365338 │                0.0451654 │       0.051651  │\n",
      "├──────────────────────────────────────┼──────────────┼──────────────────────────┼──────────────┼──────────────────┼──────────────────────────┼─────────────────┤\n",
      "│ Average AUC-ROC                      │    0.750212  │                0.817777  │    0.847512  │        0.853581  │                0.858002  │       0.851713  │\n",
      "├──────────────────────────────────────┼──────────────┼──────────────────────────┼──────────────┼──────────────────┼──────────────────────────┼─────────────────┤\n",
      "│ AUC-ROC standard deviation           │    0.0650276 │                0.0517193 │    0.0155636 │        0.0208205 │                0.0269718 │       0.0328685 │\n",
      "├──────────────────────────────────────┼──────────────┼──────────────────────────┼──────────────┼──────────────────┼──────────────────────────┼─────────────────┤\n",
      "│ Average AUC-PR                       │    0.693041  │                0.76042   │    0.832785  │        0.836328  │                0.85254   │       0.828335  │\n",
      "├──────────────────────────────────────┼──────────────┼──────────────────────────┼──────────────┼──────────────────┼──────────────────────────┼─────────────────┤\n",
      "│ AUC-PR standard deviation            │    0.0855059 │                0.0825171 │    0.0196653 │        0.0283089 │                0.0297503 │       0.0222978 │\n",
      "├──────────────────────────────────────┼──────────────┼──────────────────────────┼──────────────┼──────────────────┼──────────────────────────┼─────────────────┤\n",
      "│ F1-score                             │    0.637426  │                0.717964  │    0.712403  │        0.701809  │                0.739772  │       0.733252  │\n",
      "├──────────────────────────────────────┼──────────────┼──────────────────────────┼──────────────┼──────────────────┼──────────────────────────┼─────────────────┤\n",
      "│ F1-score standard deviation          │    0.093591  │                0.0471935 │    0.0523523 │        0.0504553 │                0.0644163 │       0.0678752 │\n",
      "╘══════════════════════════════════════╧══════════════╧══════════════════════════╧══════════════╧══════════════════╧══════════════════════════╧═════════════════╛\n"
     ]
    }
   ],
   "source": [
    "table = [['Metric', 'Perceptron', 'Naive Bayes classifier', 'Linear SVM', 'Kernalised SVM', 'Multi layer perceptron', 'Random forest'],\n",
    "         ['Average accuracy', clfPerceptron.cv_results_['mean_test_accuracy'][clfPerceptron.best_index_], clfNaiveBayes.cv_results_['mean_test_accuracy'][clfNaiveBayes.best_index_], clfLinearSVM.cv_results_['mean_test_accuracy'][clfLinearSVM.best_index_], clfKernalisedSVM.cv_results_['mean_test_accuracy'][clfKernalisedSVM.best_index_], clfMLP.cv_results_['mean_test_accuracy'][clfMLP.best_index_], clfRandForest.cv_results_['mean_test_accuracy'][clfRandForest.best_index_]],\n",
    "         ['Accuracy standard deviation', clfPerceptron.cv_results_['std_test_accuracy'][clfPerceptron.best_index_], clfNaiveBayes.cv_results_['std_test_accuracy'][clfNaiveBayes.best_index_], clfLinearSVM.cv_results_['std_test_accuracy'][clfLinearSVM.best_index_], clfKernalisedSVM.cv_results_['std_test_accuracy'][clfKernalisedSVM.best_index_], clfMLP.cv_results_['std_test_accuracy'][clfMLP.best_index_], clfRandForest.cv_results_['std_test_accuracy'][clfRandForest.best_index_]],\n",
    "         ['Average balanced accuracy', clfPerceptron.cv_results_['mean_test_balanced_accuracy'][clfPerceptron.best_index_], clfNaiveBayes.cv_results_['mean_test_balanced_accuracy'][clfNaiveBayes.best_index_], clfLinearSVM.cv_results_['mean_test_balanced_accuracy'][clfLinearSVM.best_index_], clfKernalisedSVM.cv_results_['mean_test_balanced_accuracy'][clfKernalisedSVM.best_index_], clfMLP.cv_results_['mean_test_balanced_accuracy'][clfMLP.best_index_], clfRandForest.cv_results_['mean_test_balanced_accuracy'][clfRandForest.best_index_]],\n",
    "         ['Balanced accuracy standard deviation', clfPerceptron.cv_results_['std_test_balanced_accuracy'][clfPerceptron.best_index_], clfNaiveBayes.cv_results_['std_test_balanced_accuracy'][clfNaiveBayes.best_index_], clfLinearSVM.cv_results_['std_test_balanced_accuracy'][clfLinearSVM.best_index_], clfKernalisedSVM.cv_results_['std_test_balanced_accuracy'][clfKernalisedSVM.best_index_], clfMLP.cv_results_['std_test_balanced_accuracy'][clfMLP.best_index_], clfRandForest.cv_results_['std_test_balanced_accuracy'][clfRandForest.best_index_]],\n",
    "         ['Average AUC-ROC', clfPerceptron.cv_results_['mean_test_roc_auc'][clfPerceptron.best_index_], clfNaiveBayes.cv_results_['mean_test_roc_auc'][clfNaiveBayes.best_index_], clfLinearSVM.cv_results_['mean_test_roc_auc'][clfLinearSVM.best_index_], clfKernalisedSVM.cv_results_['mean_test_roc_auc'][clfKernalisedSVM.best_index_], clfMLP.cv_results_['mean_test_roc_auc'][clfMLP.best_index_], clfRandForest.cv_results_['mean_test_roc_auc'][clfRandForest.best_index_]],\n",
    "         ['AUC-ROC standard deviation', clfPerceptron.cv_results_['std_test_roc_auc'][clfPerceptron.best_index_], clfNaiveBayes.cv_results_['std_test_roc_auc'][clfNaiveBayes.best_index_], clfLinearSVM.cv_results_['std_test_roc_auc'][clfLinearSVM.best_index_], clfKernalisedSVM.cv_results_['std_test_roc_auc'][clfKernalisedSVM.best_index_], clfMLP.cv_results_['std_test_roc_auc'][clfMLP.best_index_], clfRandForest.cv_results_['std_test_roc_auc'][clfRandForest.best_index_]],\n",
    "         ['Average AUC-PR', clfPerceptron.cv_results_['mean_test_average_precision'][clfPerceptron.best_index_], clfNaiveBayes.cv_results_['mean_test_average_precision'][clfNaiveBayes.best_index_], clfLinearSVM.cv_results_['mean_test_average_precision'][clfLinearSVM.best_index_], clfKernalisedSVM.cv_results_['mean_test_average_precision'][clfKernalisedSVM.best_index_], clfMLP.cv_results_['mean_test_average_precision'][clfMLP.best_index_], clfRandForest.cv_results_['mean_test_average_precision'][clfRandForest.best_index_]],\n",
    "         ['AUC-PR standard deviation', clfPerceptron.cv_results_['std_test_average_precision'][clfPerceptron.best_index_], clfNaiveBayes.cv_results_['std_test_average_precision'][clfNaiveBayes.best_index_], clfLinearSVM.cv_results_['std_test_average_precision'][clfLinearSVM.best_index_], clfKernalisedSVM.cv_results_['std_test_average_precision'][clfKernalisedSVM.best_index_], clfMLP.cv_results_['std_test_average_precision'][clfMLP.best_index_], clfRandForest.cv_results_['std_test_average_precision'][clfRandForest.best_index_]],\n",
    "         ['F1-score', clfPerceptron.cv_results_['mean_test_f1'][clfPerceptron.best_index_], clfNaiveBayes.cv_results_['mean_test_f1'][clfNaiveBayes.best_index_], clfLinearSVM.cv_results_['mean_test_f1'][clfLinearSVM.best_index_], clfKernalisedSVM.cv_results_['mean_test_f1'][clfKernalisedSVM.best_index_], clfMLP.cv_results_['mean_test_f1'][clfMLP.best_index_], clfRandForest.cv_results_['mean_test_f1'][clfRandForest.best_index_]],\n",
    "         ['F1-score standard deviation', clfPerceptron.cv_results_['std_test_f1'][clfPerceptron.best_index_], clfNaiveBayes.cv_results_['std_test_f1'][clfNaiveBayes.best_index_], clfLinearSVM.cv_results_['std_test_f1'][clfLinearSVM.best_index_], clfKernalisedSVM.cv_results_['std_test_f1'][clfKernalisedSVM.best_index_], clfMLP.cv_results_['std_test_f1'][clfMLP.best_index_], clfRandForest.cv_results_['std_test_f1'][clfRandForest.best_index_]]]\n",
    "print(tabulate(table, headers='firstrow', tablefmt='fancy_grid'))"
   ]
  },
  {
   "attachments": {},
   "cell_type": "markdown",
   "metadata": {},
   "source": [
    "The above table shows that the multi layer perceptron works exceptionally well when comparing against all other models. Although its accuracy is not amazing, it still achieves a high 80%. Furthermore the only metric it falls behind significantly in is the f1 score, however considering its AUC-PR is higher than all other models, it's likelier that its generalisation is better than the other models (slightly than the random forest)"
   ]
  },
  {
   "attachments": {},
   "cell_type": "markdown",
   "metadata": {},
   "source": [
    "### Predicting the test data"
   ]
  },
  {
   "cell_type": "code",
   "execution_count": 15,
   "metadata": {},
   "outputs": [
    {
     "data": {
      "text/html": [
       "<div>\n",
       "<style scoped>\n",
       "    .dataframe tbody tr th:only-of-type {\n",
       "        vertical-align: middle;\n",
       "    }\n",
       "\n",
       "    .dataframe tbody tr th {\n",
       "        vertical-align: top;\n",
       "    }\n",
       "\n",
       "    .dataframe thead th {\n",
       "        text-align: right;\n",
       "    }\n",
       "</style>\n",
       "<table border=\"1\" class=\"dataframe\">\n",
       "  <thead>\n",
       "    <tr style=\"text-align: right;\">\n",
       "      <th></th>\n",
       "      <th>PassengerId</th>\n",
       "      <th>Pclass</th>\n",
       "      <th>Name</th>\n",
       "      <th>Sex</th>\n",
       "      <th>Age</th>\n",
       "      <th>SibSp</th>\n",
       "      <th>Parch</th>\n",
       "      <th>Ticket</th>\n",
       "      <th>Fare</th>\n",
       "      <th>Cabin</th>\n",
       "      <th>Embarked</th>\n",
       "    </tr>\n",
       "  </thead>\n",
       "  <tbody>\n",
       "    <tr>\n",
       "      <th>0</th>\n",
       "      <td>892</td>\n",
       "      <td>3</td>\n",
       "      <td>Kelly, Mr. James</td>\n",
       "      <td>male</td>\n",
       "      <td>34.5</td>\n",
       "      <td>0</td>\n",
       "      <td>0</td>\n",
       "      <td>330911</td>\n",
       "      <td>7.8292</td>\n",
       "      <td>NaN</td>\n",
       "      <td>Q</td>\n",
       "    </tr>\n",
       "    <tr>\n",
       "      <th>1</th>\n",
       "      <td>893</td>\n",
       "      <td>3</td>\n",
       "      <td>Wilkes, Mrs. James (Ellen Needs)</td>\n",
       "      <td>female</td>\n",
       "      <td>47.0</td>\n",
       "      <td>1</td>\n",
       "      <td>0</td>\n",
       "      <td>363272</td>\n",
       "      <td>7.0000</td>\n",
       "      <td>NaN</td>\n",
       "      <td>S</td>\n",
       "    </tr>\n",
       "    <tr>\n",
       "      <th>2</th>\n",
       "      <td>894</td>\n",
       "      <td>2</td>\n",
       "      <td>Myles, Mr. Thomas Francis</td>\n",
       "      <td>male</td>\n",
       "      <td>62.0</td>\n",
       "      <td>0</td>\n",
       "      <td>0</td>\n",
       "      <td>240276</td>\n",
       "      <td>9.6875</td>\n",
       "      <td>NaN</td>\n",
       "      <td>Q</td>\n",
       "    </tr>\n",
       "    <tr>\n",
       "      <th>3</th>\n",
       "      <td>895</td>\n",
       "      <td>3</td>\n",
       "      <td>Wirz, Mr. Albert</td>\n",
       "      <td>male</td>\n",
       "      <td>27.0</td>\n",
       "      <td>0</td>\n",
       "      <td>0</td>\n",
       "      <td>315154</td>\n",
       "      <td>8.6625</td>\n",
       "      <td>NaN</td>\n",
       "      <td>S</td>\n",
       "    </tr>\n",
       "    <tr>\n",
       "      <th>4</th>\n",
       "      <td>896</td>\n",
       "      <td>3</td>\n",
       "      <td>Hirvonen, Mrs. Alexander (Helga E Lindqvist)</td>\n",
       "      <td>female</td>\n",
       "      <td>22.0</td>\n",
       "      <td>1</td>\n",
       "      <td>1</td>\n",
       "      <td>3101298</td>\n",
       "      <td>12.2875</td>\n",
       "      <td>NaN</td>\n",
       "      <td>S</td>\n",
       "    </tr>\n",
       "    <tr>\n",
       "      <th>...</th>\n",
       "      <td>...</td>\n",
       "      <td>...</td>\n",
       "      <td>...</td>\n",
       "      <td>...</td>\n",
       "      <td>...</td>\n",
       "      <td>...</td>\n",
       "      <td>...</td>\n",
       "      <td>...</td>\n",
       "      <td>...</td>\n",
       "      <td>...</td>\n",
       "      <td>...</td>\n",
       "    </tr>\n",
       "    <tr>\n",
       "      <th>413</th>\n",
       "      <td>1305</td>\n",
       "      <td>3</td>\n",
       "      <td>Spector, Mr. Woolf</td>\n",
       "      <td>male</td>\n",
       "      <td>NaN</td>\n",
       "      <td>0</td>\n",
       "      <td>0</td>\n",
       "      <td>A.5. 3236</td>\n",
       "      <td>8.0500</td>\n",
       "      <td>NaN</td>\n",
       "      <td>S</td>\n",
       "    </tr>\n",
       "    <tr>\n",
       "      <th>414</th>\n",
       "      <td>1306</td>\n",
       "      <td>1</td>\n",
       "      <td>Oliva y Ocana, Dona. Fermina</td>\n",
       "      <td>female</td>\n",
       "      <td>39.0</td>\n",
       "      <td>0</td>\n",
       "      <td>0</td>\n",
       "      <td>PC 17758</td>\n",
       "      <td>108.9000</td>\n",
       "      <td>C105</td>\n",
       "      <td>C</td>\n",
       "    </tr>\n",
       "    <tr>\n",
       "      <th>415</th>\n",
       "      <td>1307</td>\n",
       "      <td>3</td>\n",
       "      <td>Saether, Mr. Simon Sivertsen</td>\n",
       "      <td>male</td>\n",
       "      <td>38.5</td>\n",
       "      <td>0</td>\n",
       "      <td>0</td>\n",
       "      <td>SOTON/O.Q. 3101262</td>\n",
       "      <td>7.2500</td>\n",
       "      <td>NaN</td>\n",
       "      <td>S</td>\n",
       "    </tr>\n",
       "    <tr>\n",
       "      <th>416</th>\n",
       "      <td>1308</td>\n",
       "      <td>3</td>\n",
       "      <td>Ware, Mr. Frederick</td>\n",
       "      <td>male</td>\n",
       "      <td>NaN</td>\n",
       "      <td>0</td>\n",
       "      <td>0</td>\n",
       "      <td>359309</td>\n",
       "      <td>8.0500</td>\n",
       "      <td>NaN</td>\n",
       "      <td>S</td>\n",
       "    </tr>\n",
       "    <tr>\n",
       "      <th>417</th>\n",
       "      <td>1309</td>\n",
       "      <td>3</td>\n",
       "      <td>Peter, Master. Michael J</td>\n",
       "      <td>male</td>\n",
       "      <td>NaN</td>\n",
       "      <td>1</td>\n",
       "      <td>1</td>\n",
       "      <td>2668</td>\n",
       "      <td>22.3583</td>\n",
       "      <td>NaN</td>\n",
       "      <td>C</td>\n",
       "    </tr>\n",
       "  </tbody>\n",
       "</table>\n",
       "<p>418 rows × 11 columns</p>\n",
       "</div>"
      ],
      "text/plain": [
       "     PassengerId  Pclass                                          Name  \\\n",
       "0            892       3                              Kelly, Mr. James   \n",
       "1            893       3              Wilkes, Mrs. James (Ellen Needs)   \n",
       "2            894       2                     Myles, Mr. Thomas Francis   \n",
       "3            895       3                              Wirz, Mr. Albert   \n",
       "4            896       3  Hirvonen, Mrs. Alexander (Helga E Lindqvist)   \n",
       "..           ...     ...                                           ...   \n",
       "413         1305       3                            Spector, Mr. Woolf   \n",
       "414         1306       1                  Oliva y Ocana, Dona. Fermina   \n",
       "415         1307       3                  Saether, Mr. Simon Sivertsen   \n",
       "416         1308       3                           Ware, Mr. Frederick   \n",
       "417         1309       3                      Peter, Master. Michael J   \n",
       "\n",
       "        Sex   Age  SibSp  Parch              Ticket      Fare Cabin Embarked  \n",
       "0      male  34.5      0      0              330911    7.8292   NaN        Q  \n",
       "1    female  47.0      1      0              363272    7.0000   NaN        S  \n",
       "2      male  62.0      0      0              240276    9.6875   NaN        Q  \n",
       "3      male  27.0      0      0              315154    8.6625   NaN        S  \n",
       "4    female  22.0      1      1             3101298   12.2875   NaN        S  \n",
       "..      ...   ...    ...    ...                 ...       ...   ...      ...  \n",
       "413    male   NaN      0      0           A.5. 3236    8.0500   NaN        S  \n",
       "414  female  39.0      0      0            PC 17758  108.9000  C105        C  \n",
       "415    male  38.5      0      0  SOTON/O.Q. 3101262    7.2500   NaN        S  \n",
       "416    male   NaN      0      0              359309    8.0500   NaN        S  \n",
       "417    male   NaN      1      1                2668   22.3583   NaN        C  \n",
       "\n",
       "[418 rows x 11 columns]"
      ]
     },
     "execution_count": 15,
     "metadata": {},
     "output_type": "execute_result"
    }
   ],
   "source": [
    "testData = pd.read_csv('test.csv')\n",
    "testData"
   ]
  },
  {
   "attachments": {},
   "cell_type": "markdown",
   "metadata": {},
   "source": [
    "Convert the data to the format used by the perceptron model"
   ]
  },
  {
   "cell_type": "code",
   "execution_count": 16,
   "metadata": {},
   "outputs": [
    {
     "data": {
      "text/html": [
       "<div>\n",
       "<style scoped>\n",
       "    .dataframe tbody tr th:only-of-type {\n",
       "        vertical-align: middle;\n",
       "    }\n",
       "\n",
       "    .dataframe tbody tr th {\n",
       "        vertical-align: top;\n",
       "    }\n",
       "\n",
       "    .dataframe thead th {\n",
       "        text-align: right;\n",
       "    }\n",
       "</style>\n",
       "<table border=\"1\" class=\"dataframe\">\n",
       "  <thead>\n",
       "    <tr style=\"text-align: right;\">\n",
       "      <th></th>\n",
       "      <th>Pclass</th>\n",
       "      <th>Age</th>\n",
       "      <th>SibSp</th>\n",
       "      <th>Parch</th>\n",
       "      <th>Fare</th>\n",
       "      <th>Sex_female</th>\n",
       "      <th>Sex_male</th>\n",
       "      <th>Embarked_C</th>\n",
       "      <th>Embarked_Q</th>\n",
       "      <th>Embarked_S</th>\n",
       "    </tr>\n",
       "  </thead>\n",
       "  <tbody>\n",
       "    <tr>\n",
       "      <th>0</th>\n",
       "      <td>3</td>\n",
       "      <td>34.5</td>\n",
       "      <td>0</td>\n",
       "      <td>0</td>\n",
       "      <td>7.8292</td>\n",
       "      <td>0.0</td>\n",
       "      <td>1.0</td>\n",
       "      <td>0.0</td>\n",
       "      <td>1.0</td>\n",
       "      <td>0.0</td>\n",
       "    </tr>\n",
       "    <tr>\n",
       "      <th>1</th>\n",
       "      <td>3</td>\n",
       "      <td>47.0</td>\n",
       "      <td>1</td>\n",
       "      <td>0</td>\n",
       "      <td>7.0000</td>\n",
       "      <td>1.0</td>\n",
       "      <td>0.0</td>\n",
       "      <td>0.0</td>\n",
       "      <td>0.0</td>\n",
       "      <td>1.0</td>\n",
       "    </tr>\n",
       "    <tr>\n",
       "      <th>2</th>\n",
       "      <td>2</td>\n",
       "      <td>62.0</td>\n",
       "      <td>0</td>\n",
       "      <td>0</td>\n",
       "      <td>9.6875</td>\n",
       "      <td>0.0</td>\n",
       "      <td>1.0</td>\n",
       "      <td>0.0</td>\n",
       "      <td>1.0</td>\n",
       "      <td>0.0</td>\n",
       "    </tr>\n",
       "    <tr>\n",
       "      <th>3</th>\n",
       "      <td>3</td>\n",
       "      <td>27.0</td>\n",
       "      <td>0</td>\n",
       "      <td>0</td>\n",
       "      <td>8.6625</td>\n",
       "      <td>0.0</td>\n",
       "      <td>1.0</td>\n",
       "      <td>0.0</td>\n",
       "      <td>0.0</td>\n",
       "      <td>1.0</td>\n",
       "    </tr>\n",
       "    <tr>\n",
       "      <th>4</th>\n",
       "      <td>3</td>\n",
       "      <td>22.0</td>\n",
       "      <td>1</td>\n",
       "      <td>1</td>\n",
       "      <td>12.2875</td>\n",
       "      <td>1.0</td>\n",
       "      <td>0.0</td>\n",
       "      <td>0.0</td>\n",
       "      <td>0.0</td>\n",
       "      <td>1.0</td>\n",
       "    </tr>\n",
       "    <tr>\n",
       "      <th>...</th>\n",
       "      <td>...</td>\n",
       "      <td>...</td>\n",
       "      <td>...</td>\n",
       "      <td>...</td>\n",
       "      <td>...</td>\n",
       "      <td>...</td>\n",
       "      <td>...</td>\n",
       "      <td>...</td>\n",
       "      <td>...</td>\n",
       "      <td>...</td>\n",
       "    </tr>\n",
       "    <tr>\n",
       "      <th>409</th>\n",
       "      <td>3</td>\n",
       "      <td>3.0</td>\n",
       "      <td>1</td>\n",
       "      <td>1</td>\n",
       "      <td>13.7750</td>\n",
       "      <td>1.0</td>\n",
       "      <td>0.0</td>\n",
       "      <td>0.0</td>\n",
       "      <td>0.0</td>\n",
       "      <td>1.0</td>\n",
       "    </tr>\n",
       "    <tr>\n",
       "      <th>411</th>\n",
       "      <td>1</td>\n",
       "      <td>37.0</td>\n",
       "      <td>1</td>\n",
       "      <td>0</td>\n",
       "      <td>90.0000</td>\n",
       "      <td>1.0</td>\n",
       "      <td>0.0</td>\n",
       "      <td>0.0</td>\n",
       "      <td>1.0</td>\n",
       "      <td>0.0</td>\n",
       "    </tr>\n",
       "    <tr>\n",
       "      <th>412</th>\n",
       "      <td>3</td>\n",
       "      <td>28.0</td>\n",
       "      <td>0</td>\n",
       "      <td>0</td>\n",
       "      <td>7.7750</td>\n",
       "      <td>1.0</td>\n",
       "      <td>0.0</td>\n",
       "      <td>0.0</td>\n",
       "      <td>0.0</td>\n",
       "      <td>1.0</td>\n",
       "    </tr>\n",
       "    <tr>\n",
       "      <th>414</th>\n",
       "      <td>1</td>\n",
       "      <td>39.0</td>\n",
       "      <td>0</td>\n",
       "      <td>0</td>\n",
       "      <td>108.9000</td>\n",
       "      <td>1.0</td>\n",
       "      <td>0.0</td>\n",
       "      <td>1.0</td>\n",
       "      <td>0.0</td>\n",
       "      <td>0.0</td>\n",
       "    </tr>\n",
       "    <tr>\n",
       "      <th>415</th>\n",
       "      <td>3</td>\n",
       "      <td>38.5</td>\n",
       "      <td>0</td>\n",
       "      <td>0</td>\n",
       "      <td>7.2500</td>\n",
       "      <td>0.0</td>\n",
       "      <td>1.0</td>\n",
       "      <td>0.0</td>\n",
       "      <td>0.0</td>\n",
       "      <td>1.0</td>\n",
       "    </tr>\n",
       "  </tbody>\n",
       "</table>\n",
       "<p>331 rows × 10 columns</p>\n",
       "</div>"
      ],
      "text/plain": [
       "     Pclass   Age  SibSp  Parch      Fare  Sex_female  Sex_male  Embarked_C  \\\n",
       "0         3  34.5      0      0    7.8292         0.0       1.0         0.0   \n",
       "1         3  47.0      1      0    7.0000         1.0       0.0         0.0   \n",
       "2         2  62.0      0      0    9.6875         0.0       1.0         0.0   \n",
       "3         3  27.0      0      0    8.6625         0.0       1.0         0.0   \n",
       "4         3  22.0      1      1   12.2875         1.0       0.0         0.0   \n",
       "..      ...   ...    ...    ...       ...         ...       ...         ...   \n",
       "409       3   3.0      1      1   13.7750         1.0       0.0         0.0   \n",
       "411       1  37.0      1      0   90.0000         1.0       0.0         0.0   \n",
       "412       3  28.0      0      0    7.7750         1.0       0.0         0.0   \n",
       "414       1  39.0      0      0  108.9000         1.0       0.0         1.0   \n",
       "415       3  38.5      0      0    7.2500         0.0       1.0         0.0   \n",
       "\n",
       "     Embarked_Q  Embarked_S  \n",
       "0           1.0         0.0  \n",
       "1           0.0         1.0  \n",
       "2           1.0         0.0  \n",
       "3           0.0         1.0  \n",
       "4           0.0         1.0  \n",
       "..          ...         ...  \n",
       "409         0.0         1.0  \n",
       "411         1.0         0.0  \n",
       "412         0.0         1.0  \n",
       "414         0.0         0.0  \n",
       "415         0.0         1.0  \n",
       "\n",
       "[331 rows x 10 columns]"
      ]
     },
     "execution_count": 16,
     "metadata": {},
     "output_type": "execute_result"
    }
   ],
   "source": [
    "# Convert the sex to numeric one hot encoding\n",
    "toNumeric = preprocessing.OneHotEncoder()\n",
    "sexTransformed = toNumeric.fit_transform(testData[[\"Sex\"]])\n",
    "sex = pd.DataFrame(sexTransformed.toarray(), columns = toNumeric.get_feature_names_out(['Sex']))\n",
    "\n",
    "# Convert the embarked to numeric one hot encoding\n",
    "toNumeric = preprocessing.OneHotEncoder()\n",
    "embarkedTransformed = toNumeric.fit_transform(testData[[\"Embarked\"]])\n",
    "embarked = pd.DataFrame(embarkedTransformed.toarray(), columns = toNumeric.get_feature_names_out(['Embarked']))\n",
    "\n",
    "# Get the Passenger class\n",
    "data = testData[[\"Pclass\", \"Age\", \"SibSp\", \"Parch\", \"Fare\"]]\n",
    "\n",
    "keys = data.columns.tolist() + sex.columns.tolist() + embarked.columns.tolist()\n",
    "newTestDataSet = pd.concat([data, sex, embarked[[\"Embarked_C\", \"Embarked_Q\", \"Embarked_S\"]]], ignore_index=True, axis=1)\n",
    "newTestDataSet.columns = keys\n",
    "\n",
    "xTest = newTestDataSet.dropna()\n",
    "\n",
    "xTest"
   ]
  },
  {
   "cell_type": "code",
   "execution_count": null,
   "metadata": {},
   "outputs": [],
   "source": []
  }
 ],
 "metadata": {
  "kernelspec": {
   "display_name": "Python 3",
   "language": "python",
   "name": "python3"
  },
  "language_info": {
   "codemirror_mode": {
    "name": "ipython",
    "version": 3
   },
   "file_extension": ".py",
   "mimetype": "text/x-python",
   "name": "python",
   "nbconvert_exporter": "python",
   "pygments_lexer": "ipython3",
   "version": "3.9.17"
  },
  "orig_nbformat": 4,
  "vscode": {
   "interpreter": {
    "hash": "397704579725e15f5c7cb49fe5f0341eb7531c82d19f2c29d197e8b64ab5776b"
   }
  }
 },
 "nbformat": 4,
 "nbformat_minor": 2
}
